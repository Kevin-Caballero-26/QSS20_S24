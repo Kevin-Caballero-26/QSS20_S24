{
 "cells": [
  {
   "cell_type": "code",
   "execution_count": 21,
   "id": "9f41b66a-5348-4fcd-be0d-4bf2ee846b60",
   "metadata": {},
   "outputs": [],
   "source": [
    "import pandas as pd\n",
    "import matplotlib.pyplot as plt\n",
    "\n",
    "file_path = \"C:/Users/cabal/Downloads/Ward_Offices_20240422.csv\"\n",
    "\n",
    "df = pd.read_csv(file_path)"
   ]
  },
  {
   "cell_type": "code",
   "execution_count": 23,
   "id": "492197a1-161f-4a10-be4e-4fe0fbc8af14",
   "metadata": {},
   "outputs": [
    {
     "data": {
      "text/html": [
       "<div>\n",
       "<style scoped>\n",
       "    .dataframe tbody tr th:only-of-type {\n",
       "        vertical-align: middle;\n",
       "    }\n",
       "\n",
       "    .dataframe tbody tr th {\n",
       "        vertical-align: top;\n",
       "    }\n",
       "\n",
       "    .dataframe thead th {\n",
       "        text-align: right;\n",
       "    }\n",
       "</style>\n",
       "<table border=\"1\" class=\"dataframe\">\n",
       "  <thead>\n",
       "    <tr style=\"text-align: right;\">\n",
       "      <th></th>\n",
       "      <th>WARD</th>\n",
       "      <th>ALDERMAN</th>\n",
       "      <th>ADDRESS</th>\n",
       "      <th>CITY</th>\n",
       "      <th>STATE</th>\n",
       "      <th>ZIPCODE</th>\n",
       "      <th>WARD PHONE</th>\n",
       "      <th>WARD FAX</th>\n",
       "      <th>EMAIL</th>\n",
       "      <th>WEBSITE</th>\n",
       "      <th>LOCATION</th>\n",
       "      <th>CITY HALL ADDRESS</th>\n",
       "      <th>CITY HALL CITY</th>\n",
       "      <th>CITY HALL STATE</th>\n",
       "      <th>CITY HALL ZIPCODE</th>\n",
       "      <th>CITY HALL PHONE</th>\n",
       "      <th>PHOTO LINK</th>\n",
       "    </tr>\n",
       "  </thead>\n",
       "  <tbody>\n",
       "  </tbody>\n",
       "</table>\n",
       "</div>"
      ],
      "text/plain": [
       "Empty DataFrame\n",
       "Columns: [WARD, ALDERMAN, ADDRESS, CITY, STATE, ZIPCODE, WARD PHONE, WARD FAX, EMAIL, WEBSITE, LOCATION, CITY HALL ADDRESS, CITY HALL CITY, CITY HALL STATE, CITY HALL ZIPCODE, CITY HALL PHONE, PHOTO LINK]\n",
       "Index: []"
      ]
     },
     "execution_count": 23,
     "metadata": {},
     "output_type": "execute_result"
    }
   ],
   "source": [
    "df[df[\"ZIPCODE\"] == \"60642\"]\n"
   ]
  }
 ],
 "metadata": {
  "kernelspec": {
   "display_name": "Python 3 (ipykernel)",
   "language": "python",
   "name": "python3"
  },
  "language_info": {
   "codemirror_mode": {
    "name": "ipython",
    "version": 3
   },
   "file_extension": ".py",
   "mimetype": "text/x-python",
   "name": "python",
   "nbconvert_exporter": "python",
   "pygments_lexer": "ipython3",
   "version": "3.11.7"
  }
 },
 "nbformat": 4,
 "nbformat_minor": 5
}
