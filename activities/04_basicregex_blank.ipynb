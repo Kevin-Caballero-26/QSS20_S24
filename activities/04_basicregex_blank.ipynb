{
 "cells": [
  {
   "cell_type": "markdown",
   "metadata": {},
   "source": [
    "# Imports"
   ]
  },
  {
   "cell_type": "code",
   "execution_count": 69,
   "metadata": {},
   "outputs": [],
   "source": [
    "## imports\n",
    "import pandas as pd\n",
    "import re\n",
    "import numpy as np\n",
    "\n",
    "## print multiple things from same cell\n",
    "from IPython.core.interactiveshell import InteractiveShell\n",
    "InteractiveShell.ast_node_interactivity = \"all\""
   ]
  },
  {
   "cell_type": "markdown",
   "metadata": {},
   "source": [
    "# Load data and show examples"
   ]
  },
  {
   "cell_type": "code",
   "execution_count": 70,
   "metadata": {},
   "outputs": [
    {
     "data": {
      "text/html": [
       "<div>\n",
       "<style scoped>\n",
       "    .dataframe tbody tr th:only-of-type {\n",
       "        vertical-align: middle;\n",
       "    }\n",
       "\n",
       "    .dataframe tbody tr th {\n",
       "        vertical-align: top;\n",
       "    }\n",
       "\n",
       "    .dataframe thead th {\n",
       "        text-align: right;\n",
       "    }\n",
       "</style>\n",
       "<table border=\"1\" class=\"dataframe\">\n",
       "  <thead>\n",
       "    <tr style=\"text-align: right;\">\n",
       "      <th></th>\n",
       "      <th>schoolname</th>\n",
       "      <th>individualispjune2020</th>\n",
       "      <th>participatingincepsy2021</th>\n",
       "      <th>is_elem_exercise</th>\n",
       "      <th>is_charter_exercise</th>\n",
       "      <th>is_highschool_exercise</th>\n",
       "    </tr>\n",
       "  </thead>\n",
       "  <tbody>\n",
       "    <tr>\n",
       "      <th>0</th>\n",
       "      <td>stove prairie elementary school</td>\n",
       "      <td>0</td>\n",
       "      <td>N</td>\n",
       "      <td>True</td>\n",
       "      <td>False</td>\n",
       "      <td>False</td>\n",
       "    </tr>\n",
       "    <tr>\n",
       "      <th>1</th>\n",
       "      <td>stewart county elementary school</td>\n",
       "      <td>0.7603</td>\n",
       "      <td>Y</td>\n",
       "      <td>True</td>\n",
       "      <td>False</td>\n",
       "      <td>False</td>\n",
       "    </tr>\n",
       "    <tr>\n",
       "      <th>2</th>\n",
       "      <td>desert springs elementary school</td>\n",
       "      <td>NaN</td>\n",
       "      <td>N</td>\n",
       "      <td>True</td>\n",
       "      <td>False</td>\n",
       "      <td>False</td>\n",
       "    </tr>\n",
       "    <tr>\n",
       "      <th>3</th>\n",
       "      <td>saunemin elem school</td>\n",
       "      <td>0.38939999999999997</td>\n",
       "      <td>N</td>\n",
       "      <td>True</td>\n",
       "      <td>False</td>\n",
       "      <td>False</td>\n",
       "    </tr>\n",
       "    <tr>\n",
       "      <th>4</th>\n",
       "      <td>fifth district elementary</td>\n",
       "      <td>0.0275</td>\n",
       "      <td>N</td>\n",
       "      <td>True</td>\n",
       "      <td>False</td>\n",
       "      <td>False</td>\n",
       "    </tr>\n",
       "  </tbody>\n",
       "</table>\n",
       "</div>"
      ],
      "text/plain": [
       "                         schoolname individualispjune2020  \\\n",
       "0   stove prairie elementary school                     0   \n",
       "1  stewart county elementary school                0.7603   \n",
       "2  desert springs elementary school                   NaN   \n",
       "3              saunemin elem school   0.38939999999999997   \n",
       "4         fifth district elementary                0.0275   \n",
       "\n",
       "  participatingincepsy2021  is_elem_exercise  is_charter_exercise  \\\n",
       "0                        N              True                False   \n",
       "1                        Y              True                False   \n",
       "2                        N              True                False   \n",
       "3                        N              True                False   \n",
       "4                        N              True                False   \n",
       "\n",
       "   is_highschool_exercise  \n",
       "0                   False  \n",
       "1                   False  \n",
       "2                   False  \n",
       "3                   False  \n",
       "4                   False  "
      ]
     },
     "execution_count": 70,
     "metadata": {},
     "output_type": "execute_result"
    }
   ],
   "source": [
    "df= schools_df = pd.read_csv(\"../public_data/schools_df.csv\")\n",
    "schools_df.head()"
   ]
  },
  {
   "cell_type": "markdown",
   "metadata": {},
   "source": [
    "# re.sub illustration\n",
    "\n",
    "**Task**: \n",
    "\n",
    "- Use the `school_df` dataset and filter to `is_elem_exercise` == True \n",
    "- Using the `schoolname` field, replace the different varieties of elementary school in the data with `elemschool` "
   ]
  },
  {
   "cell_type": "markdown",
   "metadata": {},
   "source": [
    "## Creating a new data set only with elementary schools \n",
    "\n",
    "Returns incorrect results that we'll see below"
   ]
  },
  {
   "cell_type": "code",
   "execution_count": 71,
   "metadata": {},
   "outputs": [
    {
     "data": {
      "text/html": [
       "<div>\n",
       "<style scoped>\n",
       "    .dataframe tbody tr th:only-of-type {\n",
       "        vertical-align: middle;\n",
       "    }\n",
       "\n",
       "    .dataframe tbody tr th {\n",
       "        vertical-align: top;\n",
       "    }\n",
       "\n",
       "    .dataframe thead th {\n",
       "        text-align: right;\n",
       "    }\n",
       "</style>\n",
       "<table border=\"1\" class=\"dataframe\">\n",
       "  <thead>\n",
       "    <tr style=\"text-align: right;\">\n",
       "      <th></th>\n",
       "      <th>schoolname</th>\n",
       "      <th>individualispjune2020</th>\n",
       "      <th>participatingincepsy2021</th>\n",
       "      <th>is_elem_exercise</th>\n",
       "      <th>is_charter_exercise</th>\n",
       "      <th>is_highschool_exercise</th>\n",
       "    </tr>\n",
       "  </thead>\n",
       "  <tbody>\n",
       "    <tr>\n",
       "      <th>0</th>\n",
       "      <td>stove prairie elementary school</td>\n",
       "      <td>0</td>\n",
       "      <td>N</td>\n",
       "      <td>True</td>\n",
       "      <td>False</td>\n",
       "      <td>False</td>\n",
       "    </tr>\n",
       "    <tr>\n",
       "      <th>1</th>\n",
       "      <td>stewart county elementary school</td>\n",
       "      <td>0.7603</td>\n",
       "      <td>Y</td>\n",
       "      <td>True</td>\n",
       "      <td>False</td>\n",
       "      <td>False</td>\n",
       "    </tr>\n",
       "    <tr>\n",
       "      <th>2</th>\n",
       "      <td>desert springs elementary school</td>\n",
       "      <td>NaN</td>\n",
       "      <td>N</td>\n",
       "      <td>True</td>\n",
       "      <td>False</td>\n",
       "      <td>False</td>\n",
       "    </tr>\n",
       "    <tr>\n",
       "      <th>3</th>\n",
       "      <td>saunemin elem school</td>\n",
       "      <td>0.38939999999999997</td>\n",
       "      <td>N</td>\n",
       "      <td>True</td>\n",
       "      <td>False</td>\n",
       "      <td>False</td>\n",
       "    </tr>\n",
       "    <tr>\n",
       "      <th>4</th>\n",
       "      <td>fifth district elementary</td>\n",
       "      <td>0.0275</td>\n",
       "      <td>N</td>\n",
       "      <td>True</td>\n",
       "      <td>False</td>\n",
       "      <td>False</td>\n",
       "    </tr>\n",
       "  </tbody>\n",
       "</table>\n",
       "</div>"
      ],
      "text/plain": [
       "                         schoolname individualispjune2020  \\\n",
       "0   stove prairie elementary school                     0   \n",
       "1  stewart county elementary school                0.7603   \n",
       "2  desert springs elementary school                   NaN   \n",
       "3              saunemin elem school   0.38939999999999997   \n",
       "4         fifth district elementary                0.0275   \n",
       "\n",
       "  participatingincepsy2021  is_elem_exercise  is_charter_exercise  \\\n",
       "0                        N              True                False   \n",
       "1                        Y              True                False   \n",
       "2                        N              True                False   \n",
       "3                        N              True                False   \n",
       "4                        N              True                False   \n",
       "\n",
       "   is_highschool_exercise  \n",
       "0                   False  \n",
       "1                   False  \n",
       "2                   False  \n",
       "3                   False  \n",
       "4                   False  "
      ]
     },
     "execution_count": 71,
     "metadata": {},
     "output_type": "execute_result"
    }
   ],
   "source": [
    "# Creates a new dataFrame containing only schools that are elementary schools\n",
    "elem_ex = schools_df[schools_df.is_elem_exercise].copy() # The .copy() method creates a new data frame so they WILL not affect each other\n",
    "\n",
    "elem_ex.head()"
   ]
  },
  {
   "cell_type": "markdown",
   "metadata": {},
   "source": [
    "# Regex Syntax\n",
    "\n",
    "* r\"String\" converts our string into a RAW string meaning special charachters in python are just normal charachters. Example \\n in python is the tab feature, when converted into a raw string it is just \\n as normal charachters does not tab our string\n",
    "\n",
    "* re.sub(pattern, replacement, string). Pattern is what we are searching for to replace, replacement is the what we are replacing it with and string is the string we are performing the subsitution on\n",
    "\n",
    "* sub is useful when we need to substitute lots of data given a pattern\n",
    "“\\d{1,3}”\r\n"
   ]
  },
  {
   "cell_type": "markdown",
   "metadata": {},
   "source": [
    "## A correct approach\n",
    "\n",
    "Addresses issues above with `elementary school` and `elem.`"
   ]
  },
  {
   "cell_type": "code",
   "execution_count": 72,
   "metadata": {},
   "outputs": [
    {
     "data": {
      "text/html": [
       "<div>\n",
       "<style scoped>\n",
       "    .dataframe tbody tr th:only-of-type {\n",
       "        vertical-align: middle;\n",
       "    }\n",
       "\n",
       "    .dataframe tbody tr th {\n",
       "        vertical-align: top;\n",
       "    }\n",
       "\n",
       "    .dataframe thead th {\n",
       "        text-align: right;\n",
       "    }\n",
       "</style>\n",
       "<table border=\"1\" class=\"dataframe\">\n",
       "  <thead>\n",
       "    <tr style=\"text-align: right;\">\n",
       "      <th></th>\n",
       "      <th>schoolname</th>\n",
       "      <th>cleaned_name</th>\n",
       "    </tr>\n",
       "  </thead>\n",
       "  <tbody>\n",
       "    <tr>\n",
       "      <th>0</th>\n",
       "      <td>stove prairie elementary school</td>\n",
       "      <td>stove prairie elemschool</td>\n",
       "    </tr>\n",
       "    <tr>\n",
       "      <th>1</th>\n",
       "      <td>stewart county elementary school</td>\n",
       "      <td>stewart county elemschool</td>\n",
       "    </tr>\n",
       "    <tr>\n",
       "      <th>2</th>\n",
       "      <td>desert springs elementary school</td>\n",
       "      <td>desert springs elemschool</td>\n",
       "    </tr>\n",
       "    <tr>\n",
       "      <th>3</th>\n",
       "      <td>saunemin elem school</td>\n",
       "      <td>saunemin elemschool</td>\n",
       "    </tr>\n",
       "    <tr>\n",
       "      <th>4</th>\n",
       "      <td>fifth district elementary</td>\n",
       "      <td>fifth district elemschool</td>\n",
       "    </tr>\n",
       "    <tr>\n",
       "      <th>5</th>\n",
       "      <td>paint branch elementary</td>\n",
       "      <td>paint branch elemschool</td>\n",
       "    </tr>\n",
       "    <tr>\n",
       "      <th>6</th>\n",
       "      <td>oak hill elem.</td>\n",
       "      <td>oak hill elemschool</td>\n",
       "    </tr>\n",
       "    <tr>\n",
       "      <th>7</th>\n",
       "      <td>lewis and clark elem.</td>\n",
       "      <td>lewis and clark elemschool</td>\n",
       "    </tr>\n",
       "    <tr>\n",
       "      <th>8</th>\n",
       "      <td>linden elementary school</td>\n",
       "      <td>linden elemschool</td>\n",
       "    </tr>\n",
       "    <tr>\n",
       "      <th>9</th>\n",
       "      <td>winchester avenue elementary school</td>\n",
       "      <td>winchester avenue elemschool</td>\n",
       "    </tr>\n",
       "  </tbody>\n",
       "</table>\n",
       "</div>"
      ],
      "text/plain": [
       "                            schoolname                  cleaned_name\n",
       "0      stove prairie elementary school      stove prairie elemschool\n",
       "1     stewart county elementary school     stewart county elemschool\n",
       "2     desert springs elementary school     desert springs elemschool\n",
       "3                 saunemin elem school           saunemin elemschool\n",
       "4            fifth district elementary     fifth district elemschool\n",
       "5              paint branch elementary       paint branch elemschool\n",
       "6                       oak hill elem.           oak hill elemschool\n",
       "7                lewis and clark elem.    lewis and clark elemschool\n",
       "8             linden elementary school             linden elemschool\n",
       "9  winchester avenue elementary school  winchester avenue elemschool"
      ]
     },
     "execution_count": 72,
     "metadata": {},
     "output_type": "execute_result"
    }
   ],
   "source": [
    "# this is our pattern. Converts our string into RAW String using r\n",
    "# \\s+ says it can have indefinite number of spaces\n",
    "# elem.* says as long as it includes \"elem\" or any other charachter after like (elem)entary\n",
    "# then the ? says that anything after that is optional, may include or may not include it\n",
    "elem_pattern_try2 = r\"(elem.*)(\\s+)?(school)?\"\n",
    "\n",
    "# Creates a list of the new names for our schools\n",
    "#replaces any of the patterns from above with \"elemschool\" and does this in a for loop with all schools in our data frame\n",
    "new_schools_try2 = [re.sub(elem_pattern_try2, \"elemschool\", school) \n",
    "                    for school in elem_ex.schoolname]    \n",
    "\n",
    "# actually goes and creates a new column using the list we made above\n",
    "elem_ex['cleaned_name'] = new_schools_try2\n",
    "\n",
    "# prints out our new column and the original column\n",
    "elem_ex[[\"schoolname\", \"cleaned_name\"]]"
   ]
  },
  {
   "cell_type": "markdown",
   "metadata": {},
   "source": [
    "# re.findall and re.search illustrations"
   ]
  },
  {
   "cell_type": "markdown",
   "metadata": {},
   "source": [
    "**Task**: \n",
    "\n",
    "- Filter to `is_charter_exercise` == True; note that this contains a mix of schools with charter in the name and schools without\n",
    "- Construct a pattern that, for charter schools, gets the school name prior to appearance of the word charter. School names without charter will not have matches (so Hanover Charter becomes Hanover; Hanover High stays Hanover High)\n"
   ]
  },
  {
   "cell_type": "markdown",
   "metadata": {},
   "source": [
    "## re.findall "
   ]
  },
  {
   "cell_type": "code",
   "execution_count": 73,
   "metadata": {},
   "outputs": [
    {
     "data": {
      "text/html": [
       "<div>\n",
       "<style scoped>\n",
       "    .dataframe tbody tr th:only-of-type {\n",
       "        vertical-align: middle;\n",
       "    }\n",
       "\n",
       "    .dataframe tbody tr th {\n",
       "        vertical-align: top;\n",
       "    }\n",
       "\n",
       "    .dataframe thead th {\n",
       "        text-align: right;\n",
       "    }\n",
       "</style>\n",
       "<table border=\"1\" class=\"dataframe\">\n",
       "  <thead>\n",
       "    <tr style=\"text-align: right;\">\n",
       "      <th></th>\n",
       "      <th>schoolname</th>\n",
       "      <th>individualispjune2020</th>\n",
       "      <th>participatingincepsy2021</th>\n",
       "      <th>is_elem_exercise</th>\n",
       "      <th>is_charter_exercise</th>\n",
       "      <th>is_highschool_exercise</th>\n",
       "    </tr>\n",
       "  </thead>\n",
       "  <tbody>\n",
       "    <tr>\n",
       "      <th>10</th>\n",
       "      <td>frontier elementary school</td>\n",
       "      <td>8.51%</td>\n",
       "      <td>N</td>\n",
       "      <td>False</td>\n",
       "      <td>True</td>\n",
       "      <td>False</td>\n",
       "    </tr>\n",
       "    <tr>\n",
       "      <th>11</th>\n",
       "      <td>life source international charter</td>\n",
       "      <td>0.7201946472019465</td>\n",
       "      <td>Y</td>\n",
       "      <td>False</td>\n",
       "      <td>True</td>\n",
       "      <td>False</td>\n",
       "    </tr>\n",
       "    <tr>\n",
       "      <th>12</th>\n",
       "      <td>east valley senior high</td>\n",
       "      <td>0.45807770961145194</td>\n",
       "      <td>Y</td>\n",
       "      <td>False</td>\n",
       "      <td>True</td>\n",
       "      <td>False</td>\n",
       "    </tr>\n",
       "    <tr>\n",
       "      <th>13</th>\n",
       "      <td>children's community charter</td>\n",
       "      <td>0.8888888888888888</td>\n",
       "      <td>Y</td>\n",
       "      <td>False</td>\n",
       "      <td>True</td>\n",
       "      <td>False</td>\n",
       "    </tr>\n",
       "    <tr>\n",
       "      <th>14</th>\n",
       "      <td>south fork elementary</td>\n",
       "      <td>0.49640287769784175</td>\n",
       "      <td>Y</td>\n",
       "      <td>False</td>\n",
       "      <td>True</td>\n",
       "      <td>False</td>\n",
       "    </tr>\n",
       "    <tr>\n",
       "      <th>15</th>\n",
       "      <td>thomas edison charter academy                 ...</td>\n",
       "      <td>0.2855191256830601</td>\n",
       "      <td>N</td>\n",
       "      <td>False</td>\n",
       "      <td>True</td>\n",
       "      <td>False</td>\n",
       "    </tr>\n",
       "  </tbody>\n",
       "</table>\n",
       "</div>"
      ],
      "text/plain": [
       "                                           schoolname individualispjune2020  \\\n",
       "10                         frontier elementary school                 8.51%   \n",
       "11                  life source international charter    0.7201946472019465   \n",
       "12                            east valley senior high   0.45807770961145194   \n",
       "13                       children's community charter    0.8888888888888888   \n",
       "14                              south fork elementary   0.49640287769784175   \n",
       "15  thomas edison charter academy                 ...    0.2855191256830601   \n",
       "\n",
       "   participatingincepsy2021  is_elem_exercise  is_charter_exercise  \\\n",
       "10                        N             False                 True   \n",
       "11                        Y             False                 True   \n",
       "12                        Y             False                 True   \n",
       "13                        Y             False                 True   \n",
       "14                        Y             False                 True   \n",
       "15                        N             False                 True   \n",
       "\n",
       "    is_highschool_exercise  \n",
       "10                   False  \n",
       "11                   False  \n",
       "12                   False  \n",
       "13                   False  \n",
       "14                   False  \n",
       "15                   False  "
      ]
     },
     "execution_count": 73,
     "metadata": {},
     "output_type": "execute_result"
    }
   ],
   "source": [
    "## filter to charter exercise\n",
    "charter_ex = schools_df[schools_df.is_charter_exercise].copy() # Creates new data frame with only schools that is_charter_exercise is true\n",
    "charter_ex.head(6)"
   ]
  },
  {
   "cell_type": "markdown",
   "metadata": {},
   "source": [
    "# Findall method from re\n",
    "\n",
    "* re.findall(pattern, string, flags=0)\n",
    "* flags is an optional parameter not needed, used when we care about capitalization, case sensitivity or anything like that\n",
    "* pattern is the pattern we are searching for in the string\n",
    "* string is the actual string that we are searching in\n",
    "* similar to re.sub just that it does not actually replace anything just finds them\n",
    "* findall, will return the actual pattern and how it is written vs search will return something similar to a boolean only telling us if it matches the pattern or not\r",
    "\r\n"
   ]
  },
  {
   "cell_type": "code",
   "execution_count": 74,
   "metadata": {},
   "outputs": [
    {
     "data": {
      "text/plain": [
       "[[],\n",
       " [('life source international', 'charter', '', '')],\n",
       " [],\n",
       " [(\"children's community\", 'charter', '', '')],\n",
       " [],\n",
       " [('thomas edison', 'charter', ' ', 'academy')],\n",
       " [('moving everest', 'charter', ' ', 'school')],\n",
       " [],\n",
       " [],\n",
       " [('south valley academy', 'charter', ' ', 'school')],\n",
       " [('brighter choice', 'charter', ' ', 'school')],\n",
       " [('buffalo collegiate', 'charter', ' ', 'school')],\n",
       " [('neighborhood', 'charter', ' ', 'school')],\n",
       " [],\n",
       " [],\n",
       " []]"
      ]
     },
     "execution_count": 74,
     "metadata": {},
     "output_type": "execute_result"
    }
   ],
   "source": [
    "## charter pattern\n",
    "# looks for any string that contains the word charter\n",
    "# our pattern apears to be returing a list of list breaking things down further\n",
    "charter_pattern = r\"(.*)\\s+(charter)(\\s+)?(\\w+)?\"\n",
    "\n",
    "## findall, searches the name of all the schools in our data base and creates a list of list \n",
    "test_charter_findall = [re.findall(charter_pattern, school)\n",
    "                        for school in charter_ex.schoolname]\n",
    "\n",
    "## print result\n",
    "test_charter_findall"
   ]
  },
  {
   "cell_type": "code",
   "execution_count": 7,
   "metadata": {},
   "outputs": [
    {
     "name": "stdout",
     "output_type": "stream",
     "text": [
      "life source international\n"
     ]
    }
   ],
   "source": [
    "## show example of one\n",
    "print(test_charter_findall[1][0][0])"
   ]
  },
  {
   "cell_type": "markdown",
   "metadata": {},
   "source": [
    "## re.search"
   ]
  },
  {
   "cell_type": "code",
   "execution_count": 75,
   "metadata": {},
   "outputs": [
    {
     "data": {
      "text/plain": [
       "[None,\n",
       " <re.Match object; span=(0, 33), match='life source international charter'>,\n",
       " None,\n",
       " <re.Match object; span=(0, 28), match=\"children's community charter\">,\n",
       " None,\n",
       " <re.Match object; span=(0, 29), match='thomas edison charter academy'>,\n",
       " <re.Match object; span=(0, 29), match='moving everest charter school'>,\n",
       " None,\n",
       " None,\n",
       " <re.Match object; span=(0, 35), match='south valley academy charter school'>,\n",
       " <re.Match object; span=(0, 30), match='brighter choice charter school'>,\n",
       " <re.Match object; span=(0, 33), match='buffalo collegiate charter school'>,\n",
       " <re.Match object; span=(0, 27), match='neighborhood charter school'>,\n",
       " None,\n",
       " None,\n",
       " None]"
      ]
     },
     "execution_count": 75,
     "metadata": {},
     "output_type": "execute_result"
    }
   ],
   "source": [
    "# re.search(pattern, string, flag) similar as the re.findall method just that is doesnt return the actual string rather just a statement if it matches\n",
    "# or not\n",
    "\n",
    "\n",
    "## get matches\n",
    "# uses the same pattern as above\n",
    "test_charter_search = [re.search(charter_pattern, school) \n",
    "                       for school in charter_ex.schoolname]\n",
    "\n",
    "test_charter_search\n"
   ]
  },
  {
   "cell_type": "code",
   "execution_count": 76,
   "metadata": {},
   "outputs": [
    {
     "data": {
      "text/plain": [
       "<re.Match object; span=(0, 29), match='thomas edison charter academy'>"
      ]
     },
     "execution_count": 76,
     "metadata": {},
     "output_type": "execute_result"
    },
    {
     "data": {
      "text/plain": [
       "'thomas edison'"
      ]
     },
     "execution_count": 76,
     "metadata": {},
     "output_type": "execute_result"
    }
   ],
   "source": [
    "## extract matches\n",
    "\n",
    "### here, we're just focusing on the 3rd match or the 6th entry wich is index 5 (thomas edison charter academy)\n",
    "### and we're getting the first group from that match\n",
    "thomas_match = test_charter_search[5]\n",
    "thomas_match\n",
    "\n",
    "### example where we're just getting the first group\n",
    "### (name of school before charter)\n",
    "thomas_firstgroup = thomas_match.group(1) # iterates over all the groups in that string based on the pattern and returns the item at that index, index 0\n",
    "# is just the entire string\n",
    "thomas_firstgroup\n"
   ]
  },
  {
   "cell_type": "code",
   "execution_count": 77,
   "metadata": {},
   "outputs": [
    {
     "name": "stdout",
     "output_type": "stream",
     "text": [
      "Group 0 is: \n",
      "thomas edison charter academy\n",
      "Group 1 is: \n",
      "thomas edison\n",
      "Group 2 is: \n",
      "charter\n",
      "Group 3 is: \n",
      " \n",
      "Group 4 is: \n",
      "academy\n"
     ]
    }
   ],
   "source": [
    "# Look at how grouping works\n",
    "\n",
    "### iterate over all groups and print\n",
    "for i in range(0, len(thomas_match.groups())+1):\n",
    "    print(\"Group \" + str(i) + \" is: \")\n",
    "    print(thomas_match.group(i))\n",
    "\n",
    "## see error if we go beyond actual number of\n",
    "## groups thomas_match.group(5)"
   ]
  },
  {
   "cell_type": "code",
   "execution_count": 78,
   "metadata": {},
   "outputs": [
    {
     "data": {
      "text/plain": [
       "('thomas edison', 'charter', ' ', 'academy')"
      ]
     },
     "execution_count": 78,
     "metadata": {},
     "output_type": "execute_result"
    },
    {
     "data": {
      "text/plain": [
       "('thomas edison', 'charter')"
      ]
     },
     "execution_count": 78,
     "metadata": {},
     "output_type": "execute_result"
    }
   ],
   "source": [
    "## can also extract the groups as a tuple\n",
    "## example- want to return group 1 and group 2 and paste together\n",
    "thomas_groups_all = thomas_match.groups()\n",
    "thomas_groups_all\n",
    "\n",
    "## slice the tuple\n",
    "thomas_groups_all[0:2]\n"
   ]
  },
  {
   "cell_type": "code",
   "execution_count": 79,
   "metadata": {},
   "outputs": [
    {
     "data": {
      "text/plain": [
       "['',\n",
       " 'life source international',\n",
       " '',\n",
       " \"children's community\",\n",
       " '',\n",
       " 'thomas edison',\n",
       " 'moving everest',\n",
       " '',\n",
       " '',\n",
       " 'south valley academy',\n",
       " 'brighter choice',\n",
       " 'buffalo collegiate',\n",
       " 'neighborhood',\n",
       " '',\n",
       " '',\n",
       " '']"
      ]
     },
     "execution_count": 79,
     "metadata": {},
     "output_type": "execute_result"
    }
   ],
   "source": [
    "## can generalize to the full list with ifelse\n",
    "def get_precharter_name(one_matchobj):\n",
    "    \n",
    "    if one_matchobj:\n",
    "        school_name = one_matchobj.group(1)\n",
    "    else:\n",
    "        school_name = \"\"\n",
    "    \n",
    "    return(school_name)\n",
    "\n",
    "all_charter_match = [get_precharter_name(one_search) \n",
    "                    for one_search in test_charter_search]\n",
    "\n",
    "all_charter_match"
   ]
  },
  {
   "cell_type": "markdown",
   "metadata": {},
   "source": [
    "# Group activity\n",
    "\n",
    "## Part 1: Subsetting\n",
    "Filter the data to only those rows where `is_highschool_exercise` is True."
   ]
  },
  {
   "cell_type": "code",
   "execution_count": 80,
   "metadata": {},
   "outputs": [
    {
     "data": {
      "text/plain": [
       "array(['mount pleasant area jshs', 'huron high school',\n",
       "       'thomson high school',\n",
       "       'kings county office of education highland facility',\n",
       "       'clovis east high', 'camden jr. high school',\n",
       "       'jackson junior high', 'emmett junior high school', 'atkins high',\n",
       "       'lexington senior high', 'temple hs', 'forest hill high school',\n",
       "       'pittsfield high', 'matanzas high school', 'pontiac high school'],\n",
       "      dtype=object)"
      ]
     },
     "execution_count": 80,
     "metadata": {},
     "output_type": "execute_result"
    }
   ],
   "source": [
    "# your code here to filter high school data\n",
    "\n",
    "df2 = high_school_data_frame = df[df[\"is_highschool_exercise\"] == True].copy()\n",
    "df2 = df2.reset_index(drop = True)\n",
    "\n",
    "df2.schoolname.unique()\n"
   ]
  },
  {
   "cell_type": "markdown",
   "metadata": {},
   "source": [
    "## Part 2: Standardizing names\n",
    "To find the names of high schools, try out some regex patterns to standardize the high school names (e.g., 'high school' and 'high' could both become 'highschool'). AKA make everything 'highschool.'\n",
    "\n",
    "**Hint:** Look at the school names for hints on what to avoid matching--e.g., 'highland facility'. To avoid things like this, after 'high' or 'hs', have your pattern look for a space (`\\s`) or the end of the string (`$`). "
   ]
  },
  {
   "cell_type": "code",
   "execution_count": 86,
   "metadata": {},
   "outputs": [
    {
     "data": {
      "text/plain": [
       "[[('jshs', '')],\n",
       " [('high school', ' school')],\n",
       " [('high school', ' school')],\n",
       " [],\n",
       " [('high', '')],\n",
       " [('high school', ' school')],\n",
       " [('high', '')],\n",
       " [('high school', ' school')],\n",
       " [('high', '')],\n",
       " [('high', '')],\n",
       " [('hs', '')],\n",
       " [('high school', ' school')],\n",
       " [('high', '')],\n",
       " [('high school', ' school')],\n",
       " [('high school', ' school')]]"
      ]
     },
     "execution_count": 86,
     "metadata": {},
     "output_type": "execute_result"
    }
   ],
   "source": [
    "# your code pattern here\n",
    "hs_sub_pattern = r\"(jshs|high(\\s.*|$)|hs)\"\n",
    "\n",
    "test_high_findall = [ re.findall(hs_sub_pattern, school)\n",
    "    for school in df2[\"schoolname\"]\n",
    "]\n",
    "\n",
    "test_high_findall # this is a series \n",
    "\n",
    "# What is a series? Each column is considered a series in DF but in pandas a series is just a more advnaced list\n"
   ]
  },
  {
   "cell_type": "code",
   "execution_count": 89,
   "metadata": {},
   "outputs": [
    {
     "data": {
      "text/plain": [
       "['mount pleasant area highschool',\n",
       " 'huron highschool',\n",
       " 'thomson highschool',\n",
       " 'kings county office of education highland facility',\n",
       " 'clovis east highschool',\n",
       " 'camden jr. highschool',\n",
       " 'jackson junior highschool',\n",
       " 'emmett junior highschool',\n",
       " 'atkins highschool',\n",
       " 'lexington senior highschool',\n",
       " 'temple highschool',\n",
       " 'forest hill highschool',\n",
       " 'pittsfield highschool',\n",
       " 'matanzas highschool',\n",
       " 'pontiac highschool']"
      ]
     },
     "execution_count": 89,
     "metadata": {},
     "output_type": "execute_result"
    }
   ],
   "source": [
    "[re.sub(hs_sub_pattern, \"highschool\", x) for x in df2[\"schoolname\"]]"
   ]
  },
  {
   "cell_type": "markdown",
   "metadata": {},
   "source": [
    "## Part 3: Match schools\n",
    "Using some example results, try writing a regex pattern and using `re.match` to get the name of the school that precedes the 'highschool' part of the name (e.g., 'new trier highschool' -> 'new trier')"
   ]
  },
  {
   "cell_type": "code",
   "execution_count": null,
   "metadata": {},
   "outputs": [],
   "source": [
    "# your code here to extract names of high schools"
   ]
  },
  {
   "cell_type": "code",
   "execution_count": null,
   "metadata": {},
   "outputs": [],
   "source": []
  },
  {
   "cell_type": "code",
   "execution_count": null,
   "metadata": {},
   "outputs": [],
   "source": []
  },
  {
   "cell_type": "code",
   "execution_count": null,
   "metadata": {},
   "outputs": [],
   "source": []
  }
 ],
 "metadata": {
  "kernelspec": {
   "display_name": "Python 3 (ipykernel)",
   "language": "python",
   "name": "python3"
  },
  "language_info": {
   "codemirror_mode": {
    "name": "ipython",
    "version": 3
   },
   "file_extension": ".py",
   "mimetype": "text/x-python",
   "name": "python",
   "nbconvert_exporter": "python",
   "pygments_lexer": "ipython3",
   "version": "3.11.7"
  }
 },
 "nbformat": 4,
 "nbformat_minor": 4
}
