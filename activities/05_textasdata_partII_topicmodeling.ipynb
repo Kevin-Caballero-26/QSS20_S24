{
 "cells": [
  {
   "cell_type": "markdown",
   "metadata": {},
   "source": [
    "# Notebook for topic modeling "
   ]
  },
  {
   "cell_type": "markdown",
   "metadata": {},
   "source": [
    "# 0. Imports"
   ]
  },
  {
   "cell_type": "code",
   "execution_count": 2,
   "metadata": {},
   "outputs": [
    {
     "ename": "NameError",
     "evalue": "name 'nltk' is not defined",
     "output_type": "error",
     "traceback": [
      "\u001b[1;31m---------------------------------------------------------------------------\u001b[0m",
      "\u001b[1;31mNameError\u001b[0m                                 Traceback (most recent call last)",
      "Cell \u001b[1;32mIn[2], line 12\u001b[0m\n\u001b[0;32m     10\u001b[0m \u001b[38;5;28;01mfrom\u001b[39;00m \u001b[38;5;21;01mnltk\u001b[39;00m\u001b[38;5;21;01m.\u001b[39;00m\u001b[38;5;21;01mcorpus\u001b[39;00m \u001b[38;5;28;01mimport\u001b[39;00m stopwords\n\u001b[0;32m     11\u001b[0m \u001b[38;5;28;01mfrom\u001b[39;00m \u001b[38;5;21;01mnltk\u001b[39;00m\u001b[38;5;21;01m.\u001b[39;00m\u001b[38;5;21;01mstem\u001b[39;00m\u001b[38;5;21;01m.\u001b[39;00m\u001b[38;5;21;01mporter\u001b[39;00m \u001b[38;5;28;01mimport\u001b[39;00m PorterStemmer\n\u001b[1;32m---> 12\u001b[0m nltk\u001b[38;5;241m.\u001b[39mdownload(\u001b[38;5;124m'\u001b[39m\u001b[38;5;124mstopwords\u001b[39m\u001b[38;5;124m'\u001b[39m)\n\u001b[0;32m     15\u001b[0m \u001b[38;5;66;03m## sklearn imports\u001b[39;00m\n\u001b[0;32m     16\u001b[0m \u001b[38;5;28;01mfrom\u001b[39;00m \u001b[38;5;21;01msklearn\u001b[39;00m\u001b[38;5;21;01m.\u001b[39;00m\u001b[38;5;21;01mfeature_extraction\u001b[39;00m\u001b[38;5;21;01m.\u001b[39;00m\u001b[38;5;21;01mtext\u001b[39;00m \u001b[38;5;28;01mimport\u001b[39;00m CountVectorizer\n",
      "\u001b[1;31mNameError\u001b[0m: name 'nltk' is not defined"
     ]
    }
   ],
   "source": [
    "## load packages \n",
    "import pandas as pd\n",
    "import re\n",
    "import numpy as np\n",
    "\n",
    "## nltk imports\n",
    "#!pip install nltk # can install on terminal or by uncommenting this line\n",
    "#import nltk; nltk.download('punkt'); nltk.download('stopwords')\n",
    "from nltk.tokenize import word_tokenize, wordpunct_tokenize\n",
    "from nltk.corpus import stopwords\n",
    "from nltk.stem.porter import PorterStemmer\n",
    "nltk.download('stopwords')\n",
    "\n",
    "\n",
    "## sklearn imports\n",
    "from sklearn.feature_extraction.text import CountVectorizer\n",
    "\n",
    "## lda\n",
    "#!pip install gensim # can install by uncommenting this line\n",
    "from gensim import corpora\n",
    "import gensim\n",
    "\n",
    "## visualizing LDA--likely need to install\n",
    "#!pip install pyLDAvis # can install by uncommenting this line\n",
    "import pyLDAvis.gensim_models as gensimvis\n",
    "import pyLDAvis\n",
    "pyLDAvis.enable_notebook()\n",
    "\n",
    "## print mult things\n",
    "from IPython.core.interactiveshell import InteractiveShell\n",
    "InteractiveShell.ast_node_interactivity = \"all\"\n",
    "\n",
    "## random\n",
    "import random\n",
    "import string; punctlist = [char for char in string.punctuation] # list of english punctuation marks"
   ]
  },
  {
   "cell_type": "markdown",
   "metadata": {},
   "source": [
    "# 0. Load data"
   ]
  },
  {
   "cell_type": "code",
   "execution_count": null,
   "metadata": {},
   "outputs": [],
   "source": [
    "df = pd.read_csv(\"../public_data/airbnb_text/airbnb_text.csv\")\n",
    "df.head()"
   ]
  },
  {
   "cell_type": "markdown",
   "metadata": {},
   "source": [
    "# 1. Preprocess documents\n",
    "\n",
    "In this case, each name/name_upper, or listing title, we're treating as a document\n",
    "\n",
    "What is a stop word? \n",
    "\n",
    "* A common word such as I, me, my, myself etc that is filtered out of our data before analyzing the text data\n",
    "* Allows for better text analysis"
   ]
  },
  {
   "cell_type": "markdown",
   "metadata": {},
   "source": [
    "## 1.1 Load stopwords list and augment with our own custom ones"
   ]
  },
  {
   "cell_type": "code",
   "execution_count": 31,
   "metadata": {},
   "outputs": [],
   "source": [
    "# Gets the stop words from the english language\n",
    "list_stopwords = stopwords.words(\"english\")\n",
    "\n",
    "# Creates a our own list of stop words we want\n",
    "custom_words_toadd = ['apartment', 'new york', 'nyc',\n",
    "                      'bronx', 'brooklyn',\n",
    "                     'manhattan', 'queens', \n",
    "                      'staten island']\n",
    "\n",
    "# combines our stop words and the stop words provided by the library\n",
    "list_stopwords_new = list_stopwords + custom_words_toadd\n"
   ]
  },
  {
   "cell_type": "markdown",
   "metadata": {},
   "source": [
    "## 1.2 Remove stopwords from lowercase version of corpus\n"
   ]
  },
  {
   "cell_type": "code",
   "execution_count": 40,
   "metadata": {},
   "outputs": [
    {
     "data": {
      "text/plain": [
       "['clean & quiet apt home by the park',\n",
       " 'skylit midtown castle',\n",
       " 'the village of harlem....new york !',\n",
       " 'cozy entire floor of brownstone',\n",
       " 'entire apt: spacious studio/loft by central park']"
      ]
     },
     "execution_count": 40,
     "metadata": {},
     "output_type": "execute_result"
    },
    {
     "data": {
      "text/plain": [
       "['cozy', 'entire', 'floor', 'brownstone']"
      ]
     },
     "execution_count": 40,
     "metadata": {},
     "output_type": "execute_result"
    }
   ],
   "source": [
    "## converts the name column to lowercase and into a list\n",
    "corpus_lower = df.name.str.lower().to_list()\n",
    "\n",
    "corpus_lower[0:5] # Prints the first 5 items in the list\n",
    "\n",
    "## use wordpunct tokenize and filter out with one\n",
    "example_listing = corpus_lower[3]\n",
    "\n",
    "# uses a for loop to tokenize all the words in our example sentence as long as they are not in the stop word list\n",
    "nostop_listing = [word for word in wordpunct_tokenize(example_listing) \n",
    "                           if word not in list_stopwords_new]\n",
    "nostop_listing\n",
    "\n"
   ]
  },
  {
   "cell_type": "markdown",
   "metadata": {},
   "source": [
    "## 1.3 stem and remove non-alpha\n",
    "\n",
    "Other contexts we may want to leave digits in"
   ]
  },
  {
   "cell_type": "code",
   "execution_count": 41,
   "metadata": {},
   "outputs": [
    {
     "data": {
      "text/plain": [
       "['cozi', 'entir', 'floor', 'brownston']"
      ]
     },
     "execution_count": 41,
     "metadata": {},
     "output_type": "execute_result"
    }
   ],
   "source": [
    "## initialize stemmer\n",
    "porter = PorterStemmer()\n",
    "\n",
    "\n",
    "## apply to one by iterating\n",
    "## over the tokens in the list\n",
    "example_listing_preprocess = [porter.stem(token) \n",
    "                            for token in nostop_listing \n",
    "                            if token.isalpha() and \n",
    "                            len(token) > 2]\n",
    "\n",
    "example_listing_preprocess"
   ]
  },
  {
   "cell_type": "code",
   "execution_count": 44,
   "metadata": {},
   "outputs": [
    {
     "data": {
      "text/plain": [
       "'cozy entire floor of brownstone'"
      ]
     },
     "execution_count": 44,
     "metadata": {},
     "output_type": "execute_result"
    },
    {
     "data": {
      "text/plain": [
       "['cozy', 'entire', 'floor', 'brownstone']"
      ]
     },
     "execution_count": 44,
     "metadata": {},
     "output_type": "execute_result"
    },
    {
     "data": {
      "text/plain": [
       "['cozi', 'entir', 'floor', 'brownston']"
      ]
     },
     "execution_count": 44,
     "metadata": {},
     "output_type": "execute_result"
    }
   ],
   "source": [
    "example_listing\n",
    "nostop_listing\n",
    "example_listing_preprocess"
   ]
  },
  {
   "cell_type": "markdown",
   "metadata": {},
   "source": [
    "## 1.4 Activity 1\n",
    "\n",
    "The above example performed preprocessing on a single Airbnb listing. We want to generalize this preprocessing across all listings.\n",
    "\n",
    "- Embed step two (remove stopwords) and step three (stem) into one or two functions that take in a raw string (eg the raw text of an Airbnb review) and return a preprocessed string \n",
    "- Apply the function iteratively to preprocess all the texts in `corpus_lower`. Output could either be a list where each list element is a string of a list (e.g., `cozy brownstone apt`), or a list of lists where each element is a tokenized string (e.g., `['cozy', 'brownstone', 'apt'])`\n",
    "\n",
    "Output is flexible: it could be a list of lists containing tokenized/stemmed text or a list of strings."
   ]
  },
  {
   "cell_type": "code",
   "execution_count": 99,
   "metadata": {},
   "outputs": [
    {
     "data": {
      "text/plain": [
       "[['clean', 'quiet', 'apt', 'home', 'park'],\n",
       " ['skylit', 'midtown', 'castl'],\n",
       " ['villag', 'harlem', 'new', 'york'],\n",
       " ['cozi', 'entir', 'floor', 'brownston'],\n",
       " ['entir', 'apt', 'spaciou', 'studio', 'loft', 'central', 'park'],\n",
       " ['larg', 'cozi', 'midtown', 'east']]"
      ]
     },
     "execution_count": 99,
     "metadata": {},
     "output_type": "execute_result"
    }
   ],
   "source": [
    "# List: A list of strings \n",
    "# Returns: a list of the words after being processed wich removes stop words and non alpha symbols\n",
    "def process_list (list):\n",
    "    if pd.isna(list):\n",
    "        return \"\"\n",
    "    temp_nostop_listing = [word for word in wordpunct_tokenize(list) \n",
    "                      if word not in list_stopwords_new]\n",
    "\n",
    "\n",
    "    temp_nostop_listing_stem_nonAlpha = [porter.stem(token) \n",
    "                            for token in temp_nostop_listing \n",
    "                            if token.isalpha() and \n",
    "                            len(token) > 2]\n",
    "\n",
    "\n",
    "    return temp_nostop_listing_stem_nonAlpha\n",
    "\n",
    "\n",
    "# uses a for loop to tokenize all the words in our example sentence as long as they are not in the stop word list and \n",
    "completed_items = []\n",
    "\n",
    "for name in corpus_lower:\n",
    "    output = process_list(name)\n",
    "    completed_items.append(output)\n",
    "\n",
    "completed_items[:6]"
   ]
  },
  {
   "cell_type": "markdown",
   "metadata": {},
   "source": [
    "# 2. Create a document-term matrix and do some basic diagnostics (more manual approach)\n",
    "\n",
    "Here we'll create a DTM first using the raw documents; in the activity, you'll create one using the preprocessed docs\n",
    "that you created in activity 1"
   ]
  },
  {
   "cell_type": "markdown",
   "metadata": {},
   "source": [
    "## 2.1 Define the dtm function and select data to transform into a document-term matrix"
   ]
  },
  {
   "cell_type": "code",
   "execution_count": 100,
   "metadata": {},
   "outputs": [],
   "source": [
    "## function provided\n",
    "def create_dtm(list_of_strings, metadata):\n",
    "    \"\"\" \n",
    "    Function to create dense document-term matrix (DTM) from a list of strings and provided metadata. \n",
    "    A sparse DTM is a list of term_index/doc_index tuples: if a given term occurs in a given doc at least once, \n",
    "        then this count is listed as a tuple; if not, that term/doc pair is omitted. \n",
    "    In a dense DTM, each row is one text (e.g., an Airbnb listing), each column is a term, and \n",
    "        each cell indicates the frequency of that word in that text. \n",
    "    \n",
    "    Parameters:\n",
    "        list_of_strings (Series): each row contains a preprocessed string (need not be tokenized)\n",
    "    \n",
    "        metadata (DataFrame): contains document-level covariates\n",
    "    \n",
    "    Returns:\n",
    "        Dense DTM with metadata on left and then one column per word in lexicon\n",
    "    \"\"\"\n",
    "    \n",
    "    # initialize a sklearn tokenizer; this helps us tokenize the preprocessed string input\n",
    "    vectorizer = CountVectorizer(lowercase = True) \n",
    "    dtm_sparse = vectorizer.fit_transform(list_of_strings)\n",
    "    print('Sparse matrix form:\\n', dtm_sparse[:3]) # take a look at sparse representation\n",
    "    print()\n",
    "    \n",
    "    # switch the dataframe from the sparse representation to the normal dense representation (so we can treat it as regular dataframe)\n",
    "    dtm_dense_named = pd.DataFrame(dtm_sparse.todense(), columns=vectorizer.get_feature_names_out ())\n",
    "    print('Dense matrix form:\\n', dtm_dense_named.head()) # take a look at dense representation\n",
    "    dtm_dense_named_withid = pd.concat([metadata.reset_index(), dtm_dense_named], axis = 1) # add back document-level covariates\n",
    "\n",
    "    return(dtm_dense_named_withid)"
   ]
  },
  {
   "cell_type": "code",
   "execution_count": 101,
   "metadata": {},
   "outputs": [
    {
     "data": {
      "text/html": [
       "<div>\n",
       "<style scoped>\n",
       "    .dataframe tbody tr th:only-of-type {\n",
       "        vertical-align: middle;\n",
       "    }\n",
       "\n",
       "    .dataframe tbody tr th {\n",
       "        vertical-align: top;\n",
       "    }\n",
       "\n",
       "    .dataframe thead th {\n",
       "        text-align: right;\n",
       "    }\n",
       "</style>\n",
       "<table border=\"1\" class=\"dataframe\">\n",
       "  <thead>\n",
       "    <tr style=\"text-align: right;\">\n",
       "      <th></th>\n",
       "      <th>id</th>\n",
       "      <th>neighbourhood_group</th>\n",
       "      <th>price_rawdata</th>\n",
       "      <th>name</th>\n",
       "      <th>name_lower</th>\n",
       "    </tr>\n",
       "  </thead>\n",
       "  <tbody>\n",
       "    <tr>\n",
       "      <th>23821</th>\n",
       "      <td>19227560</td>\n",
       "      <td>Queens</td>\n",
       "      <td>100</td>\n",
       "      <td>Super Cozy!</td>\n",
       "      <td>super cozy!</td>\n",
       "    </tr>\n",
       "    <tr>\n",
       "      <th>22905</th>\n",
       "      <td>18560625</td>\n",
       "      <td>Brooklyn</td>\n",
       "      <td>30</td>\n",
       "      <td>Beautiful Private Bedroom by Prospect Park</td>\n",
       "      <td>beautiful private bedroom by prospect park</td>\n",
       "    </tr>\n",
       "    <tr>\n",
       "      <th>20426</th>\n",
       "      <td>16289576</td>\n",
       "      <td>Manhattan</td>\n",
       "      <td>80</td>\n",
       "      <td>Best Location on the Upper West Side! - Part II</td>\n",
       "      <td>best location on the upper west side! - part ii</td>\n",
       "    </tr>\n",
       "    <tr>\n",
       "      <th>2018</th>\n",
       "      <td>893413</td>\n",
       "      <td>Manhattan</td>\n",
       "      <td>2500</td>\n",
       "      <td>Architecturally Stunning Former Synagogue!</td>\n",
       "      <td>architecturally stunning former synagogue!</td>\n",
       "    </tr>\n",
       "    <tr>\n",
       "      <th>18790</th>\n",
       "      <td>14882137</td>\n",
       "      <td>Queens</td>\n",
       "      <td>50</td>\n",
       "      <td>Large, beautiful room near Bushwick</td>\n",
       "      <td>large, beautiful room near bushwick</td>\n",
       "    </tr>\n",
       "  </tbody>\n",
       "</table>\n",
       "</div>"
      ],
      "text/plain": [
       "             id neighbourhood_group  price_rawdata  \\\n",
       "23821  19227560              Queens            100   \n",
       "22905  18560625            Brooklyn             30   \n",
       "20426  16289576           Manhattan             80   \n",
       "2018     893413           Manhattan           2500   \n",
       "18790  14882137              Queens             50   \n",
       "\n",
       "                                                  name  \\\n",
       "23821                                      Super Cozy!   \n",
       "22905       Beautiful Private Bedroom by Prospect Park   \n",
       "20426  Best Location on the Upper West Side! - Part II   \n",
       "2018        Architecturally Stunning Former Synagogue!   \n",
       "18790              Large, beautiful room near Bushwick   \n",
       "\n",
       "                                            name_lower  \n",
       "23821                                      super cozy!  \n",
       "22905       beautiful private bedroom by prospect park  \n",
       "20426  best location on the upper west side! - part ii  \n",
       "2018        architecturally stunning former synagogue!  \n",
       "18790              large, beautiful room near bushwick  "
      ]
     },
     "execution_count": 101,
     "metadata": {},
     "output_type": "execute_result"
    }
   ],
   "source": [
    "\n",
    "## filter out na's\n",
    "## for shorter runtime, random sampling of 1000\n",
    "## get metadata for those\n",
    "## and also renaming price col since it's likely to be corpus word\n",
    "ab_small = ab.loc[~ab.name.isnull(),\n",
    "           ['id', 'neighbourhood_group', 'price', 'name']].copy().rename(columns = {'price':\n",
    "            'price_rawdata'}).sample(n = 1000, random_state = 422)\n",
    "\n",
    "ab_small['name_lower'] = ab_small['name'].str.lower()\n",
    "ab_small.head()"
   ]
  },
  {
   "cell_type": "markdown",
   "metadata": {},
   "source": [
    "## 2.2 Execute the dtm function to create the document-term matrix"
   ]
  },
  {
   "cell_type": "code",
   "execution_count": 102,
   "metadata": {},
   "outputs": [
    {
     "name": "stdout",
     "output_type": "stream",
     "text": [
      "Sparse matrix form:\n",
      "   (0, 841)\t1\n",
      "  (0, 281)\t1\n",
      "  (1, 152)\t1\n",
      "  (1, 693)\t1\n",
      "  (1, 157)\t1\n",
      "  (1, 205)\t1\n",
      "  (1, 698)\t1\n",
      "  (1, 653)\t1\n",
      "  (2, 165)\t1\n",
      "  (2, 537)\t1\n",
      "  (2, 637)\t1\n",
      "  (2, 856)\t1\n",
      "  (2, 902)\t1\n",
      "  (2, 939)\t1\n",
      "  (2, 774)\t1\n",
      "  (2, 657)\t1\n",
      "  (2, 471)\t1\n",
      "\n",
      "Dense matrix form:\n",
      "    001  10  10m  10min  10mins  1100  12mins  14  15  15min  ...  yoga  york  \\\n",
      "0    0   0    0      0       0     0       0   0   0      0  ...     0     0   \n",
      "1    0   0    0      0       0     0       0   0   0      0  ...     0     0   \n",
      "2    0   0    0      0       0     0       0   0   0      0  ...     0     0   \n",
      "3    0   0    0      0       0     0       0   0   0      0  ...     0     0   \n",
      "4    0   0    0      0       0     0       0   0   0      0  ...     0     0   \n",
      "\n",
      "   you  your  yu  zen  ღღღsteps  法拉盛中心私人房間獨立衛浴  溫馨大套房  獨一無二的紐約閣樓  \n",
      "0    0     0   0    0         0              0      0          0  \n",
      "1    0     0   0    0         0              0      0          0  \n",
      "2    0     0   0    0         0              0      0          0  \n",
      "3    0     0   0    0         0              0      0          0  \n",
      "4    0     0   0    0         0              0      0          0  \n",
      "\n",
      "[5 rows x 970 columns]\n"
     ]
    }
   ],
   "source": [
    "## example application on raw lowercase texts; \n",
    "dtm_nopre = create_dtm(list_of_strings= ab_small.name_lower,\n",
    "                      metadata = ab_small[['id', 'neighbourhood_group', 'price_rawdata']])\n",
    "\n"
   ]
  },
  {
   "cell_type": "code",
   "execution_count": 103,
   "metadata": {},
   "outputs": [
    {
     "data": {
      "text/html": [
       "<div>\n",
       "<style scoped>\n",
       "    .dataframe tbody tr th:only-of-type {\n",
       "        vertical-align: middle;\n",
       "    }\n",
       "\n",
       "    .dataframe tbody tr th {\n",
       "        vertical-align: top;\n",
       "    }\n",
       "\n",
       "    .dataframe thead th {\n",
       "        text-align: right;\n",
       "    }\n",
       "</style>\n",
       "<table border=\"1\" class=\"dataframe\">\n",
       "  <thead>\n",
       "    <tr style=\"text-align: right;\">\n",
       "      <th></th>\n",
       "      <th>index</th>\n",
       "      <th>id</th>\n",
       "      <th>neighbourhood_group</th>\n",
       "      <th>price_rawdata</th>\n",
       "      <th>001</th>\n",
       "      <th>10</th>\n",
       "      <th>10m</th>\n",
       "      <th>10min</th>\n",
       "      <th>10mins</th>\n",
       "      <th>1100</th>\n",
       "      <th>...</th>\n",
       "      <th>yoga</th>\n",
       "      <th>york</th>\n",
       "      <th>you</th>\n",
       "      <th>your</th>\n",
       "      <th>yu</th>\n",
       "      <th>zen</th>\n",
       "      <th>ღღღsteps</th>\n",
       "      <th>法拉盛中心私人房間獨立衛浴</th>\n",
       "      <th>溫馨大套房</th>\n",
       "      <th>獨一無二的紐約閣樓</th>\n",
       "    </tr>\n",
       "  </thead>\n",
       "  <tbody>\n",
       "    <tr>\n",
       "      <th>0</th>\n",
       "      <td>23821</td>\n",
       "      <td>19227560</td>\n",
       "      <td>Queens</td>\n",
       "      <td>100</td>\n",
       "      <td>0</td>\n",
       "      <td>0</td>\n",
       "      <td>0</td>\n",
       "      <td>0</td>\n",
       "      <td>0</td>\n",
       "      <td>0</td>\n",
       "      <td>...</td>\n",
       "      <td>0</td>\n",
       "      <td>0</td>\n",
       "      <td>0</td>\n",
       "      <td>0</td>\n",
       "      <td>0</td>\n",
       "      <td>0</td>\n",
       "      <td>0</td>\n",
       "      <td>0</td>\n",
       "      <td>0</td>\n",
       "      <td>0</td>\n",
       "    </tr>\n",
       "    <tr>\n",
       "      <th>1</th>\n",
       "      <td>22905</td>\n",
       "      <td>18560625</td>\n",
       "      <td>Brooklyn</td>\n",
       "      <td>30</td>\n",
       "      <td>0</td>\n",
       "      <td>0</td>\n",
       "      <td>0</td>\n",
       "      <td>0</td>\n",
       "      <td>0</td>\n",
       "      <td>0</td>\n",
       "      <td>...</td>\n",
       "      <td>0</td>\n",
       "      <td>0</td>\n",
       "      <td>0</td>\n",
       "      <td>0</td>\n",
       "      <td>0</td>\n",
       "      <td>0</td>\n",
       "      <td>0</td>\n",
       "      <td>0</td>\n",
       "      <td>0</td>\n",
       "      <td>0</td>\n",
       "    </tr>\n",
       "    <tr>\n",
       "      <th>2</th>\n",
       "      <td>20426</td>\n",
       "      <td>16289576</td>\n",
       "      <td>Manhattan</td>\n",
       "      <td>80</td>\n",
       "      <td>0</td>\n",
       "      <td>0</td>\n",
       "      <td>0</td>\n",
       "      <td>0</td>\n",
       "      <td>0</td>\n",
       "      <td>0</td>\n",
       "      <td>...</td>\n",
       "      <td>0</td>\n",
       "      <td>0</td>\n",
       "      <td>0</td>\n",
       "      <td>0</td>\n",
       "      <td>0</td>\n",
       "      <td>0</td>\n",
       "      <td>0</td>\n",
       "      <td>0</td>\n",
       "      <td>0</td>\n",
       "      <td>0</td>\n",
       "    </tr>\n",
       "    <tr>\n",
       "      <th>3</th>\n",
       "      <td>2018</td>\n",
       "      <td>893413</td>\n",
       "      <td>Manhattan</td>\n",
       "      <td>2500</td>\n",
       "      <td>0</td>\n",
       "      <td>0</td>\n",
       "      <td>0</td>\n",
       "      <td>0</td>\n",
       "      <td>0</td>\n",
       "      <td>0</td>\n",
       "      <td>...</td>\n",
       "      <td>0</td>\n",
       "      <td>0</td>\n",
       "      <td>0</td>\n",
       "      <td>0</td>\n",
       "      <td>0</td>\n",
       "      <td>0</td>\n",
       "      <td>0</td>\n",
       "      <td>0</td>\n",
       "      <td>0</td>\n",
       "      <td>0</td>\n",
       "    </tr>\n",
       "    <tr>\n",
       "      <th>4</th>\n",
       "      <td>18790</td>\n",
       "      <td>14882137</td>\n",
       "      <td>Queens</td>\n",
       "      <td>50</td>\n",
       "      <td>0</td>\n",
       "      <td>0</td>\n",
       "      <td>0</td>\n",
       "      <td>0</td>\n",
       "      <td>0</td>\n",
       "      <td>0</td>\n",
       "      <td>...</td>\n",
       "      <td>0</td>\n",
       "      <td>0</td>\n",
       "      <td>0</td>\n",
       "      <td>0</td>\n",
       "      <td>0</td>\n",
       "      <td>0</td>\n",
       "      <td>0</td>\n",
       "      <td>0</td>\n",
       "      <td>0</td>\n",
       "      <td>0</td>\n",
       "    </tr>\n",
       "  </tbody>\n",
       "</table>\n",
       "<p>5 rows × 974 columns</p>\n",
       "</div>"
      ],
      "text/plain": [
       "   index        id neighbourhood_group  price_rawdata  001  10  10m  10min  \\\n",
       "0  23821  19227560              Queens            100    0   0    0      0   \n",
       "1  22905  18560625            Brooklyn             30    0   0    0      0   \n",
       "2  20426  16289576           Manhattan             80    0   0    0      0   \n",
       "3   2018    893413           Manhattan           2500    0   0    0      0   \n",
       "4  18790  14882137              Queens             50    0   0    0      0   \n",
       "\n",
       "   10mins  1100  ...  yoga  york  you  your  yu  zen  ღღღsteps  法拉盛中心私人房間獨立衛浴  \\\n",
       "0       0     0  ...     0     0    0     0   0    0         0              0   \n",
       "1       0     0  ...     0     0    0     0   0    0         0              0   \n",
       "2       0     0  ...     0     0    0     0   0    0         0              0   \n",
       "3       0     0  ...     0     0    0     0   0    0         0              0   \n",
       "4       0     0  ...     0     0    0     0   0    0         0              0   \n",
       "\n",
       "   溫馨大套房  獨一無二的紐約閣樓  \n",
       "0      0          0  \n",
       "1      0          0  \n",
       "2      0          0  \n",
       "3      0          0  \n",
       "4      0          0  \n",
       "\n",
       "[5 rows x 974 columns]"
      ]
     },
     "execution_count": 103,
     "metadata": {},
     "output_type": "execute_result"
    },
    {
     "data": {
      "text/plain": [
       "(1000, 974)"
      ]
     },
     "execution_count": 103,
     "metadata": {},
     "output_type": "execute_result"
    },
    {
     "data": {
      "text/html": [
       "<div>\n",
       "<style scoped>\n",
       "    .dataframe tbody tr th:only-of-type {\n",
       "        vertical-align: middle;\n",
       "    }\n",
       "\n",
       "    .dataframe tbody tr th {\n",
       "        vertical-align: top;\n",
       "    }\n",
       "\n",
       "    .dataframe thead th {\n",
       "        text-align: right;\n",
       "    }\n",
       "</style>\n",
       "<table border=\"1\" class=\"dataframe\">\n",
       "  <thead>\n",
       "    <tr style=\"text-align: right;\">\n",
       "      <th></th>\n",
       "      <th>inclusive</th>\n",
       "      <th>incredible</th>\n",
       "      <th>incredibly</th>\n",
       "      <th>indoor</th>\n",
       "      <th>inn</th>\n",
       "      <th>inq</th>\n",
       "      <th>insane</th>\n",
       "      <th>int</th>\n",
       "      <th>interior</th>\n",
       "      <th>international</th>\n",
       "      <th>interns</th>\n",
       "      <th>invincible</th>\n",
       "      <th>inviting</th>\n",
       "      <th>inwood</th>\n",
       "      <th>island</th>\n",
       "      <th>it</th>\n",
       "      <th>italy</th>\n",
       "      <th>its</th>\n",
       "      <th>jefferson</th>\n",
       "      <th>jewel</th>\n",
       "    </tr>\n",
       "  </thead>\n",
       "  <tbody>\n",
       "    <tr>\n",
       "      <th>0</th>\n",
       "      <td>0</td>\n",
       "      <td>0</td>\n",
       "      <td>0</td>\n",
       "      <td>0</td>\n",
       "      <td>0</td>\n",
       "      <td>0</td>\n",
       "      <td>0</td>\n",
       "      <td>0</td>\n",
       "      <td>0</td>\n",
       "      <td>0</td>\n",
       "      <td>0</td>\n",
       "      <td>0</td>\n",
       "      <td>0</td>\n",
       "      <td>0</td>\n",
       "      <td>0</td>\n",
       "      <td>0</td>\n",
       "      <td>0</td>\n",
       "      <td>0</td>\n",
       "      <td>0</td>\n",
       "      <td>0</td>\n",
       "    </tr>\n",
       "    <tr>\n",
       "      <th>1</th>\n",
       "      <td>0</td>\n",
       "      <td>0</td>\n",
       "      <td>0</td>\n",
       "      <td>0</td>\n",
       "      <td>0</td>\n",
       "      <td>0</td>\n",
       "      <td>0</td>\n",
       "      <td>0</td>\n",
       "      <td>0</td>\n",
       "      <td>0</td>\n",
       "      <td>0</td>\n",
       "      <td>0</td>\n",
       "      <td>0</td>\n",
       "      <td>0</td>\n",
       "      <td>0</td>\n",
       "      <td>0</td>\n",
       "      <td>0</td>\n",
       "      <td>0</td>\n",
       "      <td>0</td>\n",
       "      <td>0</td>\n",
       "    </tr>\n",
       "    <tr>\n",
       "      <th>2</th>\n",
       "      <td>0</td>\n",
       "      <td>0</td>\n",
       "      <td>0</td>\n",
       "      <td>0</td>\n",
       "      <td>0</td>\n",
       "      <td>0</td>\n",
       "      <td>0</td>\n",
       "      <td>0</td>\n",
       "      <td>0</td>\n",
       "      <td>0</td>\n",
       "      <td>0</td>\n",
       "      <td>0</td>\n",
       "      <td>0</td>\n",
       "      <td>0</td>\n",
       "      <td>0</td>\n",
       "      <td>0</td>\n",
       "      <td>0</td>\n",
       "      <td>0</td>\n",
       "      <td>0</td>\n",
       "      <td>0</td>\n",
       "    </tr>\n",
       "    <tr>\n",
       "      <th>3</th>\n",
       "      <td>0</td>\n",
       "      <td>0</td>\n",
       "      <td>0</td>\n",
       "      <td>0</td>\n",
       "      <td>0</td>\n",
       "      <td>0</td>\n",
       "      <td>0</td>\n",
       "      <td>0</td>\n",
       "      <td>0</td>\n",
       "      <td>0</td>\n",
       "      <td>0</td>\n",
       "      <td>0</td>\n",
       "      <td>0</td>\n",
       "      <td>0</td>\n",
       "      <td>0</td>\n",
       "      <td>0</td>\n",
       "      <td>0</td>\n",
       "      <td>0</td>\n",
       "      <td>0</td>\n",
       "      <td>0</td>\n",
       "    </tr>\n",
       "    <tr>\n",
       "      <th>4</th>\n",
       "      <td>0</td>\n",
       "      <td>0</td>\n",
       "      <td>0</td>\n",
       "      <td>0</td>\n",
       "      <td>0</td>\n",
       "      <td>0</td>\n",
       "      <td>0</td>\n",
       "      <td>0</td>\n",
       "      <td>0</td>\n",
       "      <td>0</td>\n",
       "      <td>0</td>\n",
       "      <td>0</td>\n",
       "      <td>0</td>\n",
       "      <td>0</td>\n",
       "      <td>0</td>\n",
       "      <td>0</td>\n",
       "      <td>0</td>\n",
       "      <td>0</td>\n",
       "      <td>0</td>\n",
       "      <td>0</td>\n",
       "    </tr>\n",
       "  </tbody>\n",
       "</table>\n",
       "</div>"
      ],
      "text/plain": [
       "   inclusive  incredible  incredibly  indoor  inn  inq  insane  int  interior  \\\n",
       "0          0           0           0       0    0    0       0    0         0   \n",
       "1          0           0           0       0    0    0       0    0         0   \n",
       "2          0           0           0       0    0    0       0    0         0   \n",
       "3          0           0           0       0    0    0       0    0         0   \n",
       "4          0           0           0       0    0    0       0    0         0   \n",
       "\n",
       "   international  interns  invincible  inviting  inwood  island  it  italy  \\\n",
       "0              0        0           0         0       0       0   0      0   \n",
       "1              0        0           0         0       0       0   0      0   \n",
       "2              0        0           0         0       0       0   0      0   \n",
       "3              0        0           0         0       0       0   0      0   \n",
       "4              0        0           0         0       0       0   0      0   \n",
       "\n",
       "   its  jefferson  jewel  \n",
       "0    0          0      0  \n",
       "1    0          0      0  \n",
       "2    0          0      0  \n",
       "3    0          0      0  \n",
       "4    0          0      0  "
      ]
     },
     "execution_count": 103,
     "metadata": {},
     "output_type": "execute_result"
    }
   ],
   "source": [
    "## show first set of rows/cols\n",
    "dtm_nopre.head()\n",
    "\n",
    "## show arbitrary later cols in resulting data\n",
    "dtm_nopre.shape\n",
    "dtm_nopre.iloc[0:5, 480:500]"
   ]
  },
  {
   "cell_type": "markdown",
   "metadata": {},
   "source": [
    "## 2.3 Use that matrix/column sums to get basic summary stats of top words"
   ]
  },
  {
   "cell_type": "code",
   "execution_count": 1,
   "metadata": {},
   "outputs": [
    {
     "ename": "NameError",
     "evalue": "name 'dtm_nopre' is not defined",
     "output_type": "error",
     "traceback": [
      "\u001b[1;31m---------------------------------------------------------------------------\u001b[0m",
      "\u001b[1;31mNameError\u001b[0m                                 Traceback (most recent call last)",
      "Cell \u001b[1;32mIn[1], line 2\u001b[0m\n\u001b[0;32m      1\u001b[0m \u001b[38;5;66;03m## summing each col\u001b[39;00m\n\u001b[1;32m----> 2\u001b[0m top_terms \u001b[38;5;241m=\u001b[39m dtm_nopre[dtm_nopre\u001b[38;5;241m.\u001b[39mcolumns[\u001b[38;5;241m4\u001b[39m:]]\u001b[38;5;241m.\u001b[39msum(axis \u001b[38;5;241m=\u001b[39m \u001b[38;5;241m0\u001b[39m)\n\u001b[0;32m      4\u001b[0m \u001b[38;5;66;03m## sorting from most frequent to least frequent\u001b[39;00m\n\u001b[0;32m      5\u001b[0m top_terms\u001b[38;5;241m.\u001b[39msort_values(ascending \u001b[38;5;241m=\u001b[39m \u001b[38;5;28;01mFalse\u001b[39;00m)\n",
      "\u001b[1;31mNameError\u001b[0m: name 'dtm_nopre' is not defined"
     ]
    }
   ],
   "source": [
    "## summing each col\n",
    "top_terms = dtm_nopre[dtm_nopre.columns[4:]].sum(axis = 0)\n",
    "\n",
    "## sorting from most frequent to least frequent\n",
    "top_terms.sort_values(ascending = False)"
   ]
  },
  {
   "cell_type": "markdown",
   "metadata": {},
   "source": [
    "## 2.4 Activity 2: repeat the above but using the preprocessed text data\n",
    "\n",
    "- Stick with the same random sample of 1000 `ab_small`\n",
    "- Apply the preprocessing steps from activity 1 to create a new column in `ab_small` with the preprocessed text (if you got stuck on that, try just removing stopwords)\n",
    "- Use the `create_dtm` function to create a document-term matrix from the preprocessed data\n",
    "- Use colsums to summarize"
   ]
  },
  {
   "cell_type": "code",
   "execution_count": 105,
   "metadata": {},
   "outputs": [
    {
     "name": "stdout",
     "output_type": "stream",
     "text": [
      "Sparse matrix form:\n",
      "   (0, 646)\t1\n",
      "  (0, 170)\t1\n",
      "  (1, 60)\t1\n",
      "  (1, 516)\t1\n",
      "  (1, 65)\t1\n",
      "  (1, 519)\t1\n",
      "  (1, 480)\t1\n",
      "  (2, 70)\t1\n",
      "  (2, 388)\t1\n",
      "  (2, 697)\t1\n",
      "  (2, 729)\t1\n",
      "  (2, 584)\t1\n",
      "  (2, 482)\t1\n",
      "\n",
      "Dense matrix form:\n",
      "    abcd  abod  access  acidot  acogedor  across  address  ador  aesthet  \\\n",
      "0     0     0       0       0         0       0        0     0        0   \n",
      "1     0     0       0       0         0       0        0     0        0   \n",
      "2     0     0       0       0         0       0        0     0        0   \n",
      "3     0     0       0       0         0       0        0     0        0   \n",
      "4     0     0       0       0         0       0        0     0        0   \n",
      "\n",
      "   afford  ...  yard  year  yellow  yoga  york  zen  ღღღstep  法拉盛中心私人房間獨立衛浴  \\\n",
      "0       0  ...     0     0       0     0     0    0        0              0   \n",
      "1       0  ...     0     0       0     0     0    0        0              0   \n",
      "2       0  ...     0     0       0     0     0    0        0              0   \n",
      "3       0  ...     0     0       0     0     0    0        0              0   \n",
      "4       0  ...     0     0       0     0     0    0        0              0   \n",
      "\n",
      "   溫馨大套房  獨一無二的紐約閣樓  \n",
      "0      0          0  \n",
      "1      0          0  \n",
      "2      0          0  \n",
      "3      0          0  \n",
      "4      0          0  \n",
      "\n",
      "[5 rows x 753 columns]\n"
     ]
    },
    {
     "data": {
      "text/plain": [
       "room         246\n",
       "privat       165\n",
       "bedroom      159\n",
       "cozi          97\n",
       "apt           91\n",
       "            ... \n",
       "homey          1\n",
       "hipstest       1\n",
       "hillsid        1\n",
       "highclass      1\n",
       "獨一無二的紐約閣樓      1\n",
       "Length: 753, dtype: int64"
      ]
     },
     "execution_count": 105,
     "metadata": {},
     "output_type": "execute_result"
    }
   ],
   "source": [
    "# Adds a new column with the processed name using our function from earlier. Processed name is a list at this stage\n",
    "ab_small[\"processed_name\"] = ab_small[\"name_lower\"].apply(process_list)\n",
    "\n",
    "# we need to turn that column from a list to a string\n",
    "def join_list(list):\n",
    "    return \" \".join(list)\n",
    "\n",
    "# our processed_name column is now a string rather than a list wich allows our matrix function to be able to work\n",
    "ab_small[\"processed_name\"] = ab_small[\"processed_name\"].apply(join_list)\n",
    "\n",
    "# Creates our DTM after preprocessing\n",
    "dtm_pre = create_dtm(list_of_strings= ab_small.processed_name,\n",
    "                     metadata = ab_small[['id', 'neighbourhood_group', 'price_rawdata']])\n",
    "\n",
    "\n",
    "## summing each col\n",
    "top_terms_pre = dtm_pre[dtm_pre.columns[4:]].sum(axis = 0)\n",
    "\n",
    "## sorting from most frequent to least frequent\n",
    "top_terms_pre.sort_values(ascending = False)"
   ]
  },
  {
   "cell_type": "markdown",
   "metadata": {},
   "source": [
    "\n",
    "# 3. Use gensim to more automatically preprocess/estimate a topic model"
   ]
  },
  {
   "cell_type": "markdown",
   "metadata": {},
   "source": [
    "## 3.1 Creating the objects to feed the LDA modeling function\n",
    "\n",
    "Different outputs described below: \n",
    "- Tokenized and preprocessed text \n",
    "- Dictionary \n",
    "- Corpus "
   ]
  },
  {
   "cell_type": "code",
   "execution_count": 107,
   "metadata": {},
   "outputs": [
    {
     "data": {
      "text/plain": [
       "{0: '!', 1: 'cozy', 2: 'super', 3: 'beautiful', 4: 'bedroom'}"
      ]
     },
     "execution_count": 107,
     "metadata": {},
     "output_type": "execute_result"
    },
    {
     "name": "stdout",
     "output_type": "stream",
     "text": [
      "Filtering out very rare and very common words reduced the length of dictionary from 1047 to 31.\n"
     ]
    },
    {
     "data": {
      "text/plain": [
       "{0: '!', 1: 'cozy', 2: 'beautiful', 3: 'bedroom', 4: 'park'}"
      ]
     },
     "execution_count": 107,
     "metadata": {},
     "output_type": "execute_result"
    },
    {
     "name": "stdout",
     "output_type": "stream",
     "text": [
      "Sample of documents represented in dictionary format (with omitted words noted):\n"
     ]
    },
    {
     "data": {
      "text/plain": [
       "[([(0, 1), (1, 1)], {'super': 1}),\n",
       " ([(2, 1), (3, 1), (4, 1), (5, 1)], {'by': 1, 'prospect': 1}),\n",
       " ([(0, 1), (6, 1), (7, 1)],\n",
       "  {'best': 1,\n",
       "   'ii': 1,\n",
       "   'location': 1,\n",
       "   'on': 1,\n",
       "   'part': 1,\n",
       "   'side': 1,\n",
       "   'upper': 1,\n",
       "   'west': 1}),\n",
       " ([(0, 1)],\n",
       "  {'architecturally': 1, 'former': 1, 'stunning': 1, 'synagogue': 1}),\n",
       " ([(2, 1), (8, 1), (9, 1), (10, 1), (11, 1)], {'bushwick': 1}),\n",
       " ([(4, 1), (8, 1), (9, 1), (12, 1), (13, 2)],\n",
       "  {'bath': 1, 'bed': 1, 'by': 1, 'central': 1, 'college': 1, 'hunter': 1}),\n",
       " ([(9, 1), (11, 1), (14, 1), (15, 1)], {'bohemian': 1, 'brownstone': 1}),\n",
       " ([(16, 1)],\n",
       "  {'fidi': 1, 'huge': 1, 'loft': 1, 'views': 1, 'w': 1, 'water': 1}),\n",
       " ([], {'hillside': 1, 'hotel': 1}),\n",
       " ([(5, 1), (9, 1), (11, 1), (14, 1), (15, 1)], {'airy': 1})]"
      ]
     },
     "execution_count": 107,
     "metadata": {},
     "output_type": "execute_result"
    }
   ],
   "source": [
    "\n",
    "## Step 1: re-tokenize and store in list\n",
    "## here, i'm doing with the raw random sample of text\n",
    "## in activity, you should do with the preprocessed texts\n",
    "text_raw_tokens = [wordpunct_tokenize(one_text) for one_text in \n",
    "                  ab_small.name_lower]\n",
    "\n",
    "\n",
    "## Step 2: use gensim create dictionary - gets all unique words across documents\n",
    "text_raw_dict = corpora.Dictionary(text_raw_tokens)\n",
    "raw_len = len(text_raw_dict) # get length for comparison below\n",
    "\n",
    "### explore first few keys and values\n",
    "### see that key is just an arbitrary counter; value is the word itself\n",
    "{k: text_raw_dict[k] for k in list(text_raw_dict)[:5]}\n",
    "\n",
    "\n",
    "## Step 3: filter out very rare and very common words\n",
    "## here, i'm using the threshold that a word needs to appear in at least\n",
    "## 5% of docs but not more than 95%\n",
    "## this is an integer count of docs so i round\n",
    "lower_bound = round(ab_small.shape[0]*0.05)\n",
    "upper_bound = round(ab_small.shape[0]*0.95)\n",
    "\n",
    "### apply filtering to dictionary\n",
    "text_raw_dict.filter_extremes(no_below = lower_bound,\n",
    "                             no_above = upper_bound)\n",
    "print(f'Filtering out very rare and very common words reduced the \\\n",
    "length of dictionary from {str(raw_len)} to {str(len(text_raw_dict))}.')\n",
    "{k: text_raw_dict[k] for k in list(text_raw_dict)[:5]} # show first five entries after filtering\n",
    "\n",
    "\n",
    "## Step 4: apply dictionary to TOKENIZED texts\n",
    "## this creates a mapping between each word \n",
    "## in a specific listing and the key in the dictionary.\n",
    "## for words that remain in the filtered dictionary,\n",
    "## output is a list where len(list) == n documents\n",
    "## and each element in the list is a list of tuples\n",
    "## containing the mappings\n",
    "corpus_fromdict = [text_raw_dict.doc2bow(one_text) \n",
    "                   for one_text in text_raw_tokens]\n",
    "\n",
    "### can apply doc2bow(one_text, return_missing = True) to print words\n",
    "### eliminated from the listing bc they're not in filtered dictionary.\n",
    "### but feeding that one with missing values to\n",
    "### the lda function can cause errors\n",
    "corpus_fromdict_showmiss = [text_raw_dict.doc2bow(one_text, return_missing = True)\n",
    "                            for one_text in text_raw_tokens]\n",
    "print('Sample of documents represented in dictionary format (with omitted words noted):')\n",
    "corpus_fromdict_showmiss[:10]"
   ]
  },
  {
   "cell_type": "markdown",
   "metadata": {},
   "source": [
    "##  3.2 Estimating the model"
   ]
  },
  {
   "cell_type": "code",
   "execution_count": 109,
   "metadata": {},
   "outputs": [
    {
     "name": "stdout",
     "output_type": "stream",
     "text": [
      "<class 'gensim.models.ldamodel.LdaModel'>\n"
     ]
    },
    {
     "data": {
      "text/plain": [
       "<gensim.models.ldamodel.LdaModel at 0x220b58fa610>"
      ]
     },
     "execution_count": 109,
     "metadata": {},
     "output_type": "execute_result"
    }
   ],
   "source": [
    "## Step 5: we're finally ready to estimate the model!\n",
    "## full documentation here - https://radimrehurek.com/gensim/models/ldamodel.html\n",
    "## here, we're feeding the lda function:\n",
    "## (1) the corpus we created from the dictionary,\n",
    "## (2) a parameter we decide on for the number of topics (k),\n",
    "## (3) the dictionary itself,\n",
    "## (4) parameter for number of passes through training data (more means slower), and\n",
    "## (5) parameter that returns, for each word remaining in dict, the topic probabilities.\n",
    "## see documentation for many other arguments you can vary\n",
    "ldamod = gensim.models.ldamodel.LdaModel(corpus_fromdict, \n",
    "                                         num_topics = 5, \n",
    "                                         id2word=text_raw_dict, \n",
    "                                         passes=6, \n",
    "                                         alpha = 'auto',\n",
    "                                         per_word_topics = True)\n",
    "\n",
    "print(type(ldamod))\n",
    "\n",
    "\n",
    "\n",
    "ldamod"
   ]
  },
  {
   "cell_type": "markdown",
   "metadata": {},
   "source": [
    "## 3.3  Seeing what topics the estimated model discovers"
   ]
  },
  {
   "cell_type": "code",
   "execution_count": 110,
   "metadata": {},
   "outputs": [
    {
     "name": "stdout",
     "output_type": "stream",
     "text": [
      "(0, '0.212*\"room\" + 0.119*\"in\" + 0.109*\",\" + 0.084*\"!\" + 0.073*\"private\" + 0.053*\"cozy\" + 0.050*\"park\" + 0.047*\"manhattan\" + 0.037*\"to\" + 0.030*\"and\"')\n",
      "(1, '0.147*\",\" + 0.127*\"in\" + 0.102*\"brooklyn\" + 0.096*\"bedroom\" + 0.066*\"large\" + 0.061*\"/\" + 0.059*\"private\" + 0.055*\"spacious\" + 0.040*\"to\" + 0.031*\"the\"')\n",
      "(2, '0.129*\"studio\" + 0.119*\"in\" + 0.102*\"private\" + 0.098*\"apt\" + 0.077*\"room\" + 0.057*\"with\" + 0.055*\"east\" + 0.048*\"spacious\" + 0.044*\"-\" + 0.044*\"near\"')\n",
      "(3, '0.112*\"bedroom\" + 0.099*\"2\" + 0.089*\"beautiful\" + 0.088*\"apartment\" + 0.070*\"/\" + 0.060*\"cozy\" + 0.054*\"!\" + 0.053*\"brooklyn\" + 0.044*\"and\" + 0.040*\".\"')\n",
      "(4, '0.166*\"in\" + 0.128*\"-\" + 0.119*\"apartment\" + 0.114*\"1\" + 0.054*\"williamsburg\" + 0.048*\"of\" + 0.046*\".\" + 0.046*\"to\" + 0.040*\"bedroom\" + 0.036*\"manhattan\"')\n"
     ]
    }
   ],
   "source": [
    "## Post-model 1: explore corpus-wide summary of topics\n",
    "### getting the topics and top words; can retrieve diff top words\n",
    "topics = ldamod.print_topics(num_words = 10)\n",
    "for topic in topics:\n",
    "    print(topic)\n"
   ]
  },
  {
   "cell_type": "code",
   "execution_count": 111,
   "metadata": {},
   "outputs": [
    {
     "data": {
      "text/plain": [
       "[['super', 'cozy', '!'],\n",
       " ['beautiful', 'private', 'bedroom', 'by', 'prospect', 'park'],\n",
       " ['best',\n",
       "  'location',\n",
       "  'on',\n",
       "  'the',\n",
       "  'upper',\n",
       "  'west',\n",
       "  'side',\n",
       "  '!',\n",
       "  '-',\n",
       "  'part',\n",
       "  'ii'],\n",
       " ['architecturally', 'stunning', 'former', 'synagogue', '!'],\n",
       " ['large', ',', 'beautiful', 'room', 'near', 'bushwick']]"
      ]
     },
     "execution_count": 111,
     "metadata": {},
     "output_type": "execute_result"
    },
    {
     "data": {
      "text/plain": [
       "[[(0, 0.78978676),\n",
       "  (1, 0.053772755),\n",
       "  (2, 0.048074618),\n",
       "  (3, 0.052004434),\n",
       "  (4, 0.05636145)],\n",
       " [(0, 0.36998758),\n",
       "  (1, 0.0313014),\n",
       "  (2, 0.02789484),\n",
       "  (3, 0.538131),\n",
       "  (4, 0.032685198)],\n",
       " [(0, 0.28603703),\n",
       "  (1, 0.039531406),\n",
       "  (2, 0.03531464),\n",
       "  (3, 0.038172852),\n",
       "  (4, 0.60094404)],\n",
       " [(0, 0.6696555),\n",
       "  (1, 0.08444623),\n",
       "  (2, 0.07559754),\n",
       "  (3, 0.08166656),\n",
       "  (4, 0.08863414)],\n",
       " [(0, 0.38739723),\n",
       "  (1, 0.20143469),\n",
       "  (2, 0.023039775),\n",
       "  (3, 0.36115482),\n",
       "  (4, 0.026973506)]]"
      ]
     },
     "execution_count": 111,
     "metadata": {},
     "output_type": "execute_result"
    }
   ],
   "source": [
    "    \n",
    "## Post-model 2: explore topics associated with each document\n",
    "### for each item in our original dictionary, get list of topic probabilities\n",
    "l=[ldamod.get_document_topics(item) for item in corpus_fromdict]\n",
    "### print result\n",
    "text_raw_tokens[0:5]\n",
    "l[0:5]"
   ]
  },
  {
   "cell_type": "markdown",
   "metadata": {},
   "source": [
    "### Visualizing "
   ]
  },
  {
   "cell_type": "code",
   "execution_count": 112,
   "metadata": {},
   "outputs": [
    {
     "data": {
      "text/html": [
       "\n",
       "<link rel=\"stylesheet\" type=\"text/css\" href=\"https://cdn.jsdelivr.net/gh/bmabey/pyLDAvis@3.4.0/pyLDAvis/js/ldavis.v1.0.0.css\">\n",
       "\n",
       "\n",
       "<div id=\"ldavis_el414023395050187368092811273\" style=\"background-color:white;\"></div>\n",
       "<script type=\"text/javascript\">\n",
       "\n",
       "var ldavis_el414023395050187368092811273_data = {\"mdsDat\": {\"x\": [0.1399064068083501, -0.03238777611053806, -0.04041244535467994, -0.18445496542080242, 0.11734878007767027], \"y\": [0.010225925012738899, -0.16769609314584472, -0.03643842472590253, 0.1030122358472494, 0.09089635701175898], \"topics\": [1, 2, 3, 4, 5], \"cluster\": [1, 1, 1, 1, 1], \"Freq\": [28.033015404305456, 20.067558970503708, 18.15452535601026, 17.905239029552895, 15.839661239627684]}, \"tinfo\": {\"Term\": [\"room\", \"apartment\", \",\", \"studio\", \"1\", \"brooklyn\", \"bedroom\", \"-\", \"beautiful\", \"private\", \"2\", \"apt\", \"/\", \"in\", \"east\", \"!\", \"large\", \"to\", \"cozy\", \"and\", \"&\", \"near\", \"spacious\", \".\", \"of\", \"with\", \"williamsburg\", \"park\", \"manhattan\", \"sunny\", \"room\", \"park\", \"!\", \"manhattan\", \"cozy\", \",\", \"and\", \"private\", \"to\", \"williamsburg\", \"in\", \"near\", \"spacious\", \"sunny\", \"with\", \"apt\", \".\", \"-\", \"the\", \"2\", \"/\", \"&\", \"of\", \"beautiful\", \"studio\", \"large\", \"1\", \"east\", \"brooklyn\", \"apartment\", \"bedroom\", \"1\", \"-\", \"apartment\", \"of\", \"williamsburg\", \".\", \"to\", \"east\", \"in\", \"manhattan\", \"the\", \"bedroom\", \"with\", \"apt\", \"/\", \",\", \"large\", \"park\", \"!\", \"2\", \"beautiful\", \"private\", \"sunny\", \"spacious\", \"cozy\", \"studio\", \"near\", \"room\", \"and\", \"brooklyn\", \"brooklyn\", \"large\", \",\", \"spacious\", \"bedroom\", \"/\", \"&\", \"to\", \"the\", \"private\", \"of\", \"in\", \"sunny\", \"manhattan\", \"1\", \"park\", \"cozy\", \".\", \"2\", \"-\", \"studio\", \"with\", \"williamsburg\", \"apt\", \"room\", \"apartment\", \"near\", \"and\", \"east\", \"beautiful\", \"!\", \"beautiful\", \"2\", \"and\", \"bedroom\", \"/\", \"apartment\", \"cozy\", \"sunny\", \"brooklyn\", \".\", \"&\", \"near\", \"the\", \"!\", \"park\", \"large\", \"with\", \"studio\", \"east\", \"spacious\", \"apt\", \"manhattan\", \"in\", \"williamsburg\", \"of\", \"1\", \"-\", \"room\", \",\", \"to\", \"private\", \"studio\", \"apt\", \"east\", \"with\", \"near\", \"private\", \"&\", \"spacious\", \"sunny\", \"of\", \"-\", \"in\", \"room\", \"the\", \"large\", \"!\", \"williamsburg\", \"2\", \"beautiful\", \"and\", \"cozy\", \",\", \"bedroom\", \"manhattan\", \"1\", \"brooklyn\", \"apartment\", \".\", \"to\", \"park\", \"/\"], \"Freq\": [243.0, 132.0, 208.0, 84.0, 85.0, 92.0, 150.0, 134.0, 60.0, 160.0, 83.0, 90.0, 97.0, 364.0, 51.0, 130.0, 62.0, 88.0, 97.0, 58.0, 59.0, 55.0, 86.0, 72.0, 58.0, 65.0, 68.0, 70.0, 78.0, 68.0, 192.6946396705394, 45.2711093061451, 76.60147742383586, 42.41805855090618, 48.34670984559658, 99.12261312874192, 27.566963456333458, 66.31097348245319, 33.84421260092307, 21.388237088361148, 108.32967433701846, 15.882413132802181, 16.732750915546337, 13.094977423792413, 12.344503588432508, 16.9224834518878, 12.667888950048987, 18.68376539118874, 9.70768829072469, 8.860490335885745, 7.28408278282785, 4.027609383028145, 3.3014417309260864, 1.6975062462019537, 1.7093180200182623, 0.6349425124640757, 0.8412974059764822, 0.3092272524591763, 0.34897349504526004, 0.488558923882855, 0.5548339322560374, 73.98294554825496, 83.04712248897644, 77.50701459550456, 31.361887075765754, 34.86855355803435, 30.005586320521093, 29.760110150680422, 16.255009046019854, 107.70848691878533, 23.267943691099788, 18.337504285338877, 26.206219204125663, 9.549937809786538, 13.118032658689792, 13.568393945350513, 17.327584067249294, 4.712449699866526, 5.045719897134441, 7.498921309217258, 4.356662346288656, 2.447045166945221, 6.4194083863164915, 2.323526787525773, 2.6651887827514753, 1.889102970608297, 1.3145262454779114, 0.8054419712774569, 3.077946109646721, 0.7285223525742358, 0.6238666014123353, 60.172947587739365, 38.79694534494258, 86.44649480343223, 32.58620975460971, 56.189897418740934, 35.71279973498744, 17.76534797449205, 23.807453938734323, 18.377661029489726, 34.970226975055354, 12.363919584777642, 74.89420441724207, 11.86690468176298, 9.330047421416156, 9.372619939839872, 6.995448232274626, 8.662807613989253, 6.072572877688291, 6.1679002042145425, 8.804174026661855, 5.448437348125653, 4.165650939236892, 3.5896325197105785, 2.507178128523083, 6.287018152384817, 3.115094447507934, 1.05629946630484, 0.7683188707855232, 0.49857680946101735, 0.4695071336490172, 0.762830960019565, 51.508193433553416, 57.22728160992919, 25.465108123249752, 64.78829101455092, 40.77568323440531, 50.83966601188776, 34.60876979007948, 23.213226281849636, 30.895153693981147, 23.27645718747051, 19.083796819553548, 15.109418862491786, 18.089379725739803, 31.187465112971765, 13.283191395083296, 10.275066453327959, 10.003390903918707, 10.512441067448668, 6.369432418712096, 10.226031012407327, 8.055560555351548, 3.1022623911455116, 12.351475888139712, 2.2459425339383547, 1.2786296658578633, 0.9070352100098341, 1.3395953032741537, 1.9703185637154303, 1.0302837053559875, 0.4239827327150606, 0.5081094412323779, 65.93714122379305, 50.13909702540336, 28.094715224642428, 29.128665791546705, 22.570372439297135, 52.472684515147044, 18.534333475618542, 24.396082184320957, 17.54864000019562, 10.311245961543738, 22.573470571709954, 60.926132795159354, 39.58281764984486, 10.632868801948938, 8.332931693652695, 14.855617546878806, 6.2076329265587695, 7.3254906092276935, 4.147539239330328, 3.5256206930427867, 4.175478812850871, 4.448059516809529, 2.9865822058231988, 0.8021243518442953, 0.756010724583161, 0.7979392570667917, 0.6851384371274004, 0.3617824534781553, 0.3884887048738808, 0.20090157136940046, 0.20100255392987573], \"Total\": [243.0, 132.0, 208.0, 84.0, 85.0, 92.0, 150.0, 134.0, 60.0, 160.0, 83.0, 90.0, 97.0, 364.0, 51.0, 130.0, 62.0, 88.0, 97.0, 58.0, 59.0, 55.0, 86.0, 72.0, 58.0, 65.0, 68.0, 70.0, 78.0, 68.0, 243.61274014613124, 70.79637040200686, 130.90631235292327, 78.92043640641194, 97.68286903312448, 208.37503522158897, 58.05453349598576, 160.68140280020447, 88.22424812792676, 68.2999986266032, 364.2099743563449, 55.42394587217339, 86.60626264963581, 68.04727517512643, 65.19214903292135, 90.74235181985557, 72.38428778920704, 134.44812778181114, 75.14510213324203, 83.93782510554584, 97.54196225150099, 59.61861606252924, 58.61712401887108, 60.26979121967994, 84.92186390486354, 62.75233570425384, 85.8599088286643, 51.526960751294574, 92.83888063524489, 132.63547241591047, 150.72582377549674, 85.8599088286643, 134.44812778181114, 132.63547241591047, 58.61712401887108, 68.2999986266032, 72.38428778920704, 88.22424812792676, 51.526960751294574, 364.2099743563449, 78.92043640641194, 75.14510213324203, 150.72582377549674, 65.19214903292135, 90.74235181985557, 97.54196225150099, 208.37503522158897, 62.75233570425384, 70.79637040200686, 130.90631235292327, 83.93782510554584, 60.26979121967994, 160.68140280020447, 68.04727517512643, 86.60626264963581, 97.68286903312448, 84.92186390486354, 55.42394587217339, 243.61274014613124, 58.05453349598576, 92.83888063524489, 92.83888063524489, 62.75233570425384, 208.37503522158897, 86.60626264963581, 150.72582377549674, 97.54196225150099, 59.61861606252924, 88.22424812792676, 75.14510213324203, 160.68140280020447, 58.61712401887108, 364.2099743563449, 68.04727517512643, 78.92043640641194, 85.8599088286643, 70.79637040200686, 97.68286903312448, 72.38428778920704, 83.93782510554584, 134.44812778181114, 84.92186390486354, 65.19214903292135, 68.2999986266032, 90.74235181985557, 243.61274014613124, 132.63547241591047, 55.42394587217339, 58.05453349598576, 51.526960751294574, 60.26979121967994, 130.90631235292327, 60.26979121967994, 83.93782510554584, 58.05453349598576, 150.72582377549674, 97.54196225150099, 132.63547241591047, 97.68286903312448, 68.04727517512643, 92.83888063524489, 72.38428778920704, 59.61861606252924, 55.42394587217339, 75.14510213324203, 130.90631235292327, 70.79637040200686, 62.75233570425384, 65.19214903292135, 84.92186390486354, 51.526960751294574, 86.60626264963581, 90.74235181985557, 78.92043640641194, 364.2099743563449, 68.2999986266032, 58.61712401887108, 85.8599088286643, 134.44812778181114, 243.61274014613124, 208.37503522158897, 88.22424812792676, 160.68140280020447, 84.92186390486354, 90.74235181985557, 51.526960751294574, 65.19214903292135, 55.42394587217339, 160.68140280020447, 59.61861606252924, 86.60626264963581, 68.04727517512643, 58.61712401887108, 134.44812778181114, 364.2099743563449, 243.61274014613124, 75.14510213324203, 62.75233570425384, 130.90631235292327, 68.2999986266032, 83.93782510554584, 60.26979121967994, 58.05453349598576, 97.68286903312448, 208.37503522158897, 150.72582377549674, 78.92043640641194, 85.8599088286643, 92.83888063524489, 132.63547241591047, 72.38428778920704, 88.22424812792676, 70.79637040200686, 97.54196225150099], \"Category\": [\"Default\", \"Default\", \"Default\", \"Default\", \"Default\", \"Default\", \"Default\", \"Default\", \"Default\", \"Default\", \"Default\", \"Default\", \"Default\", \"Default\", \"Default\", \"Default\", \"Default\", \"Default\", \"Default\", \"Default\", \"Default\", \"Default\", \"Default\", \"Default\", \"Default\", \"Default\", \"Default\", \"Default\", \"Default\", \"Default\", \"Topic1\", \"Topic1\", \"Topic1\", \"Topic1\", \"Topic1\", \"Topic1\", \"Topic1\", \"Topic1\", \"Topic1\", \"Topic1\", \"Topic1\", \"Topic1\", \"Topic1\", \"Topic1\", \"Topic1\", \"Topic1\", \"Topic1\", \"Topic1\", \"Topic1\", \"Topic1\", \"Topic1\", \"Topic1\", \"Topic1\", \"Topic1\", \"Topic1\", \"Topic1\", \"Topic1\", \"Topic1\", \"Topic1\", \"Topic1\", \"Topic1\", \"Topic2\", \"Topic2\", \"Topic2\", \"Topic2\", \"Topic2\", \"Topic2\", \"Topic2\", \"Topic2\", \"Topic2\", \"Topic2\", \"Topic2\", \"Topic2\", \"Topic2\", \"Topic2\", \"Topic2\", \"Topic2\", \"Topic2\", \"Topic2\", \"Topic2\", \"Topic2\", \"Topic2\", \"Topic2\", \"Topic2\", \"Topic2\", \"Topic2\", \"Topic2\", \"Topic2\", \"Topic2\", \"Topic2\", \"Topic2\", \"Topic3\", \"Topic3\", \"Topic3\", \"Topic3\", \"Topic3\", \"Topic3\", \"Topic3\", \"Topic3\", \"Topic3\", \"Topic3\", \"Topic3\", \"Topic3\", \"Topic3\", \"Topic3\", \"Topic3\", \"Topic3\", \"Topic3\", \"Topic3\", \"Topic3\", \"Topic3\", \"Topic3\", \"Topic3\", \"Topic3\", \"Topic3\", \"Topic3\", \"Topic3\", \"Topic3\", \"Topic3\", \"Topic3\", \"Topic3\", \"Topic3\", \"Topic4\", \"Topic4\", \"Topic4\", \"Topic4\", \"Topic4\", \"Topic4\", \"Topic4\", \"Topic4\", \"Topic4\", \"Topic4\", \"Topic4\", \"Topic4\", \"Topic4\", \"Topic4\", \"Topic4\", \"Topic4\", \"Topic4\", \"Topic4\", \"Topic4\", \"Topic4\", \"Topic4\", \"Topic4\", \"Topic4\", \"Topic4\", \"Topic4\", \"Topic4\", \"Topic4\", \"Topic4\", \"Topic4\", \"Topic4\", \"Topic4\", \"Topic5\", \"Topic5\", \"Topic5\", \"Topic5\", \"Topic5\", \"Topic5\", \"Topic5\", \"Topic5\", \"Topic5\", \"Topic5\", \"Topic5\", \"Topic5\", \"Topic5\", \"Topic5\", \"Topic5\", \"Topic5\", \"Topic5\", \"Topic5\", \"Topic5\", \"Topic5\", \"Topic5\", \"Topic5\", \"Topic5\", \"Topic5\", \"Topic5\", \"Topic5\", \"Topic5\", \"Topic5\", \"Topic5\", \"Topic5\", \"Topic5\"], \"logprob\": [30.0, 29.0, 28.0, 27.0, 26.0, 25.0, 24.0, 23.0, 22.0, 21.0, 20.0, 19.0, 18.0, 17.0, 16.0, 15.0, 14.0, 13.0, 12.0, 11.0, 10.0, 9.0, 8.0, 7.0, 6.0, 5.0, 4.0, 3.0, 2.0, 1.0, -1.5501, -2.9986, -2.4726, -3.0637, -2.9328, -2.2149, -3.4946, -2.6169, -3.2895, -3.7484, -2.1261, -4.046, -3.9939, -4.239, -4.298, -3.9826, -4.2722, -3.8836, -4.5383, -4.6296, -4.8255, -5.4181, -5.6169, -6.2821, -6.2751, -7.2655, -6.984, -7.9849, -7.864, -7.5275, -7.4003, -2.1731, -2.0575, -2.1266, -3.0314, -2.9254, -3.0756, -3.0838, -3.6886, -1.7975, -3.3299, -3.568, -3.211, -4.2204, -3.903, -3.8692, -3.6247, -4.9267, -4.8584, -4.4622, -5.0052, -5.5821, -4.6176, -5.6339, -5.4967, -5.8409, -6.2035, -6.6933, -5.3527, -6.7937, -6.9488, -2.2795, -2.7184, -1.9172, -2.8929, -2.348, -2.8013, -3.4995, -3.2068, -3.4656, -2.8223, -3.862, -2.0607, -3.903, -4.1435, -4.139, -4.4315, -4.2177, -4.573, -4.5574, -4.2015, -4.6814, -4.9499, -5.0987, -5.4576, -4.5383, -5.2405, -6.322, -6.6403, -7.0728, -7.1328, -6.6475, -2.4212, -2.3159, -3.1256, -2.1918, -2.6549, -2.4343, -2.8188, -3.2182, -2.9323, -3.2155, -3.4141, -3.6476, -3.4676, -2.9229, -3.7764, -4.0332, -4.06, -4.0104, -4.5114, -4.038, -4.2766, -5.2308, -3.8492, -5.5538, -6.1172, -6.4605, -6.0706, -5.6847, -6.3331, -7.221, -7.04, -2.0517, -2.3256, -2.9048, -2.8686, -3.1237, -2.2801, -3.3207, -3.0459, -3.3754, -3.9071, -3.1236, -2.1307, -2.562, -3.8764, -4.1202, -3.542, -4.4146, -4.249, -4.8179, -4.9803, -4.8111, -4.7479, -5.1462, -6.4609, -6.5201, -6.4661, -6.6185, -7.2571, -7.1859, -7.8453, -7.8448], \"loglift\": [30.0, 29.0, 28.0, 27.0, 26.0, 25.0, 24.0, 23.0, 22.0, 21.0, 20.0, 19.0, 18.0, 17.0, 16.0, 15.0, 14.0, 13.0, 12.0, 11.0, 10.0, 9.0, 8.0, 7.0, 6.0, 5.0, 4.0, 3.0, 2.0, 1.0, 1.0373, 0.8246, 0.7359, 0.6509, 0.5685, 0.5288, 0.527, 0.3867, 0.3137, 0.1107, 0.0592, 0.022, -0.3722, -0.3762, -0.3923, -0.4076, -0.4711, -0.7017, -0.7747, -0.9767, -1.3228, -1.423, -1.6049, -2.2979, -2.6338, -3.3216, -3.3537, -3.844, -4.3118, -4.3321, -4.3328, 1.4572, 1.1243, 1.0688, 0.9806, 0.9337, 0.7255, 0.5194, 0.4524, 0.3878, 0.3847, 0.1956, -0.1434, -0.3147, -0.328, -0.3665, -0.881, -0.9829, -1.0352, -1.2537, -1.3523, -1.5979, -1.614, -1.7711, -1.875, -2.3396, -2.5622, -2.6253, -2.7653, -2.7721, -3.3966, 1.2726, 1.2254, 0.8264, 0.7288, 0.7195, 0.7015, 0.4955, 0.3964, 0.298, 0.1813, 0.15, 0.1246, -0.0402, -0.4289, -0.5087, -0.6083, -0.7164, -0.772, -0.9045, -1.0197, -1.0402, -1.0442, -1.2396, -1.8826, -1.9508, -2.0451, -2.254, -2.6187, -2.9319, -3.1487, -3.439, 1.563, 1.337, 0.896, 0.8757, 0.8479, 0.7611, 0.6825, 0.6446, 0.6198, 0.5855, 0.5809, 0.4204, 0.296, 0.2856, 0.0468, -0.0894, -0.1543, -0.3691, -0.3705, -0.4164, -0.7016, -1.5162, -1.6639, -1.6947, -2.1052, -2.8302, -2.8887, -3.0973, -3.5894, -3.6179, -4.0364, 1.5896, 1.2494, 1.2361, 1.037, 0.9443, 0.7235, 0.6743, 0.5757, 0.4874, 0.1049, 0.0583, 0.0546, 0.0255, -0.1128, -0.1763, -0.3335, -0.5555, -0.5961, -0.8337, -0.9587, -1.3098, -2.0042, -2.0787, -2.7463, -2.8898, -2.9139, -3.4231, -3.456, -3.5827, -4.0221, -4.3421]}, \"token.table\": {\"Topic\": [1, 2, 3, 4, 5, 1, 3, 4, 5, 1, 2, 3, 4, 5, 1, 2, 3, 4, 5, 1, 2, 3, 4, 1, 2, 3, 4, 1, 2, 3, 4, 5, 1, 2, 3, 4, 5, 1, 2, 3, 4, 5, 2, 3, 4, 5, 1, 2, 3, 4, 5, 1, 2, 4, 5, 1, 2, 3, 4, 5, 2, 3, 4, 5, 1, 2, 3, 4, 5, 2, 4, 5, 1, 2, 3, 4, 5, 1, 2, 3, 4, 5, 1, 2, 3, 4, 5, 1, 2, 3, 4, 5, 1, 2, 3, 4, 5, 1, 2, 3, 4, 1, 2, 3, 4, 5, 1, 2, 3, 4, 5, 1, 2, 3, 4, 5, 1, 2, 3, 4, 5, 1, 2, 3, 4, 5, 1, 2, 3, 4, 5, 1, 2, 3, 1, 2, 3, 4, 5, 1, 2, 3, 4, 5], \"Freq\": [0.588206929184653, 0.05347335719860482, 0.007639051028372117, 0.23681058187953563, 0.11458576542558176, 0.06709313741541262, 0.30191911836935675, 0.3186924027232099, 0.3186924027232099, 0.4751048986973031, 0.08158366947327428, 0.4127173867471522, 0.00479903938078084, 0.01919615752312336, 0.14131844238719418, 0.617338458849322, 0.06694031481498672, 0.007437812757220747, 0.17106969341607717, 0.17959698709556668, 0.41445458560515386, 0.08289091712103076, 0.31774851563061796, 0.0717639858623234, 0.1435279717246468, 0.36907192729194893, 0.4203319171936085, 0.011646879360139157, 0.8618690726502976, 0.10482191424125241, 0.011646879360139157, 0.011646879360139157, 0.1072222205982004, 0.04765432026586684, 0.07148148039880027, 0.6790740637886026, 0.08339506046526698, 0.48230514162922505, 0.01722518362961518, 0.01722518362961518, 0.4306295907403795, 0.06890073451846072, 0.5880779747623789, 0.02261838364470688, 0.38451252196001695, 0.007539461214902294, 0.18734361253661255, 0.14326276252799783, 0.03306063750646104, 0.08816170001722944, 0.551010625107684, 0.03318412026200845, 0.03318412026200845, 0.8627871268122197, 0.0663682405240169, 0.006634563175381818, 0.17249864255992728, 0.3715355378213818, 0.4312466063998182, 0.019903689526145456, 0.010771349171355315, 0.6462809502813188, 0.33391182431201477, 0.010771349171355315, 0.49138605852908657, 0.020474419105378606, 0.09213488597420373, 0.3583023343441256, 0.04094883821075721, 0.31051705295073145, 0.1164438948565243, 0.5434048426637801, 0.2965322413008169, 0.2965322413008169, 0.20592516757001172, 0.032948026811201875, 0.16748580295694288, 0.015935661816843135, 0.07967830908421566, 0.6214908108568823, 0.15935661816843133, 0.12748529453474508, 0.5321815478023343, 0.29143275236794497, 0.11403890310050022, 0.03801296770016674, 0.012670989233388913, 0.2886838847039415, 0.018042742793996345, 0.018042742793996345, 0.2706411419099452, 0.414983084261916, 0.051179583615091485, 0.5288556973559454, 0.20471833446036594, 0.017059861205030495, 0.17059861205030497, 0.6356258060190666, 0.07062508955767406, 0.0988751253807437, 0.18362523284995258, 0.4107507082326519, 0.03734097347569563, 0.21782234527489117, 0.006223495579282604, 0.32362177012269544, 0.7922409964447213, 0.012314626887741783, 0.024629253775483567, 0.008209751258494522, 0.16419502516989046, 0.19629065473905988, 0.03463952730689292, 0.3810348003758221, 0.1154650910229764, 0.27711621845514334, 0.023551061034653743, 0.011775530517326872, 0.05887765258663436, 0.1295308356905956, 0.7771850141435735, 0.19104365261567355, 0.029391331171642086, 0.1763479870298525, 0.33800030847388396, 0.26452198054477877, 0.13307587209434754, 0.2395365697698256, 0.2395365697698256, 0.2395365697698256, 0.1463834593037823, 0.38538157843747656, 0.3400425692095381, 0.27203405536763053, 0.30746706328366447, 0.5124451054727741, 0.05856515491117418, 0.02928257745558709, 0.08784773236676127, 0.1840712444368129, 0.15339270369734406, 0.061357081478937626, 0.15339270369734406, 0.4448388407222978], \"Term\": [\"!\", \"!\", \"!\", \"!\", \"!\", \"&\", \"&\", \"&\", \"&\", \",\", \",\", \",\", \",\", \",\", \"-\", \"-\", \"-\", \"-\", \"-\", \".\", \".\", \".\", \".\", \"/\", \"/\", \"/\", \"/\", \"1\", \"1\", \"1\", \"1\", \"1\", \"2\", \"2\", \"2\", \"2\", \"2\", \"and\", \"and\", \"and\", \"and\", \"and\", \"apartment\", \"apartment\", \"apartment\", \"apartment\", \"apt\", \"apt\", \"apt\", \"apt\", \"apt\", \"beautiful\", \"beautiful\", \"beautiful\", \"beautiful\", \"bedroom\", \"bedroom\", \"bedroom\", \"bedroom\", \"bedroom\", \"brooklyn\", \"brooklyn\", \"brooklyn\", \"brooklyn\", \"cozy\", \"cozy\", \"cozy\", \"cozy\", \"cozy\", \"east\", \"east\", \"east\", \"in\", \"in\", \"in\", \"in\", \"in\", \"large\", \"large\", \"large\", \"large\", \"large\", \"manhattan\", \"manhattan\", \"manhattan\", \"manhattan\", \"manhattan\", \"near\", \"near\", \"near\", \"near\", \"near\", \"of\", \"of\", \"of\", \"of\", \"of\", \"park\", \"park\", \"park\", \"park\", \"private\", \"private\", \"private\", \"private\", \"private\", \"room\", \"room\", \"room\", \"room\", \"room\", \"spacious\", \"spacious\", \"spacious\", \"spacious\", \"spacious\", \"studio\", \"studio\", \"studio\", \"studio\", \"studio\", \"sunny\", \"sunny\", \"sunny\", \"sunny\", \"sunny\", \"the\", \"the\", \"the\", \"the\", \"the\", \"to\", \"to\", \"to\", \"williamsburg\", \"williamsburg\", \"williamsburg\", \"williamsburg\", \"williamsburg\", \"with\", \"with\", \"with\", \"with\", \"with\"]}, \"R\": 30, \"lambda.step\": 0.01, \"plot.opts\": {\"xlab\": \"PC1\", \"ylab\": \"PC2\"}, \"topic.order\": [1, 5, 2, 4, 3]};\n",
       "\n",
       "function LDAvis_load_lib(url, callback){\n",
       "  var s = document.createElement('script');\n",
       "  s.src = url;\n",
       "  s.async = true;\n",
       "  s.onreadystatechange = s.onload = callback;\n",
       "  s.onerror = function(){console.warn(\"failed to load library \" + url);};\n",
       "  document.getElementsByTagName(\"head\")[0].appendChild(s);\n",
       "}\n",
       "\n",
       "if(typeof(LDAvis) !== \"undefined\"){\n",
       "   // already loaded: just create the visualization\n",
       "   !function(LDAvis){\n",
       "       new LDAvis(\"#\" + \"ldavis_el414023395050187368092811273\", ldavis_el414023395050187368092811273_data);\n",
       "   }(LDAvis);\n",
       "}else if(typeof define === \"function\" && define.amd){\n",
       "   // require.js is available: use it to load d3/LDAvis\n",
       "   require.config({paths: {d3: \"https://d3js.org/d3.v5\"}});\n",
       "   require([\"d3\"], function(d3){\n",
       "      window.d3 = d3;\n",
       "      LDAvis_load_lib(\"https://cdn.jsdelivr.net/gh/bmabey/pyLDAvis@3.4.0/pyLDAvis/js/ldavis.v3.0.0.js\", function(){\n",
       "        new LDAvis(\"#\" + \"ldavis_el414023395050187368092811273\", ldavis_el414023395050187368092811273_data);\n",
       "      });\n",
       "    });\n",
       "}else{\n",
       "    // require.js not available: dynamically load d3 & LDAvis\n",
       "    LDAvis_load_lib(\"https://d3js.org/d3.v5.js\", function(){\n",
       "         LDAvis_load_lib(\"https://cdn.jsdelivr.net/gh/bmabey/pyLDAvis@3.4.0/pyLDAvis/js/ldavis.v3.0.0.js\", function(){\n",
       "                 new LDAvis(\"#\" + \"ldavis_el414023395050187368092811273\", ldavis_el414023395050187368092811273_data);\n",
       "            })\n",
       "         });\n",
       "}\n",
       "</script>"
      ],
      "text/plain": [
       "<IPython.core.display.HTML object>"
      ]
     },
     "execution_count": 112,
     "metadata": {},
     "output_type": "execute_result"
    }
   ],
   "source": [
    "lda_display = gensimvis.prepare(ldamod, corpus_fromdict, text_raw_dict)\n",
    "pyLDAvis.display(lda_display)"
   ]
  },
  {
   "cell_type": "markdown",
   "metadata": {},
   "source": [
    "## 3.4 Activity 3\n",
    "\n",
    "- Preprocess the texts if you haven't already\n",
    "- Run the topic model with preprocessed texts\n",
    "- Play around with other parameters like `n_topics` to find a configuration that produces useful topics\n",
    "\n",
    "If you get stuck on the preprocessing part, you can use below function and example code for applying it. Then continue as above (start with tokenizing)."
   ]
  },
  {
   "cell_type": "code",
   "execution_count": 115,
   "metadata": {},
   "outputs": [
    {
     "data": {
      "text/html": [
       "<div>\n",
       "<style scoped>\n",
       "    .dataframe tbody tr th:only-of-type {\n",
       "        vertical-align: middle;\n",
       "    }\n",
       "\n",
       "    .dataframe tbody tr th {\n",
       "        vertical-align: top;\n",
       "    }\n",
       "\n",
       "    .dataframe thead th {\n",
       "        text-align: right;\n",
       "    }\n",
       "</style>\n",
       "<table border=\"1\" class=\"dataframe\">\n",
       "  <thead>\n",
       "    <tr style=\"text-align: right;\">\n",
       "      <th></th>\n",
       "      <th>id</th>\n",
       "      <th>neighbourhood_group</th>\n",
       "      <th>price_rawdata</th>\n",
       "      <th>name</th>\n",
       "      <th>name_lower</th>\n",
       "      <th>processed_name</th>\n",
       "      <th>text_preprocess</th>\n",
       "    </tr>\n",
       "  </thead>\n",
       "  <tbody>\n",
       "    <tr>\n",
       "      <th>23821</th>\n",
       "      <td>19227560</td>\n",
       "      <td>Queens</td>\n",
       "      <td>100</td>\n",
       "      <td>Super Cozy!</td>\n",
       "      <td>super cozy!</td>\n",
       "      <td>super cozi</td>\n",
       "      <td>super cozi</td>\n",
       "    </tr>\n",
       "    <tr>\n",
       "      <th>22905</th>\n",
       "      <td>18560625</td>\n",
       "      <td>Brooklyn</td>\n",
       "      <td>30</td>\n",
       "      <td>Beautiful Private Bedroom by Prospect Park</td>\n",
       "      <td>beautiful private bedroom by prospect park</td>\n",
       "      <td>beauti privat bedroom prospect park</td>\n",
       "      <td>beauti privat bedroom prospect park</td>\n",
       "    </tr>\n",
       "    <tr>\n",
       "      <th>20426</th>\n",
       "      <td>16289576</td>\n",
       "      <td>Manhattan</td>\n",
       "      <td>80</td>\n",
       "      <td>Best Location on the Upper West Side! - Part II</td>\n",
       "      <td>best location on the upper west side! - part ii</td>\n",
       "      <td>best locat upper west side part</td>\n",
       "      <td>best locat the upper west side part</td>\n",
       "    </tr>\n",
       "    <tr>\n",
       "      <th>2018</th>\n",
       "      <td>893413</td>\n",
       "      <td>Manhattan</td>\n",
       "      <td>2500</td>\n",
       "      <td>Architecturally Stunning Former Synagogue!</td>\n",
       "      <td>architecturally stunning former synagogue!</td>\n",
       "      <td>architectur stun former synagogu</td>\n",
       "      <td>architectur stun former synagogu</td>\n",
       "    </tr>\n",
       "    <tr>\n",
       "      <th>18790</th>\n",
       "      <td>14882137</td>\n",
       "      <td>Queens</td>\n",
       "      <td>50</td>\n",
       "      <td>Large, beautiful room near Bushwick</td>\n",
       "      <td>large, beautiful room near bushwick</td>\n",
       "      <td>larg beauti room near bushwick</td>\n",
       "      <td>larg beauti room near bushwick</td>\n",
       "    </tr>\n",
       "  </tbody>\n",
       "</table>\n",
       "</div>"
      ],
      "text/plain": [
       "             id neighbourhood_group  price_rawdata  \\\n",
       "23821  19227560              Queens            100   \n",
       "22905  18560625            Brooklyn             30   \n",
       "20426  16289576           Manhattan             80   \n",
       "2018     893413           Manhattan           2500   \n",
       "18790  14882137              Queens             50   \n",
       "\n",
       "                                                  name  \\\n",
       "23821                                      Super Cozy!   \n",
       "22905       Beautiful Private Bedroom by Prospect Park   \n",
       "20426  Best Location on the Upper West Side! - Part II   \n",
       "2018        Architecturally Stunning Former Synagogue!   \n",
       "18790              Large, beautiful room near Bushwick   \n",
       "\n",
       "                                            name_lower  \\\n",
       "23821                                      super cozy!   \n",
       "22905       beautiful private bedroom by prospect park   \n",
       "20426  best location on the upper west side! - part ii   \n",
       "2018        architecturally stunning former synagogue!   \n",
       "18790              large, beautiful room near bushwick   \n",
       "\n",
       "                            processed_name  \\\n",
       "23821                           super cozi   \n",
       "22905  beauti privat bedroom prospect park   \n",
       "20426      best locat upper west side part   \n",
       "2018      architectur stun former synagogu   \n",
       "18790       larg beauti room near bushwick   \n",
       "\n",
       "                           text_preprocess  \n",
       "23821                           super cozi  \n",
       "22905  beauti privat bedroom prospect park  \n",
       "20426  best locat the upper west side part  \n",
       "2018      architectur stun former synagogu  \n",
       "18790       larg beauti room near bushwick  "
      ]
     },
     "execution_count": 115,
     "metadata": {},
     "output_type": "execute_result"
    }
   ],
   "source": [
    "\n"
   ]
  }
 ],
 "metadata": {
  "kernelspec": {
   "display_name": "Python 3 (ipykernel)",
   "language": "python",
   "name": "python3"
  },
  "language_info": {
   "codemirror_mode": {
    "name": "ipython",
    "version": 3
   },
   "file_extension": ".py",
   "mimetype": "text/x-python",
   "name": "python",
   "nbconvert_exporter": "python",
   "pygments_lexer": "ipython3",
   "version": "3.11.7"
  }
 },
 "nbformat": 4,
 "nbformat_minor": 4
}
