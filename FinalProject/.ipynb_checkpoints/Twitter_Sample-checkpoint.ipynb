{
 "cells": [
  {
   "cell_type": "code",
   "execution_count": 7,
   "id": "bf9600ea-6310-4ae8-9dd3-692481b623cc",
   "metadata": {},
   "outputs": [],
   "source": [
    "## imports\n",
    "import pandas as pd\n",
    "import numpy as np\n",
    "\n",
    "\n",
    "## print multiple things from same cell\n",
    "from IPython.core.interactiveshell import InteractiveShell\n",
    "InteractiveShell.ast_node_interactivity = \"all\""
   ]
  },
  {
   "cell_type": "code",
   "execution_count": 8,
   "id": "95539f5c-ae91-47cc-b9b7-7f619b847ac5",
   "metadata": {},
   "outputs": [],
   "source": [
    "url = \"C:/Users/cabal/OneDrive/Desktop/QSS20_S24/covid_sample-0.0001.pkl\"\n",
    "\n",
    "df = pd.read_pickle(url)\n",
    "\n"
   ]
  },
  {
   "cell_type": "code",
   "execution_count": 12,
   "id": "361a31b8-aa4c-4977-a81d-e3b8e9cef4f4",
   "metadata": {},
   "outputs": [
    {
     "data": {
      "text/plain": [
       "29075                                                   NaN\n",
       "17272     http://pbs.twimg.com/profile_images/1333784331...\n",
       "38446     http://pbs.twimg.com/profile_images/1269324858...\n",
       "16418     http://pbs.twimg.com/profile_images/1252695647...\n",
       "53175     http://pbs.twimg.com/profile_images/1329221892...\n",
       "                                ...                        \n",
       "47554     http://pbs.twimg.com/profile_images/1642202025...\n",
       "10511     http://pbs.twimg.com/profile_images/1109924705...\n",
       "161110    http://pbs.twimg.com/profile_images/1476039175...\n",
       "11663     http://pbs.twimg.com/profile_images/1413949253...\n",
       "9549                                                    NaN\n",
       "Name: profile_pic_url, Length: 189969, dtype: object"
      ]
     },
     "execution_count": 12,
     "metadata": {},
     "output_type": "execute_result"
    }
   ],
   "source": [
    "df.profile_pic_url"
   ]
  }
 ],
 "metadata": {
  "kernelspec": {
   "display_name": "Python 3 (ipykernel)",
   "language": "python",
   "name": "python3"
  },
  "language_info": {
   "codemirror_mode": {
    "name": "ipython",
    "version": 3
   },
   "file_extension": ".py",
   "mimetype": "text/x-python",
   "name": "python",
   "nbconvert_exporter": "python",
   "pygments_lexer": "ipython3",
   "version": "3.11.7"
  }
 },
 "nbformat": 4,
 "nbformat_minor": 5
}
