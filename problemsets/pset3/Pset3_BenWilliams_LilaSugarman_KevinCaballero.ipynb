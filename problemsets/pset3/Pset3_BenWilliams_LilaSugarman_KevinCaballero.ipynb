{
 "cells": [
  {
   "cell_type": "markdown",
   "metadata": {},
   "source": [
    "# Problem set 3: Text analysis of DOJ press releases\n",
    "\n",
    "**Total points (without extra credit)**: 52 \n",
    "\n",
    "- For background:\n",
    "\n",
    "    - DOJ is the federal law enforcement agency responsible for federal prosecutions; this contrasts with the local prosecutions in the Cook County dataset we analyzed earlier. Here's a short explainer on which crimes get prosecuted federally versus locally: https://www.criminaldefenselawyer.com/resources/criminal-defense/federal-crime/state-vs-federal-crimes.htm#:~:text=Federal%20criminal%20prosecutions%20are%20handled,of%20state%20and%20local%20law. \n",
    "    - Here's the Kaggle that contains the data: https://www.kaggle.com/jbencina/department-of-justice-20092018-press-releases \n",
    "    - Here's the code the dataset creator used to scrape those press releases here if you're interested: https://github.com/jbencina/dojreleases"
   ]
  },
  {
   "cell_type": "markdown",
   "metadata": {},
   "source": [
    "## 0.0 Import packages"
   ]
  },
  {
   "cell_type": "code",
   "execution_count": 45,
   "metadata": {},
   "outputs": [
    {
     "name": "stderr",
     "output_type": "stream",
     "text": [
      "[nltk_data] Downloading package averaged_perceptron_tagger to\n",
      "[nltk_data]     C:\\Users\\cabal\\AppData\\Roaming\\nltk_data...\n",
      "[nltk_data]   Package averaged_perceptron_tagger is already up-to-\n",
      "[nltk_data]       date!\n"
     ]
    },
    {
     "data": {
      "text/plain": [
       "True"
      ]
     },
     "execution_count": 45,
     "metadata": {},
     "output_type": "execute_result"
    }
   ],
   "source": [
    "## helpful packages\n",
    "import warnings\n",
    "warnings.filterwarnings(\"ignore\")\n",
    "\n",
    "import pyLDAvis.gensim_models as gensimvis\n",
    "import pyLDAvis\n",
    "\n",
    "import pandas as pd\n",
    "import numpy as np\n",
    "import random\n",
    "import re\n",
    "import string\n",
    "\n",
    "## nltk imports\n",
    "import nltk\n",
    "### uncomment and run these lines if you haven't downloaded relevant nltk add-ons yet\n",
    "nltk.download('averaged_perceptron_tagger')\n",
    "### nltk.download('stopwords')\n",
    "from nltk import pos_tag\n",
    "from nltk.tokenize import word_tokenize, wordpunct_tokenize\n",
    "from nltk.stem.snowball import SnowballStemmer\n",
    "from nltk.corpus import stopwords\n",
    "\n",
    "## spacy imports\n",
    "import spacy\n",
    "### uncomment and run the below line if you haven't loaded the en_core_web_sm library yet\n",
    "### ! python -m spacy download en_core_web_sm\n",
    "import en_core_web_sm\n",
    "nlp = en_core_web_sm.load()\n",
    "\n",
    "## vectorizer\n",
    "from sklearn.feature_extraction.text import CountVectorizer\n",
    "\n",
    "## sentiment\n",
    "from vaderSentiment.vaderSentiment import SentimentIntensityAnalyzer\n",
    "\n",
    "## lda\n",
    "from gensim import corpora\n",
    "import gensim\n",
    "\n",
    "## repeated printouts and wide-format text\n",
    "from IPython.core.interactiveshell import InteractiveShell\n",
    "InteractiveShell.ast_node_interactivity = \"all\"\n",
    "pd.set_option('display.max_colwidth', None)\n",
    "\n"
   ]
  },
  {
   "cell_type": "markdown",
   "metadata": {},
   "source": [
    "## 0.1 Load and clean text data"
   ]
  },
  {
   "cell_type": "code",
   "execution_count": 46,
   "metadata": {},
   "outputs": [
    {
     "data": {
      "text/html": [
       "<div>\n",
       "<style scoped>\n",
       "    .dataframe tbody tr th:only-of-type {\n",
       "        vertical-align: middle;\n",
       "    }\n",
       "\n",
       "    .dataframe tbody tr th {\n",
       "        vertical-align: top;\n",
       "    }\n",
       "\n",
       "    .dataframe thead th {\n",
       "        text-align: right;\n",
       "    }\n",
       "</style>\n",
       "<table border=\"1\" class=\"dataframe\">\n",
       "  <thead>\n",
       "    <tr style=\"text-align: right;\">\n",
       "      <th></th>\n",
       "      <th>id</th>\n",
       "      <th>title</th>\n",
       "      <th>contents</th>\n",
       "      <th>date</th>\n",
       "      <th>topics_clean</th>\n",
       "      <th>components_clean</th>\n",
       "    </tr>\n",
       "  </thead>\n",
       "  <tbody>\n",
       "    <tr>\n",
       "      <th>0</th>\n",
       "      <td>None</td>\n",
       "      <td>Convicted Bomb Plotter Sentenced to 30 Years</td>\n",
       "      <td>PORTLAND, Oregon. – Mohamed Osman Mohamud, 23, who was convicted in 2013 of attempting to use a weapon of mass destruction (explosives) in connection with a plot to detonate a vehicle bomb at an annual Christmas tree lighting ceremony in Portland, was sentenced today to serve 30 years in prison, followed by a lifetime term of supervised release. Mohamud, a naturalized U.S. citizen from Somalia and former resident of Corvallis, Oregon, was arrested on Nov. 26, 2010, after he attempted to detonate what he believed to be an explosives-laden van that was parked near the tree lighting ceremony in Portland.  The arrest was the culmination of a long-term undercover operation, during which Mohamud was monitored closely for months as his bomb plot developed.  The device was in fact inert, and the public was never in danger from the device. At sentencing, United States District Court Judge Garr M. King, who presided over Mohamed’s 14-day trial, said “the intended crime was horrific,” and that the defendant, even though he was presented with options by undercover FBI employees, “never once expressed a change of heart.”  King further noted that the Christmas tree ceremony was attended by up to 10,000 people, and that the defendant “wanted everyone to leave either dead or injured.”  King said his sentence was necessary in view of the seriousness of the crime and to serve as deterrence to others who might consider similar acts.     “With today’s sentencing, Mohamed Osman Mohamud is being held accountable for his attempted use of what he believed to be a massive bomb to attack innocent civilians attending a public Christmas tree lighting ceremony in Portland,” said John P. Carlin, Assistant Attorney General for National Security.  “The evidence clearly indicated that Mohamud was intent on killing as many people as possible with his attack.  Fortunately, law enforcement was able to identify him as a threat, insert themselves in the place of a terrorist that Mohamud was trying to contact, and thwart Mohamud’s efforts to conduct an attack on our soil.  This case highlights how the use of undercover operations against would-be terrorists allows us to engage and disrupt those who wish to commit horrific acts of violence against the innocent public.  The many agents, analysts, and prosecutors who have worked on this case deserve great credit for their roles in protecting Portland from the threat posed by this defendant and ensuring that he was brought to justice.” “This trial provided a rare glimpse into the techniques Al Qaeda employs to radicalize home-grown extremists,” said Amanda Marshall, U.S. Attorney for the District of Oregon.  “With the sentencing today, the court has held this defendant accountable.   I thank the dedicated professionals in the law enforcement and intelligence communities who were responsible for this successful outcome.  I look forward to our continued work with Muslim communities in Oregon who are committed to ensuring that all young people are safe from extremists who seek to radicalize others to engage in violence.”  According to the trial evidence, in February 2009, Mohamud began communicating via e-mail with Samir Khan, a now-deceased al Qaeda terrorist who published Jihad Recollections, an online magazine that advocated violent jihad, and who also published Inspire, the official magazine of al-Qaeda in the Arabian Peninsula.  Between February and August 2009, Mohamed exchanged approximately 150 emails with Khan.  Mohamud wrote several articles for Jihad Recollections that were published under assumed names. In August 2009, Mohamud was in email contact with Amro Al-Ali, a Saudi national who was in Yemen at the time and is today in custody in Saudi Arabia for terrorism offenses.  Al-Ali sent Mohamud detailed e-mails designed to facilitate Mohamud’s travel to Yemen to train for violent jihad.  In December 2009, while Al-Ali was in the northwest frontier province of Pakistan, Mohamud and Al-Ali discussed the possibility of Mohamud traveling to Pakistan to join Al-Ali in terrorist activities. Mohamud responded to Al-Ali in an e-mail: “yes, that would be wonderful, just tell me what I need to do.”  Al-Ali referred Mohamud to a second associate overseas and provided Mohamud with a name and email address to facilitate the process. In the following months, Mohamud made several unsuccessful attempts to contact Al-Ali’s associate.  Ultimately, an FBI undercover operative contacted Mohamud via email under the guise of being an associate of Al-Ali’s.  Mohamud and the FBI undercover operative agreed to meet in Portland in July 2010.  At the meeting, Mohamud told the FBI undercover operative he had written articles that were published in Jihad Recollections.  Mohamud also said that he wanted to become “operational.”  Asked what he meant by “operational,” Mohamud said he wanted to put an explosion together, but needed help. According to evidence presented at trial, at a meeting in August 2010, Mohamud told undercover FBI operatives he had been thinking of committing violent jihad since the age of 15.  Mohamud then told the undercover FBI operatives that he had identified a potential target for a bomb: the annual Christmas tree lighting ceremony in Portland’s Pioneer Courthouse Square on Nov. 26, 2010.  The undercover FBI operatives cautioned Mohamud several times about the seriousness of this plan, noting there would be many people at the event, including children, and emphasized that Mohamud could abandon his attack plans at any time with no shame.  Mohamud indicated the deaths would be justified and that he would not mind carrying out a suicide attack on the crowd. According to evidence presented at trial, in the ensuing months Mohamud continued to express his interest in carrying out the attack and worked on logistics.  On Nov. 4, 2010, Mohamud and the undercover FBI operatives traveled to a remote location in Lincoln County, Oregon, where they detonated a bomb concealed in a backpack as a trial run for the upcoming attack.  During the drive back to Corvallis, Mohamud was asked if was capable looking at all the bodies of those who would be killed during the explosion.  In response, Mohamud noted, “I want whoever is attending that event to be, to leave either dead or injured.”  Mohamud later recorded a video of himself, with the assistance of the undercover FBI operatives, in which he read a statement that offered his rationale for his bomb attack.  On Nov. 18, 2010, undercover FBI operatives picked up Mohamud to travel to Portland to finalize the details of the attack.  On Nov. 26, 2010, just hours before the planned attack, Mohamud examined the 1,800 pound bomb in the van and remarked that it was “beautiful.”  Later that day, Mohamud was arrested after he attempted to remotely detonate the inert vehicle bomb rked near the Christmas tree lighting ceremony This case was investigated by the FBI, with assistance from the Oregon State Police, the Corvallis Police Department, the Lincoln County Sheriff’s Office and the Portland Police Bureau.  The prosecution was handled by Assistant U.S. Attorneys Ethan D. Knight and Pamala Holsinger from the U.S. Attorney’s Office for the District of Oregon.  Trial Attorney Jolie F. Zimmerman, from the Counterterrorism Section of the Justice Department’s National Security Division, assisted. # # # 14-1077</td>\n",
       "      <td>2014-10-01T00:00:00-04:00</td>\n",
       "      <td>No topic</td>\n",
       "      <td>National Security Division (NSD)</td>\n",
       "    </tr>\n",
       "    <tr>\n",
       "      <th>1</th>\n",
       "      <td>12-919</td>\n",
       "      <td>$1 Million in Restitution Payments Announced to Preserve North Carolina Wetlands</td>\n",
       "      <td>WASHINGTON – North Carolina’s Waccamaw River watershed will benefit from a $1 million restitution order from a federal court, funding environmental projects to acquire and preserve wetlands in an area damaged by illegal releases of wastewater from a corporate hog farm, announced Ignacia S. Moreno, Assistant Attorney General of the Justice Department’s Environment and Natural Resources Division; U.S. Attorney for the Eastern District of North Carolina Thomas G. Walker; Director Greg McLeod from the North Carolina State Bureau of Investigation; and Camilla M. Herlevich, Executive Director of the North Carolina Coastal Land Trust.   Freedman Farms Inc. was sentenced in February 2012 to five years of probation and ordered to pay $1.5 million in fines, restitution and community service payments for violating the Clean Water Act when it discharged hog waste into a stream that leads to the Waccamaw River.  William B. Freedman, president of Freedman Farms, was sentenced to six months in prison to be followed by six months of home confinement.  Freedman Farms also is required to implement a comprehensive environmental compliance program and institute an annual training program.   In an order issued on April 19, 2012, the court ordered that the defendants would be responsible for restitution of $1 million in the form of five annual payments starting in January 2013, which the court will direct to the North Carolina Coastal Land Trust (NCCLT).  The NCCLT plans to use the money to acquire and conserve land along streams in the Waccamaw watershed.  The court also directed a $75,000 community service payment to the Southern Environmental Enforcement Network, an organization dedicated to environmental law enforcement training and information sharing in the region.    “The resolution of the case against Freedman Farms demonstrates the commitment of the Department of Justice to enforcing the Clean Water Act to ensure the protection of human health and the environment,” said Assistant Attorney General Moreno.  “The court-ordered restitution in this case will conserve wetlands for the benefit of the people of North Carolina.  By enforcing the nation’s environmental laws, we will continue to ensure that concentrated animal feeding operations (CAFOs) operate without threatening our drinking water, the health of our communities and the environment.”   “This office is committed to doing our part to hold accountable those who commit crimes against our environment, which can cause serious health problems to residents and damage the environment that makes North Carolina such a beautiful place to live and visit,” said U.S. Attorney Walker.   “This case shows what we can accomplish when our SBI agents work closely with their local, state and federal partners to investigate environmental crimes and hold the polluters accountable,” said Director McLeod.  “We’ll continue our efforts to fight illegal pollution that damages our water and puts the public’s health at risk.”    “The Waccamaw is unique and wild,” said Director Herlevich of the North Carolina Coastal Land Trust. “Its watershed includes some of the most extensive cypress gum swamps in the state, and its headwaters at Lake Waccamaw contain fish that are found nowhere else on Earth.  We appreciate the trust of the court and the U. S. Attorney, and we look forward to using these funds for conservation projects in a river system that is one of our top conservation priorities.”   According to evidence presented in court, in December 2007 Freedman Farms discharged hog waste into Browder’s Branch, a tributary to the Waccamaw River that flows through the White Marsh, a large wetlands complex.  Freedman Farms, located in Columbus County, N.C., is in the business of raising hogs for market, and this particular farm had some 4,800 hogs.  The hog waste was supposed to be directed to two lagoons for treatment and disposal.  Instead, hog waste was discharged from Freedman Farms directly into Browder’s Branch.    The Clean Water Act is a federal law that makes it illegal to knowingly or negligently discharge a pollutant into a water of the United States.    The Freedman case was investigated by the U.S. Environmental Protection Agency (EPA) Criminal Investigation Division, the U.S. Army Corps of Engineers and the North Carolina State Bureau of Investigation, with assistance from the EPA Science and Ecosystem Support Division.  The case was prosecuted by Assistant U.S. Attorney J. Gaston B. Williams of the Eastern District of North Carolina and Trial Attorney Mary Dee Carraway of the Environmental Crimes Section of the Justice Department’s Environment and Natural Resources Division.   The North Carolina Coastal Land Trust is celebrating its 20th anniversary of saving special lands in eastern North Carolina. The organization has protected nearly 50,000 acres of lands with scenic, recreational, historic and ecological values. North Carolina Coastal Land Trust has saved streams and wetlands that provide clean water, forests that are havens for wildlife, working farms that provide local food and nature parks that everyone can enjoy.  More information about the Coastal Land Trust is available at www.coastallandtrust.org.</td>\n",
       "      <td>2012-07-25T00:00:00-04:00</td>\n",
       "      <td>No topic</td>\n",
       "      <td>Environment and Natural Resources Division</td>\n",
       "    </tr>\n",
       "    <tr>\n",
       "      <th>2</th>\n",
       "      <td>11-1002</td>\n",
       "      <td>$1 Million Settlement Reached for Natural Resource Damages at Superfund Site in Massachusetts</td>\n",
       "      <td>BOSTON– A $1-million settlement has been reached for natural resource damages (NRD) at the Blackburn &amp; Union Privileges Superfund Site in Walpole, Mass., the Departments of Justice and Interior (DOI), and the Office of the Massachusetts Attorney General announced today.                The Blackburn &amp; Union Privileges Superfund Site includes 22 acres of contaminated land and water in Walpole. The contamination resulted from the operations of various industrial facilities dating back to the 19th century that exposed the site to asbestos, arsenic, lead and other hazardous substances.                The private parties involved in the settlement include two former owners and operators of the site, W.R. Grace &amp; Co.– Conn. and Tyco Healthcare Group LP, as well as the current owners, BIM Investment Corp. and Shaffer Realty Nominee Trust.               From about 1915 to 1936, a predecessor of W.R. Grace manufactured asbestos brake linings and clutch linings on a large portion of the property. From 1946 to about 1983, a predecessor of Tyco Healthcare operated a cotton fabric manufacturing business, which used caustic solutions, on a portion of the property.               In a 2010 settlement with U.S. Environmental Protection Agency (EPA), the four private parties agreed to perform a remedial action to clean up the site at an estimated cost of $13 million. The consent decree lodged today resolves both state and federal NRD liability claims; it requires the parties to pay $1,094,169.56 to the state and federal natural resource trustees, the Massachusetts Executive Office of Energy and Environmental Affairs (EEA) and DOI, for injuries to ecological resources including groundwater and wetlands, which provide habitat for waterfowl and wading birds, including black ducks and great blue herons.  The trustees will use the settlement funds for natural resource restoration projects in the area.               “This settlement demonstrates our commitment to recovering damages from the parties responsible for injury to natural resources, in partnership with state trustees,” said Bruce Gelber, Acting Deputy Assistant Attorney General of the Justice Department’s Environment and Natural Resources Division.               “The citizens of Walpole have had to live with the environmental impact of this contamination for many years,” Attorney General Martha Coakley said. “We are pleased that today’s agreement will not only require the responsible parties to reimburse taxpayer dollars, but will also provide funding to begin restoring or replacing the wetland and other natural resources.”                 The consent decree was lodged in the U.S. District Court for Massachusetts.     A portion of the funds, $300,000, will be distributed to the EEA-sponsored groundwater restoration projects; $575,000 will be used for ecological restoration projects jointly sponsored by EEA and the U.S. Fish and Wildlife Service (FWS).               In addition, $125,000 will go for projects jointly sponsored by EEA and FWS that achieve both ecological and groundwater restoration; $57,491.34 will be allocated for reimbursement for the FWS’s assessment costs; and $36,678.22 will be distributed as reimbursement for the commonwealth’s assessment costs.       “This settlement provides the means for a range of projects designed to compensate the public for decades of groundwater and other ecological damage at this site.  I encourage local citizens and organizations to become engaged in the public process that will take place as we solicit, take comment on, and choose these projects in the months ahead,” said Energy and Environmental Affairs Secretary Richard K. Sullivan Jr., who serves as the Commonwealth’s Natural Resources Damages trustee.       “This settlement will help restore habitat for fish and wildlife in the Neponset River watershed,” said Tom Chapman of the FWS New England Field Office. “We look forward to working with the commonwealth and local stakeholders to implement restoration.”               “More than 100 years-worth of industrial activities at this site caused major environmental contamination to the Neponset River, nearby wetlands and to groundwater below the site,” said Commissioner Kenneth Kimmell of the Massachusetts Department of Environmental Protection (MassDEP), which will staff the Trustee Council for the Commonwealth. “We will ensure that the community and the public will be active participants in the process to use these NRD funds to restore the injured natural resources.”                Under the federal Comprehensive Environmental Response, Compensation and Liability Act, EEA and DOI, acting through the FWS, are the designated state and federal natural resource Trustees for the site. The site has been listed on the EPA’s National Priorities List since 1994.        The consent decree is subject to a public comment period and court approval. A copy of the consent decree and instructions about how to submit comments is available on www.usdoj.gov/enrd/Consent_Decrees.html  .               After the consent decree is approved, EEA and FWS will develop proposed restoration plans to use the settlement funds for restoration projects. The proposed restoration plans will also be made available to the public for review and comment.                Assistant Attorney General Matthew Brock of Massachusetts Attorney General Coakley's Environmental Protection Division handled this matter.  Attorney Jennifer Davis of MassDEP, Attorney Anna Blumkin of EEA and MassDEP’s NRD Coordinator Karen Pelto also worked on this settlement.</td>\n",
       "      <td>2011-08-03T00:00:00-04:00</td>\n",
       "      <td>No topic</td>\n",
       "      <td>Environment and Natural Resources Division</td>\n",
       "    </tr>\n",
       "    <tr>\n",
       "      <th>3</th>\n",
       "      <td>10-015</td>\n",
       "      <td>10 Las Vegas Men Indicted \\r\\nfor Falsifying Vehicle Emissions Tests</td>\n",
       "      <td>WASHINGTON—A federal grand jury in Las Vegas today returned indictments against 10 Nevada-certified emissions testers for falsifying vehicle emissions test reports, the Justice Department announced.   Each defendant faces one felony Clean Air Act count for falsifying reports between November 2007 and May 2009. The number of falsifications varied by defendant, with some defendants having falsified approximately 250 records, while others falsified more than double that figure. One defendant is alleged to have falsified over 700 reports.   The individuals indicted include:     Escudero resides in Pahrump, Nev. All other individuals are from Clark County, Nev.    The 10 defendants are alleged to have engaged in a practice known as \"clean scanning\" vehicles. The scheme involved entering the Vehicle Identification Number (VIN) for a vehicle that would not pass the emissions test into the computerized system, then connecting a different vehicle the testers knew would pass the test. These falsifications were allegedly performed for anywhere from $10 to $100 over and above the usual emissions testing fee.    The U.S. Environmental Protection Agency (EPA), under the Clean Air Act, requires the state of Nevada to conduct vehicle emissions testing in certain areas because the areas exceed national standards for carbon monoxide and ozone. Las Vegas is currently required to perform emissions testing.    To obtain a registration renewal, vehicle owners bring the vehicles to a licensed inspection station for testing. The emissions inspector logs into a computer to activate the system by using a unique password issued to the emissions inspector. The emissions inspector manually inputs the vehicle’s VIN to identify the tested vehicle, then connects the vehicle for model year 1996 and later to an onboard diagnostics port connected to an analyzer. The analyzer downloads data from the vehicle’s computer, analyzes the data and provides a \"pass\" or \"fail\" result. The pass or fail result and vehicle identification data are reported on the Vehicle Inspection Report. It is a crime to knowingly alter or conceal any record or other document required to be maintained by the Clean Air Act.     \"Falsifications of vehicle emissions testing, such as those alleged in the indictments unsealed today, are serious matters and we intend to use all of our enforcement tools to stop this harmful practice. These actions undermine a system that is designed to reduce air pollutants including smog and provide better air quality for the citizens of Nevada,\" said Ignacia S. Moreno, Assistant Attorney General for the Justice Department’s Environment and Natural Resources Division.    \"The residents of Nevada deserve to know that the vast majority of licensed vehicle emission inspectors are not corrupt and are not circumventing emission testing procedures,\" said U.S. Attorney Bogden. \"These indictments should serve as a clear warning to offenders that the Department of Justice will prosecute you if you make fraudulent statements and reports concerning compliance with the federal Clean Air Act.\"    \"Lying about car emissions means dirtier air, which is especially of concern in areas like Las Vegas that are already experiencing air quality problems,\" said Cynthia Giles, Assistant Administrator for Enforcement and Compliance Assurance at EPA. \"We will take aggressive action to ensure communities have clean air.\"    The maximum penalty for the felony violations contained in the indictments includes up to two years in prison and a fine of up to $250,000.    An indictment is merely an accusation, and a defendant is presumed innocent unless and until proven guilty in a court of law.    The case was investigated by the EPA, Criminal Investigation Division; and the Nevada Department of Motor Vehicles Compliance Enforcement Division. The case is being prosecuted by the U.S. Attorney’s Office for the District of Nevada and the Justice Department’s Environmental Crimes Section.</td>\n",
       "      <td>2010-01-08T00:00:00-05:00</td>\n",
       "      <td>No topic</td>\n",
       "      <td>Environment and Natural Resources Division</td>\n",
       "    </tr>\n",
       "    <tr>\n",
       "      <th>4</th>\n",
       "      <td>18-898</td>\n",
       "      <td>$100 Million Settlement Will Speed Cleanup Work at Centredale Manor Superfund Site in North Providence, R.I.</td>\n",
       "      <td>The U.S. Department of Justice, the U.S. Environmental Protection Agency (EPA), and the Rhode Island Department of Environmental Management (RIDEM) announced today that two subsidiaries of Stanley Black &amp; Decker Inc.—Emhart Industries Inc. and Black &amp; Decker Inc.—have agreed to clean up dioxin contaminated sediment and soil at the Centredale Manor Restoration Project Superfund Site in North Providence and Johnston, Rhode Island.  “We are pleased to reach a resolution through collaborative work with the responsible parties, EPA, and other stakeholders,” said Acting Assistant Attorney General Jeffrey H. Wood for the Justice Department's Environment and Natural Resources Division . “Today’s settlement ends protracted litigation and allows for important work to get underway to restore a healthy environment for citizens living in and around the Centredale Manor Site and the Woonasquatucket River.” “This settlement demonstrates the tremendous progress we are achieving working with responsible parties, states, and our federal partners to expedite sites through the entire Superfund remediation process,” said EPA Acting Administrator Andrew Wheeler. “The Centredale Manor Site has been on the National Priorities List for 18 years; we are taking charge and ensuring the Agency makes good on its promise to clean it up for the betterment of the environment and those communities affected.” “Successfully concluding this settlement paves the way for EPA to make good on our commitment to aggressively pursue cleaning up the Centredale Manor Superfund Site,” said EPA New England Regional Administrator Alexandra Dunn. “We are excited to get to work on the cleanup at this site, and get it closer to the goal of being fully utilized by the North Providence and Johnston communities.” “We are pleased that the collective efforts of the State of Rhode Island, EPA, and DOJ in these negotiations have concluded in this major milestone toward the cleanup of the Centredale Manor Restoration Superfund site and are consistent with our long-standing efforts to make the polluter pay,” said RIDEM Director Janet Coit. “The settlement will speed up a remedy that protects public health and the river environment, and moves us closer to the day that we can reclaim recreational uses of this beautiful river resource.” The settlement, which includes cleanup work in the Woonasquatucket River (River) and bordering residential and commercial properties along the River, requires the companies to perform the remedy selected by EPA for the Site in 2012, which is estimated to cost approximately $100 million, and resolves longstanding litigation. The cleanup remedy includes excavation of contaminated sediment and floodplain soil from the Woonasquatucket River, including from adjacent residential properties. Once the cleanup remedy is completed, full access to the Woonasquatucket River should be restored for local citizens. The cleanup will be a step toward the State’s goal of a fishable and swimmable river. The work will also include upgrading caps over contaminated soil in the peninsula area of the Site that currently house two high-rise apartment buildings. The settlement also ensures that the long-term monitoring and maintenance of the site, as directed in the remedy, will be implemented to ensure that public health is protected.  Under the settlement, Emhart and Black &amp; Decker will reimburse EPA for approximately $42 million in past costs incurred at the Site. The companies will also reimburse EPA and the State of Rhode Island for future costs incurred by those agencies in overseeing the work required by the settlement. The settlement will also include payments on behalf of two federal agencies to resolve claims against those agencies. These payments, along with prior settlements related to the Site, will result in a 100 percent recovery for the United States of its past and future response costs related to the Site. Litigation related to the Site has been ongoing for nearly eight years. While the Federal District Court found Black &amp; Decker and Emhart to be liable for their hazardous waste and responsible to conduct the cleanup of the Site, it had also ruled that EPA needed to reconsider certain aspects of that cleanup. EPA appealed the decision requiring it to reconsider aspects of the cleanup. This settlement, once entered by the District Court, will resolve the litigation between the United States, Rhode Island, and Emhart and Black and Decker, allowing the cleanup of the Site to begin. The Site spans a one and a half mile stretch of the Woonasquatucket River and encompasses a nine-acre peninsula, two ponds and a significant forested wetland. From the 1940s to the early 1970s, Emhart’s predecessor operated a chemical manufacturing facility on the peninsula and used a raw material that was contaminated with 2,3,7,8-tetrachlorodibenzo-p-dioxin, a toxic form of dioxin. The Site property was also previously used by a barrel refurbisher. Elevated levels of dioxins and other contaminants have been detected in soil, groundwater, sediment, surface water and fish.  The Site was added to the National Priorities List (NPL) in 2000, and in December 2017, EPA included the Centredale Manor Restoration Project Superfund Site on a list of Superfund sites targeted for immediate and intense attention. Several short-term actions were previously performed at the Site to address immediate threats to the residents and minimize potential erosion and downstream transport of contaminated soil and sediment. This settlement is the latest agreement EPA has reached since the Site was listed on the NPL. Prior agreements addressed the performance and recovery of costs for the past environmental investigations and interim cleanup actions from Emhart, the barrel reconditioning company, the current owners of the peninsula portion of the Site, and other potentially responsible parties. The Consent Decree, lodged in the U.S. District Court of Rhode Island, will be posted in the Federal Register and available for public comment for a period of 30 days. The Consent Decree can be viewed on the Justice Department website: www.justice.gov/enrd/Consent_Decrees.html.  EPA information on the Centredale Manor Superfund Site: www.epa.gov/superfund/centredale.</td>\n",
       "      <td>2018-07-09T00:00:00-04:00</td>\n",
       "      <td>Environment</td>\n",
       "      <td>Environment and Natural Resources Division</td>\n",
       "    </tr>\n",
       "  </tbody>\n",
       "</table>\n",
       "</div>"
      ],
      "text/plain": [
       "        id  \\\n",
       "0     None   \n",
       "1  12-919    \n",
       "2  11-1002   \n",
       "3   10-015   \n",
       "4   18-898   \n",
       "\n",
       "                                                                                                          title  \\\n",
       "0                                                                  Convicted Bomb Plotter Sentenced to 30 Years   \n",
       "1                              $1 Million in Restitution Payments Announced to Preserve North Carolina Wetlands   \n",
       "2                 $1 Million Settlement Reached for Natural Resource Damages at Superfund Site in Massachusetts   \n",
       "3                                          10 Las Vegas Men Indicted \\r\\nfor Falsifying Vehicle Emissions Tests   \n",
       "4  $100 Million Settlement Will Speed Cleanup Work at Centredale Manor Superfund Site in North Providence, R.I.   \n",
       "\n",
       "                                                                                                                                                                                                                                                                                                                                                                                                                                                                                                                                                                                                                                                                                                                                                                                                                                                                                                                                                                                                                                                                                                                                                                                                                                                                                                                                                                                                                                                                                                                                                                                                                                                                                                                                                                                                                                                                                                                                                                                                                                                                                                                                                                                                                                                                                                                                                                                                                                                                                                                                                                                                                                                                                                                                                                                                                                                                                                                                                                                                                                                                                                                                                                                                                                                                                                                                                                                                                                                                                                                                                                                                                                                                                                                                                                                                                                                                                                                                                                                                                                                                                                                                                                                                                                                                                                                                                                                                                                                                                                                                                                                                                                                                                                                                                                                                                                                                                                                                                                                                                                                                                                                                                                                                                                                                                                                                                                                                                                                                                                                                                                                                                                                                                                                                                                                                                                                                                                                                                                                                                                                                                                                                                                                                                                                                                                                                                                                                                                                                                                                                                                                                                                                                                                                                                                                                                                                                                                                                                                                                                                                                                                                                                                                                                                                                                                                                                                                                                                                                                                                                                                                                                                                                          contents  \\\n",
       "0  PORTLAND, Oregon. – Mohamed Osman Mohamud, 23, who was convicted in 2013 of attempting to use a weapon of mass destruction (explosives) in connection with a plot to detonate a vehicle bomb at an annual Christmas tree lighting ceremony in Portland, was sentenced today to serve 30 years in prison, followed by a lifetime term of supervised release. Mohamud, a naturalized U.S. citizen from Somalia and former resident of Corvallis, Oregon, was arrested on Nov. 26, 2010, after he attempted to detonate what he believed to be an explosives-laden van that was parked near the tree lighting ceremony in Portland.  The arrest was the culmination of a long-term undercover operation, during which Mohamud was monitored closely for months as his bomb plot developed.  The device was in fact inert, and the public was never in danger from the device. At sentencing, United States District Court Judge Garr M. King, who presided over Mohamed’s 14-day trial, said “the intended crime was horrific,” and that the defendant, even though he was presented with options by undercover FBI employees, “never once expressed a change of heart.”  King further noted that the Christmas tree ceremony was attended by up to 10,000 people, and that the defendant “wanted everyone to leave either dead or injured.”  King said his sentence was necessary in view of the seriousness of the crime and to serve as deterrence to others who might consider similar acts.     “With today’s sentencing, Mohamed Osman Mohamud is being held accountable for his attempted use of what he believed to be a massive bomb to attack innocent civilians attending a public Christmas tree lighting ceremony in Portland,” said John P. Carlin, Assistant Attorney General for National Security.  “The evidence clearly indicated that Mohamud was intent on killing as many people as possible with his attack.  Fortunately, law enforcement was able to identify him as a threat, insert themselves in the place of a terrorist that Mohamud was trying to contact, and thwart Mohamud’s efforts to conduct an attack on our soil.  This case highlights how the use of undercover operations against would-be terrorists allows us to engage and disrupt those who wish to commit horrific acts of violence against the innocent public.  The many agents, analysts, and prosecutors who have worked on this case deserve great credit for their roles in protecting Portland from the threat posed by this defendant and ensuring that he was brought to justice.” “This trial provided a rare glimpse into the techniques Al Qaeda employs to radicalize home-grown extremists,” said Amanda Marshall, U.S. Attorney for the District of Oregon.  “With the sentencing today, the court has held this defendant accountable.   I thank the dedicated professionals in the law enforcement and intelligence communities who were responsible for this successful outcome.  I look forward to our continued work with Muslim communities in Oregon who are committed to ensuring that all young people are safe from extremists who seek to radicalize others to engage in violence.”  According to the trial evidence, in February 2009, Mohamud began communicating via e-mail with Samir Khan, a now-deceased al Qaeda terrorist who published Jihad Recollections, an online magazine that advocated violent jihad, and who also published Inspire, the official magazine of al-Qaeda in the Arabian Peninsula.  Between February and August 2009, Mohamed exchanged approximately 150 emails with Khan.  Mohamud wrote several articles for Jihad Recollections that were published under assumed names. In August 2009, Mohamud was in email contact with Amro Al-Ali, a Saudi national who was in Yemen at the time and is today in custody in Saudi Arabia for terrorism offenses.  Al-Ali sent Mohamud detailed e-mails designed to facilitate Mohamud’s travel to Yemen to train for violent jihad.  In December 2009, while Al-Ali was in the northwest frontier province of Pakistan, Mohamud and Al-Ali discussed the possibility of Mohamud traveling to Pakistan to join Al-Ali in terrorist activities. Mohamud responded to Al-Ali in an e-mail: “yes, that would be wonderful, just tell me what I need to do.”  Al-Ali referred Mohamud to a second associate overseas and provided Mohamud with a name and email address to facilitate the process. In the following months, Mohamud made several unsuccessful attempts to contact Al-Ali’s associate.  Ultimately, an FBI undercover operative contacted Mohamud via email under the guise of being an associate of Al-Ali’s.  Mohamud and the FBI undercover operative agreed to meet in Portland in July 2010.  At the meeting, Mohamud told the FBI undercover operative he had written articles that were published in Jihad Recollections.  Mohamud also said that he wanted to become “operational.”  Asked what he meant by “operational,” Mohamud said he wanted to put an explosion together, but needed help. According to evidence presented at trial, at a meeting in August 2010, Mohamud told undercover FBI operatives he had been thinking of committing violent jihad since the age of 15.  Mohamud then told the undercover FBI operatives that he had identified a potential target for a bomb: the annual Christmas tree lighting ceremony in Portland’s Pioneer Courthouse Square on Nov. 26, 2010.  The undercover FBI operatives cautioned Mohamud several times about the seriousness of this plan, noting there would be many people at the event, including children, and emphasized that Mohamud could abandon his attack plans at any time with no shame.  Mohamud indicated the deaths would be justified and that he would not mind carrying out a suicide attack on the crowd. According to evidence presented at trial, in the ensuing months Mohamud continued to express his interest in carrying out the attack and worked on logistics.  On Nov. 4, 2010, Mohamud and the undercover FBI operatives traveled to a remote location in Lincoln County, Oregon, where they detonated a bomb concealed in a backpack as a trial run for the upcoming attack.  During the drive back to Corvallis, Mohamud was asked if was capable looking at all the bodies of those who would be killed during the explosion.  In response, Mohamud noted, “I want whoever is attending that event to be, to leave either dead or injured.”  Mohamud later recorded a video of himself, with the assistance of the undercover FBI operatives, in which he read a statement that offered his rationale for his bomb attack.  On Nov. 18, 2010, undercover FBI operatives picked up Mohamud to travel to Portland to finalize the details of the attack.  On Nov. 26, 2010, just hours before the planned attack, Mohamud examined the 1,800 pound bomb in the van and remarked that it was “beautiful.”  Later that day, Mohamud was arrested after he attempted to remotely detonate the inert vehicle bomb rked near the Christmas tree lighting ceremony This case was investigated by the FBI, with assistance from the Oregon State Police, the Corvallis Police Department, the Lincoln County Sheriff’s Office and the Portland Police Bureau.  The prosecution was handled by Assistant U.S. Attorneys Ethan D. Knight and Pamala Holsinger from the U.S. Attorney’s Office for the District of Oregon.  Trial Attorney Jolie F. Zimmerman, from the Counterterrorism Section of the Justice Department’s National Security Division, assisted. # # # 14-1077   \n",
       "1                                                                                                                                                                                                                                                                                                                                                                                                                                                                                                                                                                                                                                                                                                                                                                                                                                                                                                                                                                                                                                                                                                                                                                                                                                                                                                                                                                                                                                                                                                                                                                                                                                                                                                                                                                                                                                                                                                                                                                                                                                                                                                                                                                                                                                       WASHINGTON – North Carolina’s Waccamaw River watershed will benefit from a $1 million restitution order from a federal court, funding environmental projects to acquire and preserve wetlands in an area damaged by illegal releases of wastewater from a corporate hog farm, announced Ignacia S. Moreno, Assistant Attorney General of the Justice Department’s Environment and Natural Resources Division; U.S. Attorney for the Eastern District of North Carolina Thomas G. Walker; Director Greg McLeod from the North Carolina State Bureau of Investigation; and Camilla M. Herlevich, Executive Director of the North Carolina Coastal Land Trust.   Freedman Farms Inc. was sentenced in February 2012 to five years of probation and ordered to pay $1.5 million in fines, restitution and community service payments for violating the Clean Water Act when it discharged hog waste into a stream that leads to the Waccamaw River.  William B. Freedman, president of Freedman Farms, was sentenced to six months in prison to be followed by six months of home confinement.  Freedman Farms also is required to implement a comprehensive environmental compliance program and institute an annual training program.   In an order issued on April 19, 2012, the court ordered that the defendants would be responsible for restitution of $1 million in the form of five annual payments starting in January 2013, which the court will direct to the North Carolina Coastal Land Trust (NCCLT).  The NCCLT plans to use the money to acquire and conserve land along streams in the Waccamaw watershed.  The court also directed a $75,000 community service payment to the Southern Environmental Enforcement Network, an organization dedicated to environmental law enforcement training and information sharing in the region.    “The resolution of the case against Freedman Farms demonstrates the commitment of the Department of Justice to enforcing the Clean Water Act to ensure the protection of human health and the environment,” said Assistant Attorney General Moreno.  “The court-ordered restitution in this case will conserve wetlands for the benefit of the people of North Carolina.  By enforcing the nation’s environmental laws, we will continue to ensure that concentrated animal feeding operations (CAFOs) operate without threatening our drinking water, the health of our communities and the environment.”   “This office is committed to doing our part to hold accountable those who commit crimes against our environment, which can cause serious health problems to residents and damage the environment that makes North Carolina such a beautiful place to live and visit,” said U.S. Attorney Walker.   “This case shows what we can accomplish when our SBI agents work closely with their local, state and federal partners to investigate environmental crimes and hold the polluters accountable,” said Director McLeod.  “We’ll continue our efforts to fight illegal pollution that damages our water and puts the public’s health at risk.”    “The Waccamaw is unique and wild,” said Director Herlevich of the North Carolina Coastal Land Trust. “Its watershed includes some of the most extensive cypress gum swamps in the state, and its headwaters at Lake Waccamaw contain fish that are found nowhere else on Earth.  We appreciate the trust of the court and the U. S. Attorney, and we look forward to using these funds for conservation projects in a river system that is one of our top conservation priorities.”   According to evidence presented in court, in December 2007 Freedman Farms discharged hog waste into Browder’s Branch, a tributary to the Waccamaw River that flows through the White Marsh, a large wetlands complex.  Freedman Farms, located in Columbus County, N.C., is in the business of raising hogs for market, and this particular farm had some 4,800 hogs.  The hog waste was supposed to be directed to two lagoons for treatment and disposal.  Instead, hog waste was discharged from Freedman Farms directly into Browder’s Branch.    The Clean Water Act is a federal law that makes it illegal to knowingly or negligently discharge a pollutant into a water of the United States.    The Freedman case was investigated by the U.S. Environmental Protection Agency (EPA) Criminal Investigation Division, the U.S. Army Corps of Engineers and the North Carolina State Bureau of Investigation, with assistance from the EPA Science and Ecosystem Support Division.  The case was prosecuted by Assistant U.S. Attorney J. Gaston B. Williams of the Eastern District of North Carolina and Trial Attorney Mary Dee Carraway of the Environmental Crimes Section of the Justice Department’s Environment and Natural Resources Division.   The North Carolina Coastal Land Trust is celebrating its 20th anniversary of saving special lands in eastern North Carolina. The organization has protected nearly 50,000 acres of lands with scenic, recreational, historic and ecological values. North Carolina Coastal Land Trust has saved streams and wetlands that provide clean water, forests that are havens for wildlife, working farms that provide local food and nature parks that everyone can enjoy.  More information about the Coastal Land Trust is available at www.coastallandtrust.org.   \n",
       "2                                                                                                                                                                                                                                                                                                                                                                                                                                                                                                                                                                                                                                                                                                                                                                                                                                                                                                                                                                                                                                                                                                                                                                                                                                                                                                                                                                                                                                                                                                                                                                                                                                                                                                                                                                                                                                                        BOSTON– A $1-million settlement has been reached for natural resource damages (NRD) at the Blackburn & Union Privileges Superfund Site in Walpole, Mass., the Departments of Justice and Interior (DOI), and the Office of the Massachusetts Attorney General announced today.                The Blackburn & Union Privileges Superfund Site includes 22 acres of contaminated land and water in Walpole. The contamination resulted from the operations of various industrial facilities dating back to the 19th century that exposed the site to asbestos, arsenic, lead and other hazardous substances.                The private parties involved in the settlement include two former owners and operators of the site, W.R. Grace & Co.– Conn. and Tyco Healthcare Group LP, as well as the current owners, BIM Investment Corp. and Shaffer Realty Nominee Trust.               From about 1915 to 1936, a predecessor of W.R. Grace manufactured asbestos brake linings and clutch linings on a large portion of the property. From 1946 to about 1983, a predecessor of Tyco Healthcare operated a cotton fabric manufacturing business, which used caustic solutions, on a portion of the property.               In a 2010 settlement with U.S. Environmental Protection Agency (EPA), the four private parties agreed to perform a remedial action to clean up the site at an estimated cost of $13 million. The consent decree lodged today resolves both state and federal NRD liability claims; it requires the parties to pay $1,094,169.56 to the state and federal natural resource trustees, the Massachusetts Executive Office of Energy and Environmental Affairs (EEA) and DOI, for injuries to ecological resources including groundwater and wetlands, which provide habitat for waterfowl and wading birds, including black ducks and great blue herons.  The trustees will use the settlement funds for natural resource restoration projects in the area.               “This settlement demonstrates our commitment to recovering damages from the parties responsible for injury to natural resources, in partnership with state trustees,” said Bruce Gelber, Acting Deputy Assistant Attorney General of the Justice Department’s Environment and Natural Resources Division.               “The citizens of Walpole have had to live with the environmental impact of this contamination for many years,” Attorney General Martha Coakley said. “We are pleased that today’s agreement will not only require the responsible parties to reimburse taxpayer dollars, but will also provide funding to begin restoring or replacing the wetland and other natural resources.”                 The consent decree was lodged in the U.S. District Court for Massachusetts.     A portion of the funds, $300,000, will be distributed to the EEA-sponsored groundwater restoration projects; $575,000 will be used for ecological restoration projects jointly sponsored by EEA and the U.S. Fish and Wildlife Service (FWS).               In addition, $125,000 will go for projects jointly sponsored by EEA and FWS that achieve both ecological and groundwater restoration; $57,491.34 will be allocated for reimbursement for the FWS’s assessment costs; and $36,678.22 will be distributed as reimbursement for the commonwealth’s assessment costs.       “This settlement provides the means for a range of projects designed to compensate the public for decades of groundwater and other ecological damage at this site.  I encourage local citizens and organizations to become engaged in the public process that will take place as we solicit, take comment on, and choose these projects in the months ahead,” said Energy and Environmental Affairs Secretary Richard K. Sullivan Jr., who serves as the Commonwealth’s Natural Resources Damages trustee.       “This settlement will help restore habitat for fish and wildlife in the Neponset River watershed,” said Tom Chapman of the FWS New England Field Office. “We look forward to working with the commonwealth and local stakeholders to implement restoration.”               “More than 100 years-worth of industrial activities at this site caused major environmental contamination to the Neponset River, nearby wetlands and to groundwater below the site,” said Commissioner Kenneth Kimmell of the Massachusetts Department of Environmental Protection (MassDEP), which will staff the Trustee Council for the Commonwealth. “We will ensure that the community and the public will be active participants in the process to use these NRD funds to restore the injured natural resources.”                Under the federal Comprehensive Environmental Response, Compensation and Liability Act, EEA and DOI, acting through the FWS, are the designated state and federal natural resource Trustees for the site. The site has been listed on the EPA’s National Priorities List since 1994.        The consent decree is subject to a public comment period and court approval. A copy of the consent decree and instructions about how to submit comments is available on www.usdoj.gov/enrd/Consent_Decrees.html  .               After the consent decree is approved, EEA and FWS will develop proposed restoration plans to use the settlement funds for restoration projects. The proposed restoration plans will also be made available to the public for review and comment.                Assistant Attorney General Matthew Brock of Massachusetts Attorney General Coakley's Environmental Protection Division handled this matter.  Attorney Jennifer Davis of MassDEP, Attorney Anna Blumkin of EEA and MassDEP’s NRD Coordinator Karen Pelto also worked on this settlement.   \n",
       "3                                                                                                                                                                                                                                                                                                                                                                                                                                                                                                                                                                                                                                                                                                                                                                                                                                                                                                                                                                                                                                                                                                                                                                                                                                                                                                                                                                                                                                                                                                                                                                                                                                                                                                                                                                                                                                                                                                                                                                                                                                                                                                                                                                                                                                                                                                                                                                                                                                                                                                                                                                                                                                                                                                                                                                                                                                                                                                                                                                                                                                                                                                                                                                                                                                                                                                                                                                                                                                                                                                                           WASHINGTON—A federal grand jury in Las Vegas today returned indictments against 10 Nevada-certified emissions testers for falsifying vehicle emissions test reports, the Justice Department announced.   Each defendant faces one felony Clean Air Act count for falsifying reports between November 2007 and May 2009. The number of falsifications varied by defendant, with some defendants having falsified approximately 250 records, while others falsified more than double that figure. One defendant is alleged to have falsified over 700 reports.   The individuals indicted include:     Escudero resides in Pahrump, Nev. All other individuals are from Clark County, Nev.    The 10 defendants are alleged to have engaged in a practice known as \"clean scanning\" vehicles. The scheme involved entering the Vehicle Identification Number (VIN) for a vehicle that would not pass the emissions test into the computerized system, then connecting a different vehicle the testers knew would pass the test. These falsifications were allegedly performed for anywhere from $10 to $100 over and above the usual emissions testing fee.    The U.S. Environmental Protection Agency (EPA), under the Clean Air Act, requires the state of Nevada to conduct vehicle emissions testing in certain areas because the areas exceed national standards for carbon monoxide and ozone. Las Vegas is currently required to perform emissions testing.    To obtain a registration renewal, vehicle owners bring the vehicles to a licensed inspection station for testing. The emissions inspector logs into a computer to activate the system by using a unique password issued to the emissions inspector. The emissions inspector manually inputs the vehicle’s VIN to identify the tested vehicle, then connects the vehicle for model year 1996 and later to an onboard diagnostics port connected to an analyzer. The analyzer downloads data from the vehicle’s computer, analyzes the data and provides a \"pass\" or \"fail\" result. The pass or fail result and vehicle identification data are reported on the Vehicle Inspection Report. It is a crime to knowingly alter or conceal any record or other document required to be maintained by the Clean Air Act.     \"Falsifications of vehicle emissions testing, such as those alleged in the indictments unsealed today, are serious matters and we intend to use all of our enforcement tools to stop this harmful practice. These actions undermine a system that is designed to reduce air pollutants including smog and provide better air quality for the citizens of Nevada,\" said Ignacia S. Moreno, Assistant Attorney General for the Justice Department’s Environment and Natural Resources Division.    \"The residents of Nevada deserve to know that the vast majority of licensed vehicle emission inspectors are not corrupt and are not circumventing emission testing procedures,\" said U.S. Attorney Bogden. \"These indictments should serve as a clear warning to offenders that the Department of Justice will prosecute you if you make fraudulent statements and reports concerning compliance with the federal Clean Air Act.\"    \"Lying about car emissions means dirtier air, which is especially of concern in areas like Las Vegas that are already experiencing air quality problems,\" said Cynthia Giles, Assistant Administrator for Enforcement and Compliance Assurance at EPA. \"We will take aggressive action to ensure communities have clean air.\"    The maximum penalty for the felony violations contained in the indictments includes up to two years in prison and a fine of up to $250,000.    An indictment is merely an accusation, and a defendant is presumed innocent unless and until proven guilty in a court of law.    The case was investigated by the EPA, Criminal Investigation Division; and the Nevada Department of Motor Vehicles Compliance Enforcement Division. The case is being prosecuted by the U.S. Attorney’s Office for the District of Nevada and the Justice Department’s Environmental Crimes Section.   \n",
       "4                                                                                                                                                                                                                                                                                                                                                                                                                                                                                                                                                                                                                                                                                                                                                                                                                                                                                                                                                                                                                                                                                                                                   The U.S. Department of Justice, the U.S. Environmental Protection Agency (EPA), and the Rhode Island Department of Environmental Management (RIDEM) announced today that two subsidiaries of Stanley Black & Decker Inc.—Emhart Industries Inc. and Black & Decker Inc.—have agreed to clean up dioxin contaminated sediment and soil at the Centredale Manor Restoration Project Superfund Site in North Providence and Johnston, Rhode Island.  “We are pleased to reach a resolution through collaborative work with the responsible parties, EPA, and other stakeholders,” said Acting Assistant Attorney General Jeffrey H. Wood for the Justice Department's Environment and Natural Resources Division . “Today’s settlement ends protracted litigation and allows for important work to get underway to restore a healthy environment for citizens living in and around the Centredale Manor Site and the Woonasquatucket River.” “This settlement demonstrates the tremendous progress we are achieving working with responsible parties, states, and our federal partners to expedite sites through the entire Superfund remediation process,” said EPA Acting Administrator Andrew Wheeler. “The Centredale Manor Site has been on the National Priorities List for 18 years; we are taking charge and ensuring the Agency makes good on its promise to clean it up for the betterment of the environment and those communities affected.” “Successfully concluding this settlement paves the way for EPA to make good on our commitment to aggressively pursue cleaning up the Centredale Manor Superfund Site,” said EPA New England Regional Administrator Alexandra Dunn. “We are excited to get to work on the cleanup at this site, and get it closer to the goal of being fully utilized by the North Providence and Johnston communities.” “We are pleased that the collective efforts of the State of Rhode Island, EPA, and DOJ in these negotiations have concluded in this major milestone toward the cleanup of the Centredale Manor Restoration Superfund site and are consistent with our long-standing efforts to make the polluter pay,” said RIDEM Director Janet Coit. “The settlement will speed up a remedy that protects public health and the river environment, and moves us closer to the day that we can reclaim recreational uses of this beautiful river resource.” The settlement, which includes cleanup work in the Woonasquatucket River (River) and bordering residential and commercial properties along the River, requires the companies to perform the remedy selected by EPA for the Site in 2012, which is estimated to cost approximately $100 million, and resolves longstanding litigation. The cleanup remedy includes excavation of contaminated sediment and floodplain soil from the Woonasquatucket River, including from adjacent residential properties. Once the cleanup remedy is completed, full access to the Woonasquatucket River should be restored for local citizens. The cleanup will be a step toward the State’s goal of a fishable and swimmable river. The work will also include upgrading caps over contaminated soil in the peninsula area of the Site that currently house two high-rise apartment buildings. The settlement also ensures that the long-term monitoring and maintenance of the site, as directed in the remedy, will be implemented to ensure that public health is protected.  Under the settlement, Emhart and Black & Decker will reimburse EPA for approximately $42 million in past costs incurred at the Site. The companies will also reimburse EPA and the State of Rhode Island for future costs incurred by those agencies in overseeing the work required by the settlement. The settlement will also include payments on behalf of two federal agencies to resolve claims against those agencies. These payments, along with prior settlements related to the Site, will result in a 100 percent recovery for the United States of its past and future response costs related to the Site. Litigation related to the Site has been ongoing for nearly eight years. While the Federal District Court found Black & Decker and Emhart to be liable for their hazardous waste and responsible to conduct the cleanup of the Site, it had also ruled that EPA needed to reconsider certain aspects of that cleanup. EPA appealed the decision requiring it to reconsider aspects of the cleanup. This settlement, once entered by the District Court, will resolve the litigation between the United States, Rhode Island, and Emhart and Black and Decker, allowing the cleanup of the Site to begin. The Site spans a one and a half mile stretch of the Woonasquatucket River and encompasses a nine-acre peninsula, two ponds and a significant forested wetland. From the 1940s to the early 1970s, Emhart’s predecessor operated a chemical manufacturing facility on the peninsula and used a raw material that was contaminated with 2,3,7,8-tetrachlorodibenzo-p-dioxin, a toxic form of dioxin. The Site property was also previously used by a barrel refurbisher. Elevated levels of dioxins and other contaminants have been detected in soil, groundwater, sediment, surface water and fish.  The Site was added to the National Priorities List (NPL) in 2000, and in December 2017, EPA included the Centredale Manor Restoration Project Superfund Site on a list of Superfund sites targeted for immediate and intense attention. Several short-term actions were previously performed at the Site to address immediate threats to the residents and minimize potential erosion and downstream transport of contaminated soil and sediment. This settlement is the latest agreement EPA has reached since the Site was listed on the NPL. Prior agreements addressed the performance and recovery of costs for the past environmental investigations and interim cleanup actions from Emhart, the barrel reconditioning company, the current owners of the peninsula portion of the Site, and other potentially responsible parties. The Consent Decree, lodged in the U.S. District Court of Rhode Island, will be posted in the Federal Register and available for public comment for a period of 30 days. The Consent Decree can be viewed on the Justice Department website: www.justice.gov/enrd/Consent_Decrees.html.  EPA information on the Centredale Manor Superfund Site: www.epa.gov/superfund/centredale.   \n",
       "\n",
       "                        date topics_clean  \\\n",
       "0  2014-10-01T00:00:00-04:00     No topic   \n",
       "1  2012-07-25T00:00:00-04:00     No topic   \n",
       "2  2011-08-03T00:00:00-04:00     No topic   \n",
       "3  2010-01-08T00:00:00-05:00     No topic   \n",
       "4  2018-07-09T00:00:00-04:00  Environment   \n",
       "\n",
       "                             components_clean  \n",
       "0            National Security Division (NSD)  \n",
       "1  Environment and Natural Resources Division  \n",
       "2  Environment and Natural Resources Division  \n",
       "3  Environment and Natural Resources Division  \n",
       "4  Environment and Natural Resources Division  "
      ]
     },
     "execution_count": 46,
     "metadata": {},
     "output_type": "execute_result"
    }
   ],
   "source": [
    "## first, unzip the file pset3_inputdata.zip \n",
    "## then, run this code to load the unzipped json file and convert to a dataframe\n",
    "## (may need to change the pathname depending on where you store stuff)\n",
    "## and convert some of the attributes from lists to values\n",
    "\n",
    "doj = pd.read_json(\"C:/Users/cabal/OneDrive/Desktop/QSS20_S24/problemsets/pset3/pset3_inputdata/combined.json\", lines = True)\n",
    "\n",
    "\n",
    "\n",
    "## due to json, topics are in a list so remove them and concatenate with ;\n",
    "doj['topics_clean'] = [\"; \".join(topic) \n",
    "                      if len(topic) > 0 else \"No topic\" \n",
    "                      for topic in doj.topics]\n",
    "\n",
    "## similarly with components\n",
    "doj['components_clean'] = [\"; \".join(comp) \n",
    "                           if len(comp) > 0 else \"No component\" \n",
    "                           for comp in doj.components]\n",
    "\n",
    "## drop older columns from data\n",
    "doj = doj[['id', 'title', 'contents', 'date', 'topics_clean', \n",
    "           'components_clean']].copy()\n",
    "\n",
    "doj.head()\n"
   ]
  },
  {
   "cell_type": "markdown",
   "metadata": {},
   "source": [
    "## 1. Tagging and sentiment scoring (17 points)\n",
    "\n",
    "Focus on the following press release: `id` == \"17-1204\" about this pharmaceutical kickback prosecution: https://www.forbes.com/sites/michelatindera/2017/11/16/fentanyl-billionaire-john-kapoor-to-plead-not-guilty-in-opioid-kickback-case/?sh=21b8574d6c6c \n",
    "\n",
    "The `contents` column is the one we're treating as a document. You may need to to convert it from a pandas series to a single string.\n",
    "\n",
    "We'll call the raw string of this press release `pharma`"
   ]
  },
  {
   "cell_type": "code",
   "execution_count": 49,
   "metadata": {},
   "outputs": [],
   "source": [
    "## your code to subset to one press release and take the string\n",
    "pharma = doj[doj[\"id\"] == \"17-1204\"][\"contents\"]\n",
    "pharma = str(pharma)"
   ]
  },
  {
   "cell_type": "markdown",
   "metadata": {},
   "source": [
    "### 1.1 part of speech tagging (3 points)\n",
    "\n",
    "A. Preprocess the `pharma` press release to remove all punctuation / digits (you can use `.isalpha()` to subset)\n",
    "\n",
    "B. With the preprocessed press release from part A, use the part of speech tagger within nltk to tag all the words in that one press release with their part of speech. \n",
    "\n",
    "C. Using the output from B, extract the adjectives and sort those adjectives from most occurrences to fewest occurrences. Print a dataframe with the 5 most frequent adjectives and their counts in the `pharma` release. See here for a list of the names of adjectives within nltk: https://pythonprogramming.net/natural-language-toolkit-nltk-part-speech-tagging/\n",
    "\n",
    "**Resources**:\n",
    "\n",
    "- Documentation for `.isalpha()`: https://www.w3schools.com/python/ref_string_isalpha.asp"
   ]
  },
  {
   "cell_type": "code",
   "execution_count": 52,
   "metadata": {},
   "outputs": [],
   "source": [
    "def cleanString(input_string):\n",
    "    # Remove numbers and punctuation, retain only letters and spaces\n",
    "    cleaned_string = re.sub(r'[^a-zA-Z\\s]', '', input_string)\n",
    "    # Split the string into a list of words\n",
    "    words_list = cleaned_string.split()\n",
    "    return words_list\n",
    "\n",
    "pharmaWordList = cleanString(pharma)\n",
    "pharmaStringClean = \" \". join(pharmaWordList)\n"
   ]
  },
  {
   "cell_type": "code",
   "execution_count": 53,
   "metadata": {},
   "outputs": [
    {
     "data": {
      "text/plain": [
       "former        8\n",
       "opioid        5\n",
       "nationwide    4\n",
       "addictive     3\n",
       "other         3\n",
       "Name: Frequency, dtype: int64"
      ]
     },
     "execution_count": 53,
     "metadata": {},
     "output_type": "execute_result"
    }
   ],
   "source": [
    "# Tokenizes all the words in our clean Pharma string\n",
    "tokens = word_tokenize(pharmaStringClean) # Generate list of tokens, break apart the sentence into a list of tokens\n",
    "\n",
    "# Assigns all the words in our tokens a part of speech\n",
    "tokens_pos = pos_tag(tokens) \n",
    "\n",
    "# Creates a map where the key is the adjective and the value is the number of time it appears in our text\n",
    "adjective_map = {}\n",
    "for x in tokens_pos:\n",
    "    if x[1] in \"JJJJRJjS\":\n",
    "        if x[0] not in adjective_map:\n",
    "            adjective_map[x[0]] = 1\n",
    "        else:\n",
    "            adjective_map[x[0]] = adjective_map[x[0]] + 1\n",
    "\n",
    "# Converts our map into a dataFrame\n",
    "\n",
    "df = pd.DataFrame.from_dict(adjective_map, orient='index', columns=['Frequency'])\n",
    "\n",
    "# Sorts the dataframe into descending order so we get the top 5 adjectives on top\n",
    "df[\"Frequency\"].sort_values(ascending = False).iloc[0:5]\n",
    "\n"
   ]
  },
  {
   "cell_type": "markdown",
   "metadata": {},
   "source": [
    "## 1.2 named entity recognition (4 points)"
   ]
  },
  {
   "cell_type": "markdown",
   "metadata": {},
   "source": [
    "A. Using the original `pharma` press release (so the one before stripping punctuation/digits), use spaCy to extract all named entities from the press release.\n",
    "\n",
    "B. Print the unique named entities with the tag: `LAW`"
   ]
  },
  {
   "cell_type": "code",
   "execution_count": 54,
   "metadata": {},
   "outputs": [],
   "source": [
    "# Uses the original pharma and Spacecy to extract all named entities from the press release.\n",
    "spacy_pharma = nlp(pharma)"
   ]
  },
  {
   "cell_type": "code",
   "execution_count": 55,
   "metadata": {},
   "outputs": [
    {
     "name": "stdout",
     "output_type": "stream",
     "text": [
      "Entity: RICO; NER tag: LAW\n",
      "Entity: the Controlled Substances Act; NER tag: LAW\n",
      "Entity: RICO; NER tag: LAW\n"
     ]
    }
   ],
   "source": [
    "## your code here for part B\n",
    "# Prints out only the Entities with the LAW tag\n",
    "for one_tok in spacy_pharma.ents:\n",
    "    if one_tok.label_ == \"LAW\":\n",
    "        print(\"Entity: \" + one_tok.text + \"; NER tag: \" + one_tok.label_)"
   ]
  },
  {
   "cell_type": "markdown",
   "metadata": {},
   "source": [
    "C. Use Google to summarize in one sentence what the `RICO` named entity means and why this might apply to a pharmaceutical kickbacks case (and not just a mafia case...) "
   ]
  },
  {
   "cell_type": "markdown",
   "metadata": {},
   "source": [
    "The RICO Act, which was initially aimed at mafia-style organized crime, also applies to pharmaceutical kickbacks, because it allows for the prosecution of corporate executives (such as those in the pharmaceutical industry) who benefit from illegal activities orchestrated by their organizations, similar to how crime bosses are held accountable for the crimes of their employees"
   ]
  },
  {
   "cell_type": "markdown",
   "metadata": {},
   "source": [
    "D. You want to extract the possible sentence lengths the CEO is facing; pull out the named entities with (1) the label `DATE` and (2) that contain the word year or years (hint: you may want to use the `re` module for that second part). Print these named entities."
   ]
  },
  {
   "cell_type": "code",
   "execution_count": 56,
   "metadata": {},
   "outputs": [
    {
     "name": "stdout",
     "output_type": "stream",
     "text": [
      "last year\n",
      "20 years\n",
      "three years\n",
      "five years\n",
      "three years\n"
     ]
    }
   ],
   "source": [
    "# Extracts all the entities with the label DATE and adds it to a new list\n",
    "entitiesDate = []\n",
    "for one_tok in spacy_pharma.ents:\n",
    "    if one_tok.label_ == \"DATE\":\n",
    "        entitiesDate.append(one_tok)\n",
    "\n",
    "# Those that contain the word \"year\" or \"years\" will be printed\n",
    "yearList = []\n",
    "for item in entitiesDate:\n",
    "    if re.search(\"year\", item.text): # Searches our text for years and prints it if it includes it\n",
    "        yearList.append(item.text)\n",
    "        print(item)\n"
   ]
  },
  {
   "cell_type": "markdown",
   "metadata": {},
   "source": [
    "E. Pull and print the original parts of the press releases where those year lengths are mentioned (e.g., the sentences or rough region of the press release). Describe in your own words (1 sentence) what length of sentence (prison) and probation (supervised release) the CEO may be facing if convicted after this indictment (if there are multiple lengths mentioned describe the maximum). \n",
    "\n",
    "*The max sentence the CEO may be charged with is 20 years in prison with 3 years of supervised release*\n",
    "\n",
    "**Hint**: you may want to use re.search or re.findall \n",
    "\n",
    "- For part E, you can use `re.search` and `re.findall`, or anything that works 😳."
   ]
  },
  {
   "cell_type": "code",
   "execution_count": 57,
   "metadata": {},
   "outputs": [
    {
     "name": "stdout",
     "output_type": "stream",
     "text": [
      "...sing bribes and fraud to cause the illegal distribution of a Fentanyl spray intended for cancer patients experiencing breakthrough pain. \"More than 20,000 Americans died of synthetic opioid overdoses last year, and millions are addicted to opioids. And yet some medical professionals would rather take advantage of the addicts than try to help them,\" said Attorney General Jeff Sessions. \"This Justice Departm...\n",
      "\n",
      "...eves, Special Agent in Charge of the VA OIG Northeast Field Office.The charges of conspiracy to commit RICO and conspiracy to commit mail and wire fraud each provide for a sentence of no greater than 20 years in prison, three years of supervised release and a fine of $250,000, or twice the amount of pecuniary gain or loss.  The charges of conspiracy to violate the Anti-Kickback Law provide for a sentence ...\n",
      "\n",
      "...in Charge of the VA OIG Northeast Field Office.The charges of conspiracy to commit RICO and conspiracy to commit mail and wire fraud each provide for a sentence of no greater than 20 years in prison, three years of supervised release and a fine of $250,000, or twice the amount of pecuniary gain or loss.  The charges of conspiracy to violate the Anti-Kickback Law provide for a sentence of no greater than five...\n",
      "\n",
      "...ears of supervised release and a fine of $250,000, or twice the amount of pecuniary gain or loss.  The charges of conspiracy to violate the Anti-Kickback Law provide for a sentence of no greater than five years in prison, three years of supervised release and a $25,000 fine. Sentences are imposed by a federal district court judge based upon the U.S. Sentencing Guidelines and other statutory factors.The inve...\n",
      "\n",
      "...in Charge of the VA OIG Northeast Field Office.The charges of conspiracy to commit RICO and conspiracy to commit mail and wire fraud each provide for a sentence of no greater than 20 years in prison, three years of supervised release and a fine of $250,000, or twice the amount of pecuniary gain or loss.  The charges of conspiracy to violate the Anti-Kickback Law provide for a sentence of no greater than five...\n",
      "\n"
     ]
    }
   ],
   "source": [
    "# We loop through the list of words that contain years and then we search where they are in the pharma text\n",
    "for item in yearList:    \n",
    "    match = re.search(item, pharma) # returns true\n",
    "    span = match.span() # gives us the location where the word appears\n",
    "    print(\"...\" + pharma[span[0] - 200:span[1] + 200] + \"...\\n\") # prints 200 charachters before the words apears and 200 after\n",
    "\n"
   ]
  },
  {
   "cell_type": "markdown",
   "metadata": {},
   "source": [
    "## 1.3 sentiment analysis  (10 points)\n",
    "\n",
    "A. Subset the press releases to those labeled with one of three topics via `topics_clean`: Civil Rights, Hate Crimes, and Project Safe Childhood. We'll call this `doj_subset` going forward and it should have 717 rows.\n",
    "\n"
   ]
  },
  {
   "cell_type": "code",
   "execution_count": 58,
   "metadata": {},
   "outputs": [
    {
     "data": {
      "text/plain": [
       "(717, 6)"
      ]
     },
     "execution_count": 58,
     "metadata": {},
     "output_type": "execute_result"
    }
   ],
   "source": [
    "## your code here for subsetting\n",
    "doj_subset = doj[(doj[\"topics_clean\"] == \"Civil Rights\") | (doj[\"topics_clean\"] == \"Hate Crimes\") | (doj[\"topics_clean\"] == \"Project Safe Childhood\")] \n",
    "doj_subset.shape"
   ]
  },
  {
   "cell_type": "markdown",
   "metadata": {},
   "source": [
    "B. Write a function that takes one press release string as an input and:\n",
    "\n",
    "- Removes named entities from each press release string (**Hint**: you may want to use `re.sub` with an or condition)\n",
    "- Scores the sentiment of the entire press release using the `SentimentIntensityAnalyzer` and `polarity_scores`\n",
    "- Returns the length-four (negative, positive, neutral, compound) sentiment dictionary (any order is fine)\n",
    "\n",
    "Apply that function to each of the press releases in `doj_subset`. \n",
    "\n",
    "**Hints**: \n",
    "\n",
    "- A function + list comprehension to execute will takes about 30 seconds on a respectable local machine and about 2 mins on jhub; if it's taking a very long time, you may want to check your code for inefficiencies. If you can't fix those, for partial credit on this part/full credit on remainder, you can take a small random sample of the 717\n"
   ]
  },
  {
   "cell_type": "code",
   "execution_count": 59,
   "metadata": {},
   "outputs": [],
   "source": [
    "def sentiment (string):\n",
    "    # Removes all entities from our text\n",
    "    spacy_temp = nlp(string)\n",
    "    entities = spacy_temp.ents # tuples of all our entities\n",
    "    sent_obj = SentimentIntensityAnalyzer()\n",
    "\n",
    "    try: # will try to replace all the entities and if for whatever reason it cannot will do the sentiment with the text including the entities\n",
    "        for item in entities:\n",
    "            string = re.sub(item.text, \"\", string)\n",
    "        # Scores the sentiment of the entire press release using SentimentIntensityAnalyzer\n",
    "        sentiment = sent_obj.polarity_scores(string) # Polarity scale seems to be a scale of negative, neautral and positve words and gets a compound\n",
    "    except:\n",
    "        sentiment = sent_obj.polarity_scores(string) # Polarity scale seems to be a scale of negative, neautral and positve words and gets a compound\n",
    "    finally:\n",
    "        return sentiment\n",
    "\n"
   ]
  },
  {
   "cell_type": "code",
   "execution_count": 60,
   "metadata": {},
   "outputs": [
    {
     "name": "stdout",
     "output_type": "stream",
     "text": [
      "CPU times: total: 1min 11s\n",
      "Wall time: 1min 45s\n"
     ]
    }
   ],
   "source": [
    "%%time\n",
    "## your code here executing the function\n",
    "sentimentlist = [sentiment(report) for report in doj_subset[\"contents\"]]"
   ]
  },
  {
   "cell_type": "markdown",
   "metadata": {},
   "source": [
    "C. Add the four sentiment scores to the `doj_subset` dataframe to create a dataframe: `doj_subset_wscore`. Sort from highest neg to lowest neg score and print the top `id`, `contents`, and `neg` columns of the two most neg press releases. \n",
    "\n",
    "Notes:\n",
    "\n",
    "- Don't worry if your sentiment score differs slightly from our output on GitHub; differences in preprocessing can lead to diff scores"
   ]
  },
  {
   "cell_type": "code",
   "execution_count": 61,
   "metadata": {},
   "outputs": [
    {
     "data": {
      "text/html": [
       "<div>\n",
       "<style scoped>\n",
       "    .dataframe tbody tr th:only-of-type {\n",
       "        vertical-align: middle;\n",
       "    }\n",
       "\n",
       "    .dataframe tbody tr th {\n",
       "        vertical-align: top;\n",
       "    }\n",
       "\n",
       "    .dataframe thead th {\n",
       "        text-align: right;\n",
       "    }\n",
       "</style>\n",
       "<table border=\"1\" class=\"dataframe\">\n",
       "  <thead>\n",
       "    <tr style=\"text-align: right;\">\n",
       "      <th></th>\n",
       "      <th>id</th>\n",
       "      <th>contents</th>\n",
       "      <th>neg</th>\n",
       "    </tr>\n",
       "  </thead>\n",
       "  <tbody>\n",
       "    <tr>\n",
       "      <th>0</th>\n",
       "      <td>14-248</td>\n",
       "      <td>The Department of Justice announced that this morning John W. Ng, 58, of Albuquerque, N.M., made his initial appearance in federal court on a criminal complaint charging him with a hate crime offense.  This charge is related to anti-Semitic threats Ng made against a Jewish woman who owns and operates the Nosh Jewish Delicatessen and Bakery in Albuquerque. Ng was arrested by the FBI on March 7, 2014, based on a criminal complaint alleging that he interfered with the victim’s federally protected rights by threatening her and interfering with her business because of her religion.  According to the criminal complaint, between Jan. 22, 2014, and Feb. 8, 2014, Ng allegedly posted threatening anti-Semitic notes on and in the vicinity of the victim’s business. A criminal complaint merely establishes probable cause, and Ng is presumed innocent unless proven guilty.  If convicted on the offense charged in the criminal complaint, Ng faces a maximum statutory penalty of one year in prison. This matter was investigated by the Albuquerque Division of the FBI and is being prosecuted by Assistant U.S. Attorney Mark T. Baker of the U.S. Attorney’s Office for the District of New Mexico and Trial Attorney AeJean Cha of the U.S. Department of Justice’s Civil Rights Division.</td>\n",
       "      <td>0.319</td>\n",
       "    </tr>\n",
       "    <tr>\n",
       "      <th>1</th>\n",
       "      <td>13-312</td>\n",
       "      <td>John Hall, 27, an Aryan Brotherhood member and inmate at the Federal Correctional Institution (FCI) in Seagoville, Texas, was sentenced today by U.S. District Judge Reed O’Connor after pleading guilty to violating the Matthew Shepard and James Byrd Jr. Hate Crimes Prevention Act stemming from his assault of a fellow inmate, whom he believed to be gay, the Department of Justice announced. Hall assaulted his fellow inmate with a dangerous weapon, causing bodily injury to the victim on Dec. 20, 2011. Hall was sentenced to serve 71 months in prison to be served consecutively with the sentence he is currently serving. The assault occurred on Dec. 20, 2011, inside the FCI Seagoville when Hall targeted and attacked the victim, a fellow inmate, because he believed the victim was gay or involved in a sexual relationship with another male inmate. Hall repeatedly punched, kicked and stomped on the victim’s face with his shod feet, a dangerous weapon, while yelling a homophobic slur. The victim lost consciousness during the assault and suffered multiple lacerations to his face. The victim also sustained a fractured eye socket, lost a tooth, fractured other teeth and was treated at a hospital for the injuries he sustained during Hall’s unprovoked attack. Hall pleaded guilty to violating the Matthew Shepard and James Byrd Jr. Hate Crimes Prevention Act on Nov. 8, 2012. “Brutality and violence based on sexual orientation has no place in a civilized society,” said Thomas E. Perez, Assistant Attorney General for the Civil Rights Division. “The Justice Department is committed to using all the tools in our law enforcement arsenal, including the Matthew Shepard and James Byrd Jr. Hate Crimes Prevention Act, to prosecute acts motivated by hate.” “This prosecution sends a clear message that this office, in partnership with attorneys in the department’s Civil Rights Division, will prioritize and aggressively prosecute hate crimes and others civil rights violations in North Texas,” said U.S. Attorney Sarah R. Saldaña of the Northern District of Texas. This case was investigated by the FBI Dallas Division. The case was prosecuted by Assistant U.S. Attorney Errin Martin and Trial Attorney Adriana Vieco of the Civil Rights Division.</td>\n",
       "      <td>0.300</td>\n",
       "    </tr>\n",
       "  </tbody>\n",
       "</table>\n",
       "</div>"
      ],
      "text/plain": [
       "       id  \\\n",
       "0  14-248   \n",
       "1  13-312   \n",
       "\n",
       "                                                                                                                                                                                                                                                                                                                                                                                                                                                                                                                                                                                                                                                                                                                                                                                                                                                                                                                                                                                                                                                                                                                                                                                                                                                                                                                                                                                                                                                                                                                                                                                                                                                                                                                                                                                                                                                                                                                                                                                                                                                                                                                                                                                                                                                                                                                                contents  \\\n",
       "0                                                                                                                                                                                                                                                                                                                                                                                                                                                                                                                                                                                                                                                                                                                                                                                                                                                                                                                                                                                                            The Department of Justice announced that this morning John W. Ng, 58, of Albuquerque, N.M., made his initial appearance in federal court on a criminal complaint charging him with a hate crime offense.  This charge is related to anti-Semitic threats Ng made against a Jewish woman who owns and operates the Nosh Jewish Delicatessen and Bakery in Albuquerque. Ng was arrested by the FBI on March 7, 2014, based on a criminal complaint alleging that he interfered with the victim’s federally protected rights by threatening her and interfering with her business because of her religion.  According to the criminal complaint, between Jan. 22, 2014, and Feb. 8, 2014, Ng allegedly posted threatening anti-Semitic notes on and in the vicinity of the victim’s business. A criminal complaint merely establishes probable cause, and Ng is presumed innocent unless proven guilty.  If convicted on the offense charged in the criminal complaint, Ng faces a maximum statutory penalty of one year in prison. This matter was investigated by the Albuquerque Division of the FBI and is being prosecuted by Assistant U.S. Attorney Mark T. Baker of the U.S. Attorney’s Office for the District of New Mexico and Trial Attorney AeJean Cha of the U.S. Department of Justice’s Civil Rights Division.   \n",
       "1  John Hall, 27, an Aryan Brotherhood member and inmate at the Federal Correctional Institution (FCI) in Seagoville, Texas, was sentenced today by U.S. District Judge Reed O’Connor after pleading guilty to violating the Matthew Shepard and James Byrd Jr. Hate Crimes Prevention Act stemming from his assault of a fellow inmate, whom he believed to be gay, the Department of Justice announced. Hall assaulted his fellow inmate with a dangerous weapon, causing bodily injury to the victim on Dec. 20, 2011. Hall was sentenced to serve 71 months in prison to be served consecutively with the sentence he is currently serving. The assault occurred on Dec. 20, 2011, inside the FCI Seagoville when Hall targeted and attacked the victim, a fellow inmate, because he believed the victim was gay or involved in a sexual relationship with another male inmate. Hall repeatedly punched, kicked and stomped on the victim’s face with his shod feet, a dangerous weapon, while yelling a homophobic slur. The victim lost consciousness during the assault and suffered multiple lacerations to his face. The victim also sustained a fractured eye socket, lost a tooth, fractured other teeth and was treated at a hospital for the injuries he sustained during Hall’s unprovoked attack. Hall pleaded guilty to violating the Matthew Shepard and James Byrd Jr. Hate Crimes Prevention Act on Nov. 8, 2012. “Brutality and violence based on sexual orientation has no place in a civilized society,” said Thomas E. Perez, Assistant Attorney General for the Civil Rights Division. “The Justice Department is committed to using all the tools in our law enforcement arsenal, including the Matthew Shepard and James Byrd Jr. Hate Crimes Prevention Act, to prosecute acts motivated by hate.” “This prosecution sends a clear message that this office, in partnership with attorneys in the department’s Civil Rights Division, will prioritize and aggressively prosecute hate crimes and others civil rights violations in North Texas,” said U.S. Attorney Sarah R. Saldaña of the Northern District of Texas. This case was investigated by the FBI Dallas Division. The case was prosecuted by Assistant U.S. Attorney Errin Martin and Trial Attorney Adriana Vieco of the Civil Rights Division.   \n",
       "\n",
       "     neg  \n",
       "0  0.319  \n",
       "1  0.300  "
      ]
     },
     "execution_count": 61,
     "metadata": {},
     "output_type": "execute_result"
    }
   ],
   "source": [
    "# Creates a new dataframe from my list of dictionaries\n",
    "sentiment_df = pd.DataFrame(sentimentlist)\n",
    "\n",
    "doj_subset.reset_index(drop=True, inplace=True)\n",
    "sentiment_df.reset_index(drop=True, inplace=True)\n",
    "\n",
    "doj_subset_wscore = pd.concat([doj_subset, sentiment_df], axis=1)\n",
    "\n",
    "# Sort from highest to  lowest neg score and print the top id, contents and neg columns of the two most neg press releases\n",
    "doj_subset_wscore = doj_subset_wscore.sort_values(by = \"neg\", ascending = False).reset_index()\n",
    "\n",
    "doj_subset_wscore.loc[0:1, ['id', 'contents', \"neg\"]]\n"
   ]
  },
  {
   "cell_type": "markdown",
   "metadata": {},
   "source": [
    "D. With the dataframe from part C, find the mean compound sentiment score for each of the three topics in `topics_clean` using group_by and agg.\n",
    "\n",
    "E. Add a 1 sentence interpretation of why we might see the variation in scores (remember that compound is a standardized summary where -1 is most negative; +1 is most positive)\n"
   ]
  },
  {
   "cell_type": "code",
   "execution_count": 62,
   "metadata": {},
   "outputs": [
    {
     "data": {
      "text/plain": [
       "topics_clean\n",
       "Civil Rights             -0.079874\n",
       "Hate Crimes              -0.935596\n",
       "Project Safe Childhood   -0.636441\n",
       "Name: compound, dtype: float64"
      ]
     },
     "execution_count": 62,
     "metadata": {},
     "output_type": "execute_result"
    },
    {
     "name": "stdout",
     "output_type": "stream",
     "text": [
      "We might see a variation of scores because some press releases have more negative words or a more negativly charged tone. \n"
     ]
    }
   ],
   "source": [
    "## agg and find the mean compound score by topic\n",
    "doj_subset_wscore.groupby(\"topics_clean\")[\"compound\"].agg(np.mean)\n",
    "\n",
    "# Add a sentence\n",
    "print(\"We might see a variation of scores because some press releases have more negative words or a more negativly charged tone. \")"
   ]
  },
  {
   "cell_type": "markdown",
   "metadata": {},
   "source": [
    "# 2. Topic modeling (25 points)\n",
    "\n",
    "For this question, use the `doj_subset_wscores` data that is restricted to civil rights, hate crimes, and project safe childhood and with the sentiment scores added\n"
   ]
  },
  {
   "cell_type": "markdown",
   "metadata": {},
   "source": [
    "## 2.1 Preprocess the data by removing stopwords, punctuation, and non-alpha words (5 points)\n",
    "\n",
    "A. Write a function that:\n",
    "\n",
    "- Takes in a single raw string in the `contents` column from that dataframe\n",
    "- Does the following preprocessing steps:\n",
    "\n",
    "    - Converts the words to lowercase\n",
    "    - Removes stopwords, adding the custom stopwords in your code cell below to the default stopwords list\n",
    "    - Only retains alpha words (so removes digits and punctuation)\n",
    "    - Only retains words 4 characters or longer\n",
    "    - Uses the snowball stemmer from nltk to stem\n",
    "\n",
    "- Returns a joined preprocessed string\n",
    "    \n",
    "B. Use `apply` or list comprehension to execute that function and create a new column in the data called `processed_text`\n",
    "    \n",
    "C. Print the `id`, `contents`, and `processed_text` columns for the following press releases:\n",
    "\n",
    "id = 16-718 (this case: https://www.seattletimes.com/nation-world/doj-miami-police-reach-settlement-in-civil-rights-case/)\n",
    "\n",
    "id = 16-217 (this case: https://www.wlbt.com/story/32275512/three-mississippi-correctional-officers-indicted-for-inmate-assault-and-cover-up/)\n",
    "    \n",
    "**Resources**:\n",
    "\n",
    "- Here's code examples for the snowball stemmer: https://www.geeksforgeeks.org/snowball-stemmer-nlp/"
   ]
  },
  {
   "cell_type": "code",
   "execution_count": 64,
   "metadata": {},
   "outputs": [],
   "source": [
    "custom_doj_stopwords = [\"civil\", \"rights\", \"division\", \"department\", \"justice\",\n",
    "                        \"office\", \"attorney\", \"district\", \"case\", \"investigation\", \"assistant\",\n",
    "                       \"trial\", \"assistance\", \"assist\"]\n",
    "\n",
    "# Adds our custom code words to the stop words already existing \n",
    "list_stopwords = stopwords.words(\"english\")\n",
    "\n",
    "# combines our stop words and the stop words provided \n",
    "list_stopwords_new = list_stopwords + custom_doj_stopwords\n",
    "\n"
   ]
  },
  {
   "cell_type": "code",
   "execution_count": 65,
   "metadata": {},
   "outputs": [],
   "source": [
    "## your code defining a text processing function\n",
    "snow_stemmer = SnowballStemmer(language='english')\n",
    "\n",
    "def processString(contents):\n",
    "    # Convert the words to lowercase\n",
    "    loweredString = contents.lower()\n",
    "\n",
    "    # Removes stopwords\n",
    "    nostop_contents = [word for word in wordpunct_tokenize(loweredString) \n",
    "                           if word not in list_stopwords_new]\n",
    "\n",
    "    # Only retains alpha words (so removes digits and punctuation) and Only retains words 4 characters or longer\n",
    "    # Uses the snowball stemmer from nltk to stem\n",
    "\n",
    "    noStopAllAlphaOverFour = [snow_stemmer.stem(word) for word in nostop_contents\n",
    "                     if word.isalpha() and len(word) >= 4 ]\n",
    "\n",
    "    # Returns a joined preprocessed string\n",
    "    return \" \".join(noStopAllAlphaOverFour)\n"
   ]
  },
  {
   "cell_type": "code",
   "execution_count": 66,
   "metadata": {},
   "outputs": [],
   "source": [
    "## your code executing the function and adding our new column\n",
    "doj_subset_wscore[\"processed_text\"] = doj_subset_wscore[\"contents\"].apply(processString)"
   ]
  },
  {
   "cell_type": "code",
   "execution_count": 67,
   "metadata": {},
   "outputs": [
    {
     "data": {
      "text/html": [
       "<div>\n",
       "<style scoped>\n",
       "    .dataframe tbody tr th:only-of-type {\n",
       "        vertical-align: middle;\n",
       "    }\n",
       "\n",
       "    .dataframe tbody tr th {\n",
       "        vertical-align: top;\n",
       "    }\n",
       "\n",
       "    .dataframe thead th {\n",
       "        text-align: right;\n",
       "    }\n",
       "</style>\n",
       "<table border=\"1\" class=\"dataframe\">\n",
       "  <thead>\n",
       "    <tr style=\"text-align: right;\">\n",
       "      <th></th>\n",
       "      <th>id</th>\n",
       "      <th>contents</th>\n",
       "      <th>processed_text</th>\n",
       "    </tr>\n",
       "  </thead>\n",
       "  <tbody>\n",
       "    <tr>\n",
       "      <th>2</th>\n",
       "      <td>16-718</td>\n",
       "      <td>In a nine-count indictment unsealed today, two Mississippi correctional officers were charged with beating an inmate and a third was charged with helping to cover it up.  The indictment charged Lawardrick Marsher, 28, and Robert Sturdivant, 47, officers at Mississippi State Penitentiary, in Parchman, Mississippi, with a beating that included kicking, punching and throwing the victim to the ground.  Marsher and Sturdivant were charged with violating the right of K.H., a convicted prisoner, to be free from cruel and unusual punishment.  Sturdivant was also charged with failing to intervene while Marsher was punching and beating K.H.  The indictment alleges that their actions involved the use of a dangerous weapon and resulted in bodily injury to the victim. A third officer, Deonte Pate, 23, was charged along with Marsher and Sturdivant for conspiring to cover up the beating.  The indictment alleges that all three officers submitted false reports and that all three lied to the FBI. If convicted, Marsher and Sturdivant face a maximum sentence of 10 years in prison on the excessive force charges.  Each of the three officers faces up to five years in prison on the conspiracy and false statement charges, and up to 20 years in prison on the false report charges. An indictment is merely an accusation, and the defendants are presumed innocent unless and until proven guilty. This case is being investigated by the FBI’s Jackson Division, with the cooperation of the Mississippi Department of Corrections.  It is being prosecuted by Assistant U.S. Attorney Robert Coleman of the Northern District of Mississippi and Trial Attorney Dana Mulhauser of the Civil Rights Division’s Criminal Section.     Marsher Indictment</td>\n",
       "      <td>nine count indict unseal today mississippi correct offic charg beat inmat third charg help cover indict charg lawardrick marsher robert sturdiv offic mississippi state penitentiari parchman mississippi beat includ kick punch throw victim ground marsher sturdiv charg violat right convict prison free cruel unusu punish sturdiv also charg fail interven marsher punch beat indict alleg action involv danger weapon result bodili injuri victim third offic deont pate charg along marsher sturdiv conspir cover beat indict alleg three offic submit fals report three lie convict marsher sturdiv face maximum sentenc year prison excess forc charg three offic face five year prison conspiraci fals statement charg year prison fals report charg indict mere accus defend presum innoc unless proven guilti investig jackson cooper mississippi correct prosecut robert coleman northern mississippi dana mulhaus crimin section marsher indict</td>\n",
       "    </tr>\n",
       "    <tr>\n",
       "      <th>688</th>\n",
       "      <td>16-217</td>\n",
       "      <td>The Justice Department has reached a comprehensive settlement agreement with the city of Miami and the Miami Police Department (MPD) resolving the Justice Department’s investigation of officer-involved shootings by MPD officers, announced Principal Deputy Assistant Attorney General Vanita Gupta, head of the Justice Department’s Civil Rights Division and U.S. Attorney Wifredo A. Ferrer of the Southern District of Florida. The settlement, which was approved by Miami’s city commission today and will go into effect when the agreement is signed by all parties, resolves claims stemming from the Justice Department’s investigation into officer-involved shootings by MPD officers, which was conducted under the Violent Crime Control and Law Enforcement Act of 1994.  The investigation’s findings, issued in July 2013, identified a pattern or practice of excessive use of force through officer-involved shootings in violation of the Fourth Amendment of the Constitution.  The city’s compliance with the settlement will be monitored by an independent reviewer, former Tampa, Florida, Police Chief Jane Castor.  Under the settlement agreement, the city will implement comprehensive reforms to ensure constitutional policing and support public trust.  The settlement agreement is designed to minimize officer-involved shootings and to more effectively and quickly investigate officer-involved shootings that do occur, through measures that include: “This settlement represents a renewed commitment by the city of Miami and Chief Rodolfo Llanes to provide constitutional policing for Miami residents and to protect public safety through sustainable reform,” said Principal Deputy Assistant Attorney General Gupta.  “The agreement will help to strengthen the relationship between the MPD and the communities they serve by improving accountability for officers who fire their weapons unlawfully, and provides for community participation in the enforcement of this agreement.”  “Today's agreement is the result of a joint effort between the Department of Justice and the City of Miami to ensure that the Miami Police Department continues its efforts to make our community safe while protecting the sacred Constitutional rights of all of our citizens,” said U.S. Attorney Ferrer.  “Through oversight and communication, the agreement seeks to make permanent the positive changes that former Chief Orosa and Chief Llanes have made, and we applaud the City Commission’s vote.” The settlement agreement builds upon important reforms implemented by the city since the Justice Department issued its findings, including:  The investigation was conducted by attorneys and staff from the Civil Rights Division’s Special Litigation Section and the Civil Division of the U. S. Attorney’s Office of the Southern District of Florida.</td>\n",
       "      <td>reach comprehens settlement agreement citi miami miami polic resolv offic involv shoot offic announc princip deputi general vanita gupta head wifredo ferrer southern florida settlement approv miami citi commiss today effect agreement sign parti resolv claim stem offic involv shoot offic conduct violent crime control enforc find issu juli identifi pattern practic excess forc offic involv shoot violat fourth amend constitut citi complianc settlement monitor independ review former tampa florida polic chief jane castor settlement agreement citi implement comprehens reform ensur constitut polic support public trust settlement agreement design minim offic involv shoot effect quick investig offic involv shoot occur measur includ settlement repres renew commit citi miami chief rodolfo llane provid constitut polic miami resid protect public safeti sustain reform said princip deputi general gupta agreement help strengthen relationship communiti serv improv account offic fire weapon unlaw provid communiti particip enforc agreement today agreement result joint effort citi miami ensur miami polic continu effort make communiti safe protect sacr constitut citizen said ferrer oversight communic agreement seek make perman posit chang former chief orosa chief llane made applaud citi commiss vote settlement agreement build upon import reform implement citi sinc issu find includ conduct attorney staff special litig section southern florida</td>\n",
       "    </tr>\n",
       "  </tbody>\n",
       "</table>\n",
       "</div>"
      ],
      "text/plain": [
       "         id  \\\n",
       "2    16-718   \n",
       "688  16-217   \n",
       "\n",
       "                                                                                                                                                                                                                                                                                                                                                                                                                                                                                                                                                                                                                                                                                                                                                                                                                                                                                                                                                                                                                                                                                                                                                                                                                                                                                                                                                                                                                                                                                                                                                                                                                                                                                                                                                                                                                                                                                                                                                                                                                                                                                                                                                                                                                                                                                                                                                                                                                                                                                                                                                                                                                                                                                                                                                                                                                                                                                                                       contents  \\\n",
       "2                                                                                                                                                                                                                                                                                                                                                                                                                                                                                                                                                                                                                                                                                                                                                                                                                                                                                                                                                                                                                                                                                                                              In a nine-count indictment unsealed today, two Mississippi correctional officers were charged with beating an inmate and a third was charged with helping to cover it up.  The indictment charged Lawardrick Marsher, 28, and Robert Sturdivant, 47, officers at Mississippi State Penitentiary, in Parchman, Mississippi, with a beating that included kicking, punching and throwing the victim to the ground.  Marsher and Sturdivant were charged with violating the right of K.H., a convicted prisoner, to be free from cruel and unusual punishment.  Sturdivant was also charged with failing to intervene while Marsher was punching and beating K.H.  The indictment alleges that their actions involved the use of a dangerous weapon and resulted in bodily injury to the victim. A third officer, Deonte Pate, 23, was charged along with Marsher and Sturdivant for conspiring to cover up the beating.  The indictment alleges that all three officers submitted false reports and that all three lied to the FBI. If convicted, Marsher and Sturdivant face a maximum sentence of 10 years in prison on the excessive force charges.  Each of the three officers faces up to five years in prison on the conspiracy and false statement charges, and up to 20 years in prison on the false report charges. An indictment is merely an accusation, and the defendants are presumed innocent unless and until proven guilty. This case is being investigated by the FBI’s Jackson Division, with the cooperation of the Mississippi Department of Corrections.  It is being prosecuted by Assistant U.S. Attorney Robert Coleman of the Northern District of Mississippi and Trial Attorney Dana Mulhauser of the Civil Rights Division’s Criminal Section.     Marsher Indictment   \n",
       "688  The Justice Department has reached a comprehensive settlement agreement with the city of Miami and the Miami Police Department (MPD) resolving the Justice Department’s investigation of officer-involved shootings by MPD officers, announced Principal Deputy Assistant Attorney General Vanita Gupta, head of the Justice Department’s Civil Rights Division and U.S. Attorney Wifredo A. Ferrer of the Southern District of Florida. The settlement, which was approved by Miami’s city commission today and will go into effect when the agreement is signed by all parties, resolves claims stemming from the Justice Department’s investigation into officer-involved shootings by MPD officers, which was conducted under the Violent Crime Control and Law Enforcement Act of 1994.  The investigation’s findings, issued in July 2013, identified a pattern or practice of excessive use of force through officer-involved shootings in violation of the Fourth Amendment of the Constitution.  The city’s compliance with the settlement will be monitored by an independent reviewer, former Tampa, Florida, Police Chief Jane Castor.  Under the settlement agreement, the city will implement comprehensive reforms to ensure constitutional policing and support public trust.  The settlement agreement is designed to minimize officer-involved shootings and to more effectively and quickly investigate officer-involved shootings that do occur, through measures that include: “This settlement represents a renewed commitment by the city of Miami and Chief Rodolfo Llanes to provide constitutional policing for Miami residents and to protect public safety through sustainable reform,” said Principal Deputy Assistant Attorney General Gupta.  “The agreement will help to strengthen the relationship between the MPD and the communities they serve by improving accountability for officers who fire their weapons unlawfully, and provides for community participation in the enforcement of this agreement.”  “Today's agreement is the result of a joint effort between the Department of Justice and the City of Miami to ensure that the Miami Police Department continues its efforts to make our community safe while protecting the sacred Constitutional rights of all of our citizens,” said U.S. Attorney Ferrer.  “Through oversight and communication, the agreement seeks to make permanent the positive changes that former Chief Orosa and Chief Llanes have made, and we applaud the City Commission’s vote.” The settlement agreement builds upon important reforms implemented by the city since the Justice Department issued its findings, including:  The investigation was conducted by attorneys and staff from the Civil Rights Division’s Special Litigation Section and the Civil Division of the U. S. Attorney’s Office of the Southern District of Florida.   \n",
       "\n",
       "                                                                                                                                                                                                                                                                                                                                                                                                                                                                                                                                                                                                                                                                                                                                                                                                                                                                                                                                                                                                                                                                                                                                                                                                                                                                                                                                                                                                                                                                                          processed_text  \n",
       "2                                                                                                                                                                                                                                                                                                                                                                                                                                                                                                                                          nine count indict unseal today mississippi correct offic charg beat inmat third charg help cover indict charg lawardrick marsher robert sturdiv offic mississippi state penitentiari parchman mississippi beat includ kick punch throw victim ground marsher sturdiv charg violat right convict prison free cruel unusu punish sturdiv also charg fail interven marsher punch beat indict alleg action involv danger weapon result bodili injuri victim third offic deont pate charg along marsher sturdiv conspir cover beat indict alleg three offic submit fals report three lie convict marsher sturdiv face maximum sentenc year prison excess forc charg three offic face five year prison conspiraci fals statement charg year prison fals report charg indict mere accus defend presum innoc unless proven guilti investig jackson cooper mississippi correct prosecut robert coleman northern mississippi dana mulhaus crimin section marsher indict  \n",
       "688  reach comprehens settlement agreement citi miami miami polic resolv offic involv shoot offic announc princip deputi general vanita gupta head wifredo ferrer southern florida settlement approv miami citi commiss today effect agreement sign parti resolv claim stem offic involv shoot offic conduct violent crime control enforc find issu juli identifi pattern practic excess forc offic involv shoot violat fourth amend constitut citi complianc settlement monitor independ review former tampa florida polic chief jane castor settlement agreement citi implement comprehens reform ensur constitut polic support public trust settlement agreement design minim offic involv shoot effect quick investig offic involv shoot occur measur includ settlement repres renew commit citi miami chief rodolfo llane provid constitut polic miami resid protect public safeti sustain reform said princip deputi general gupta agreement help strengthen relationship communiti serv improv account offic fire weapon unlaw provid communiti particip enforc agreement today agreement result joint effort citi miami ensur miami polic continu effort make communiti safe protect sacr constitut citizen said ferrer oversight communic agreement seek make perman posit chang former chief orosa chief llane made applaud citi commiss vote settlement agreement build upon import reform implement citi sinc issu find includ conduct attorney staff special litig section southern florida  "
      ]
     },
     "execution_count": 67,
     "metadata": {},
     "output_type": "execute_result"
    }
   ],
   "source": [
    "## your code showing the examples\n",
    "\n",
    "doj_subset_wscore[(doj_subset_wscore[\"id\"] == \"16-718\") | (doj_subset_wscore[\"id\"] == \"16-217\")][[\"id\", \"contents\", \"processed_text\"]]"
   ]
  },
  {
   "cell_type": "markdown",
   "metadata": {},
   "source": [
    "## 2.2 Create a document-term matrix from the preprocessed press releases and to explore top words (5 points)\n",
    "\n",
    "A. Use the `create_dtm` function I provide (alternately, feel free to write your own!) and create a document-term matrix using the preprocessed press releases; make sure metadata contains the following columns: `id`, `compound` sentiment column you added, and the `topics_clean` column\n",
    "\n",
    "B. Print the top 10 words for press releases with compound sentiment in the top 5% (so the most positive sentiment)\n",
    "\n",
    "C. Print the top 10 words for press releases with compound sentiment in the bottom 5% (so the most negative sentiment)\n",
    "\n",
    "**Hint**: for these, remember the pandas quantile function from pset one.  \n",
    "\n",
    "D. Print the top 10 words for press releases in each of the three `topics_clean`\n",
    "\n",
    "For steps B - D, to receive full credit, write a function `get_topwords` that helps you avoid duplicated code when you find top words for the different subsets of the data. There are different ways to structure it but one way is to feed it subsetted data (so data subsetted to one topic etc.) and for it to get the top words for that subset.\n"
   ]
  },
  {
   "cell_type": "code",
   "execution_count": 68,
   "metadata": {},
   "outputs": [],
   "source": [
    "def create_dtm(list_of_strings, metadata):\n",
    "    vectorizer = CountVectorizer(lowercase = True)\n",
    "    dtm_sparse = vectorizer.fit_transform(list_of_strings)\n",
    "    dtm_dense_named = pd.DataFrame(dtm_sparse.todense(),\n",
    "        columns=vectorizer.get_feature_names_out()) # added the out from google\n",
    "    dtm_dense_named_withid = pd.concat([metadata.reset_index(), dtm_dense_named], axis = 1)\n",
    "    return(dtm_dense_named_withid)"
   ]
  },
  {
   "cell_type": "code",
   "execution_count": 69,
   "metadata": {},
   "outputs": [
    {
     "name": "stdout",
     "output_type": "stream",
     "text": [
      "Top ten words are: \n",
      "agreement     173\n",
      "enforc        130\n",
      "state         118\n",
      "ensur         110\n",
      "disabl        107\n",
      "communiti      99\n",
      "settlement     87\n",
      "student        87\n",
      "general        84\n",
      "servic         83\n",
      "dtype: int64\n",
      "Top ten words are: \n",
      "assault     191\n",
      "crime       171\n",
      "victim      164\n",
      "hate        129\n",
      "defend      126\n",
      "offic       119\n",
      "conspir     105\n",
      "sentenc     104\n",
      "charg        97\n",
      "american     95\n",
      "dtype: int64\n",
      "\n",
      "For Hate Crimes\n",
      "Top ten words are: \n",
      "victim      591\n",
      "crime       557\n",
      "hate        524\n",
      "defend      484\n",
      "prosecut    478\n",
      "charg       463\n",
      "sentenc     455\n",
      "american    451\n",
      "feder       432\n",
      "guilti      430\n",
      "dtype: int64\n",
      "\n",
      "For Civil Rights\n",
      "Top ten words are: \n",
      "offic        637\n",
      "hous         633\n",
      "discrimin    616\n",
      "enforc       544\n",
      "disabl       532\n",
      "said         497\n",
      "feder        479\n",
      "violat       477\n",
      "state        452\n",
      "court        414\n",
      "dtype: int64\n",
      "\n",
      "For Project Safe Childhood\n",
      "Top ten words are: \n",
      "child          1022\n",
      "exploit         701\n",
      "sexual          572\n",
      "safe            479\n",
      "childhood       474\n",
      "project         472\n",
      "pornographi     452\n",
      "children        423\n",
      "crimin          405\n",
      "prosecut        374\n",
      "dtype: int64\n"
     ]
    }
   ],
   "source": [
    "# Function that given a subsetted Dataframe will print out the top 5 words\n",
    "def get_topwords(dfnew):\n",
    "    dfnew = dfnew.drop([\"index\"], axis = 1)\n",
    "    top_terms = dfnew[dfnew.columns[4:]].sum(axis = 0)\n",
    "    print(\"Top ten words are: \")\n",
    "    print(top_terms.sort_values(ascending = False)[:10])\n",
    "\n",
    "\n",
    "# Compound is word that apears in the contents so if we do not rename our compound to compound_score we get to columns with the same name\n",
    "doj_subset_wscore = doj_subset_wscore.rename(columns = {\"compound\" : \"compound_score\"})\n",
    "\n",
    "# Create a dtm with metadata id, compound and topics clean\n",
    "dtm_processed_text = create_dtm(list_of_strings= doj_subset_wscore.processed_text,\n",
    "                      metadata = doj_subset_wscore[['id', 'compound_score', 'topics_clean']])\n",
    "\n",
    "\n",
    "\n",
    "# Print the top 10 words for press releases with compound sentiment in the top 5% (so the most positive sentiment)\n",
    "top_5_percent_dtm = dtm_processed_text[dtm_processed_text[\"compound_score\"] >= dtm_processed_text['compound_score'].quantile(0.95)]\n",
    "get_topwords(top_5_percent_dtm)\n",
    "\n",
    "# Print the top 10 words for press releases with compound sentiment in the bottom 5% (so the most negative sentiment)\n",
    "bottom_5_percent_dtm = dtm_processed_text[dtm_processed_text[\"compound_score\"]<= dtm_processed_text['compound_score'].quantile(0.05)]\n",
    "get_topwords(bottom_5_percent_dtm)\n",
    "\n",
    "# Print the top 10 words for press releases in each of the three topics_clean\n",
    "for item in dtm_processed_text[\"topics_clean\"].unique():\n",
    "    print( \"\\n\" + \"For \" + item)\n",
    "    df = dtm_processed_text[dtm_processed_text[\"topics_clean\"] == item]\n",
    "    get_topwords(df)\n",
    "\n",
    "\n"
   ]
  },
  {
   "cell_type": "markdown",
   "metadata": {},
   "source": [
    "## 2.3 Estimate a topic model using those preprocessed words (5 points)\n",
    "\n",
    "A. Going back to the preprocessed words from part 2.3.1, estimate a topic model with 3 topics, since you want to see if the unsupervised topic models recover different themes for each of the three manually-labeled areas (civil rights; hate crimes; project safe childhood). You have free rein over the other topic model parameters beyond the number of topics.\n",
    "\n",
    "B. After estimating the topic model, print the top 15 words in each topic.\n",
    "\n",
    "**Hints and Resources**:\n",
    "\n",
    "- Same topic modeling resources linked to above\n",
    "- Make sure to use the `random_state` argument within the model so that the numbering of topics does not move around between runs of your code"
   ]
  },
  {
   "cell_type": "code",
   "execution_count": 70,
   "metadata": {},
   "outputs": [
    {
     "name": "stdout",
     "output_type": "stream",
     "text": [
      "civil rights: (0, '0.010*\"victim\" + 0.009*\"charg\" + 0.009*\"offic\" + 0.008*\"crime\" + 0.008*\"defend\" + 0.008*\"feder\" + 0.008*\"polic\" + 0.007*\"sentenc\" + 0.007*\"indict\" + 0.007*\"said\" + 0.007*\"violat\" + 0.007*\"prosecut\" + 0.007*\"prison\" + 0.006*\"enforc\" + 0.006*\"guilti\"')\n",
      "\n",
      "project safe childhood: (1, '0.019*\"child\" + 0.012*\"exploit\" + 0.011*\"sexual\" + 0.009*\"safe\" + 0.009*\"state\" + 0.009*\"project\" + 0.008*\"childhood\" + 0.008*\"children\" + 0.008*\"pornographi\" + 0.008*\"crimin\" + 0.007*\"feder\" + 0.007*\"prosecut\" + 0.006*\"offic\" + 0.006*\"year\" + 0.006*\"sentenc\"')\n",
      "\n",
      "Hate Crimes: (2, '0.013*\"hous\" + 0.010*\"american\" + 0.008*\"said\" + 0.008*\"discrimin\" + 0.007*\"african\" + 0.007*\"disabl\" + 0.006*\"feder\" + 0.006*\"court\" + 0.006*\"today\" + 0.006*\"victim\" + 0.006*\"defend\" + 0.006*\"alleg\" + 0.006*\"fair\" + 0.005*\"prosecut\" + 0.005*\"general\"')\n"
     ]
    }
   ],
   "source": [
    "## Step 1: re-tokenize and store in list\n",
    "text_raw_tokens = [wordpunct_tokenize(one_text) for one_text in\n",
    "                  doj_subset_wscore[\"processed_text\"]]\n",
    "# ## Step 2: use gensim create dictionary - gets all unique words across documents\n",
    "text_raw_dict = corpora.Dictionary(text_raw_tokens)\n",
    "raw_len = len(text_raw_dict) # get length for comparison below\n",
    "\n",
    "corpus_fromdict = [text_raw_dict.doc2bow(one_text) for one_text in text_raw_tokens]\n",
    "ldamodel = gensim.models.ldamodel.LdaModel(corpus=corpus_fromdict, num_topics=3, id2word=text_raw_dict, passes=15, random_state=100)\n",
    "\n",
    "topics = ldamodel.print_topics(num_words=15)\n",
    "\n",
    "# Prints out the top 15 words from each category\n",
    "print(\"civil rights: \" + str(topics[0]) + \"\\n\")\n",
    "\n",
    "print(\"project safe childhood: \" + str(topics[1]) + \"\\n\")\n",
    "\n",
    "print(\"Hate Crimes: \" + str(topics[2]))"
   ]
  },
  {
   "cell_type": "code",
   "execution_count": 71,
   "metadata": {},
   "outputs": [
    {
     "data": {
      "text/html": [
       "\n",
       "<link rel=\"stylesheet\" type=\"text/css\" href=\"https://cdn.jsdelivr.net/gh/bmabey/pyLDAvis@3.4.0/pyLDAvis/js/ldavis.v1.0.0.css\">\n",
       "\n",
       "\n",
       "<div id=\"ldavis_el2284421631293305768952664807\" style=\"background-color:white;\"></div>\n",
       "<script type=\"text/javascript\">\n",
       "\n",
       "var ldavis_el2284421631293305768952664807_data = {\"mdsDat\": {\"x\": [-0.08784554182173179, 0.1423892275035315, -0.054543685681799625], \"y\": [0.0783559237851592, 0.013250185859735846, -0.09160610964489506], \"topics\": [1, 2, 3], \"cluster\": [1, 1, 1], \"Freq\": [35.73767787809231, 33.21545614189572, 31.04686598001196]}, \"tinfo\": {\"Term\": [\"child\", \"exploit\", \"hous\", \"project\", \"childhood\", \"pornographi\", \"safe\", \"american\", \"sexual\", \"african\", \"ceo\", \"fair\", \"offic\", \"children\", \"discrimin\", \"hate\", \"cross\", \"employ\", \"imag\", \"minor\", \"internet\", \"crimin\", \"immigr\", \"famili\", \"abus\", \"race\", \"assault\", \"obscen\", \"inmat\", \"disabl\", \"tenant\", \"rice\", \"loan\", \"fairhous\", \"dedmon\", \"construct\", \"noos\", \"borrow\", \"dinkl\", \"lend\", \"rental\", \"jeep\", \"anderson\", \"blalack\", \"rluipa\", \"toyota\", \"zone\", \"yard\", \"township\", \"interf\", \"walden\", \"monetari\", \"landlord\", \"anim\", \"tyler\", \"flanagan\", \"gasolin\", \"mathi\", \"raccoon\", \"financi\", \"hous\", \"african\", \"cross\", \"fair\", \"apart\", \"land\", \"complex\", \"ferguson\", \"american\", \"famili\", \"race\", \"burn\", \"equal\", \"deni\", \"lawsuit\", \"basi\", \"intimid\", \"disabl\", \"discrimin\", \"interfer\", \"complaint\", \"jackson\", \"racial\", \"harass\", \"home\", \"white\", \"build\", \"properti\", \"said\", \"person\", \"alleg\", \"school\", \"court\", \"conspir\", \"settlement\", \"religi\", \"today\", \"file\", \"defend\", \"feder\", \"individu\", \"victim\", \"hate\", \"general\", \"violat\", \"prosecut\", \"guilti\", \"sentenc\", \"crime\", \"enforc\", \"charg\", \"year\", \"act\", \"state\", \"pornographi\", \"ceo\", \"childhood\", \"project\", \"epidem\", \"imag\", \"immigr\", \"voter\", \"delawar\", \"obscen\", \"registr\", \"exploit\", \"nationwid\", \"citizenship\", \"poll\", \"projectsafechildhood\", \"launch\", \"breuer\", \"illicit\", \"chat\", \"grow\", \"lanni\", \"lifetim\", \"documentari\", \"nvra\", \"salamoni\", \"apprehend\", \"bulletin\", \"eeoc\", \"child\", \"explicit\", \"onlin\", \"lesli\", \"internet\", \"safe\", \"rescu\", \"marshal\", \"worker\", \"produc\", \"employ\", \"better\", \"girl\", \"resourc\", \"sexual\", \"combat\", \"minor\", \"visit\", \"websit\", \"initi\", \"children\", \"abus\", \"crimin\", \"engag\", \"state\", \"identifi\", \"pleas\", \"section\", \"inform\", \"local\", \"offic\", \"prosecut\", \"feder\", \"year\", \"servic\", \"investig\", \"sentenc\", \"individu\", \"general\", \"victim\", \"enforc\", \"guilti\", \"agreement\", \"today\", \"inmat\", \"carrol\", \"mullet\", \"detaine\", \"synagogu\", \"witthar\", \"barrett\", \"wilhelm\", \"barn\", \"amish\", \"taser\", \"conceal\", \"arreste\", \"restrain\", \"marsher\", \"tase\", \"worrel\", \"pennington\", \"mcgee\", \"jail\", \"sturdiv\", \"garrett\", \"oath\", \"phears\", \"corder\", \"maybe\", \"solitari\", \"popejoy\", \"jenkin\", \"schlesselman\", \"orient\", \"confin\", \"beat\", \"cell\", \"excess\", \"correct\", \"miller\", \"vandal\", \"obstruct\", \"savoy\", \"shepard\", \"constitut\", \"fals\", \"bodili\", \"byrd\", \"missouri\", \"indict\", \"kentucki\", \"assault\", \"offic\", \"trust\", \"polic\", \"incid\", \"crime\", \"charg\", \"forc\", \"violat\", \"hate\", \"defend\", \"former\", \"sheriff\", \"victim\", \"prison\", \"injuri\", \"deputi\", \"face\", \"said\", \"sentenc\", \"feder\", \"enforc\", \"prosecut\", \"guilti\", \"investig\", \"year\", \"general\", \"today\", \"count\", \"use\", \"commit\", \"communiti\", \"also\", \"crimin\", \"act\", \"state\", \"court\", \"announc\"], \"Freq\": [1022.0, 664.0, 801.0, 458.0, 445.0, 424.0, 492.0, 613.0, 743.0, 417.0, 298.0, 334.0, 836.0, 572.0, 614.0, 525.0, 271.0, 256.0, 200.0, 339.0, 211.0, 664.0, 177.0, 296.0, 349.0, 311.0, 450.0, 173.0, 157.0, 548.0, 65.53143322557403, 63.57392621182915, 59.70884936721062, 56.81544196381778, 65.47435551708607, 82.76015985711265, 50.036479352572584, 47.095545939144685, 48.01427253439072, 45.132329826081126, 39.287430994871755, 40.18042844967463, 92.71752651557523, 33.41167180829929, 54.40960625540876, 29.55695370758707, 63.770526469693294, 26.614313210360567, 48.48902781618617, 36.091159027739025, 24.692425795331697, 29.40803555496915, 23.68131242271665, 23.667551135324594, 21.758179567173233, 22.70328957427941, 23.64328829351389, 24.58404922234327, 20.79094223359196, 53.860479908434044, 770.0764215727529, 402.46757622422103, 258.6248959299743, 316.14211539375367, 121.25400279846522, 83.46935021901679, 59.59442161390885, 42.21738792589812, 543.6619518083376, 266.031939174467, 269.2055208760121, 208.21348916490285, 149.30117705434986, 84.91913597083987, 173.59833324211178, 98.42953518329522, 178.09933533463212, 400.49041449856924, 436.2347033977211, 83.75231430392161, 228.54940057327505, 114.84604861356645, 193.38193329696674, 115.29651946591561, 256.5035420833105, 133.56755028231555, 124.475993942517, 115.3208038953619, 472.2931488546114, 212.58380967511292, 323.7752642121938, 168.9871212881656, 360.56992110839184, 211.21653518767218, 191.97566821848395, 166.9728686834033, 347.4182818299692, 202.42705961438304, 325.2442330691156, 367.6039034405701, 267.0190454357237, 342.14072266781926, 236.0111236381184, 279.01579270677, 256.34255810298765, 290.5271702216623, 265.44170000581346, 276.88654774900607, 250.16389781975352, 243.0442557495721, 246.85236780564267, 231.80037893015606, 215.88492448534748, 216.63212237058084, 422.4853421158589, 296.45788738333204, 442.06372286593745, 454.62731068869743, 140.95593548253092, 198.27739444048007, 176.0196767052976, 131.45198823093287, 82.3303245173808, 171.05182606580942, 64.69791749648226, 655.9573942728225, 150.37147736819358, 64.55318457755844, 51.62718414293594, 46.002593375967116, 153.57080088695707, 42.294726015287125, 42.268383438719646, 59.71752218495634, 146.02690925278614, 36.68912202924947, 43.106663244321524, 33.8996610973889, 31.140580249730014, 30.15804597603253, 149.9019782006387, 33.7148309122814, 40.08754282813979, 995.2193077743447, 121.93863247530649, 81.06731928140606, 69.22924812098725, 203.31143798035643, 464.34375184361227, 165.03274178725164, 168.42138366856923, 114.95399121050389, 101.70695953048993, 240.28845158988975, 158.15913815594863, 92.51078271939303, 177.72581383802344, 599.2902955353311, 162.13165056022044, 288.97780565574686, 204.159030599821, 214.1018191246139, 217.7093260222123, 426.99292923216643, 269.34608535527155, 415.70134152095153, 235.1397527108966, 462.91158491545906, 219.98134392675163, 185.1966722683525, 271.60795392869375, 293.16913368782696, 216.7482757340913, 342.2563612888659, 363.0420926398698, 366.6007296438408, 325.44190763031906, 219.54931826277414, 304.1130759404836, 324.88352155922104, 272.85037034515767, 281.43082724203913, 296.95698259308625, 263.85426006296217, 250.18441984266775, 230.88735583245952, 230.8846147722308, 156.22304911771255, 41.858486480118984, 38.012185365491035, 54.08639860312506, 43.62880833263185, 32.130803380081716, 29.286243082435742, 29.24269314812949, 26.41156656547821, 25.44752728497297, 35.807867384157944, 29.20783069574957, 56.50448461365853, 27.298105197686095, 24.458074739503537, 23.48579086265007, 22.528211652564313, 21.56682391503161, 20.62030097553427, 146.1248540020484, 20.592579512117382, 19.642588504444866, 37.42115095494158, 21.491911334249338, 19.61714350175195, 18.679794208480047, 25.170211667121787, 17.710598989681095, 21.43095469836168, 17.690597007464447, 75.6549493391241, 48.45847988980637, 102.44150582522741, 72.85075366191965, 65.20214569517216, 106.57038813542675, 53.534087106867666, 28.431745129999356, 123.4016904655453, 29.06890888662595, 71.01521077687778, 146.64190199644474, 123.57688272810499, 71.31079290023399, 71.76147441861916, 69.8219298817949, 361.4932841405918, 56.11119067930354, 288.485497967439, 451.5133931075158, 70.1776290338516, 376.6579864009175, 114.42148281143707, 392.68087684595577, 456.75341907085885, 214.03451071173768, 357.799243336896, 287.99352854923126, 390.9295081879876, 147.3984717442774, 128.31531408569248, 476.6675397134068, 332.4812608048325, 96.93398274320138, 194.503274028523, 182.9133710398268, 360.74436607062984, 365.4202452501492, 384.19900923778476, 312.17257671878053, 342.4034673294708, 303.144127717011, 293.52669571606674, 300.2255723474677, 271.8660074683322, 268.92755542812665, 218.17862713172482, 180.6099159349504, 185.06413881705734, 187.7744369812061, 198.8884586949098, 201.73765270094955, 193.79657290826086, 203.97865949668827, 193.33080154249117, 187.78181167526245], \"Total\": [1022.0, 664.0, 801.0, 458.0, 445.0, 424.0, 492.0, 613.0, 743.0, 417.0, 298.0, 334.0, 836.0, 572.0, 614.0, 525.0, 271.0, 256.0, 200.0, 339.0, 211.0, 664.0, 177.0, 296.0, 349.0, 311.0, 450.0, 173.0, 157.0, 548.0, 66.32269443287751, 64.37499550628505, 60.471297704607274, 57.5436174244967, 66.32551548182998, 83.87558580233166, 50.71541403083157, 47.7878990787318, 48.76056919053402, 45.83602925744347, 39.981160788740375, 40.95707655958012, 94.57616848053637, 34.12689708099315, 55.58298259504872, 30.224409187880813, 65.33916936157766, 27.296447096386487, 49.73436653627036, 37.042421719660794, 25.346226750012928, 30.217104224867317, 24.36842263877546, 24.3675049096851, 22.418178729541406, 23.392729229749555, 24.36710687965989, 25.34135103567437, 21.44300912618691, 55.55132862192156, 801.2253673505317, 417.4158864288606, 271.81520895193654, 334.4316778984084, 127.68746711127689, 87.68672523029241, 62.33165312796065, 43.86967631867825, 613.5363894604138, 296.56488608028, 311.7647249601449, 240.45773018809246, 169.00733090470112, 92.52672913674411, 199.9049083996923, 109.91391829651084, 214.67497147103418, 548.6932337694578, 614.9033733145549, 93.53908398434629, 309.53458488842085, 137.3614400275668, 259.8771320354001, 138.58912016237755, 383.4903307989348, 169.1427662149253, 158.22573121989046, 143.0909664079531, 946.2254607857681, 326.8113380377898, 587.2496631231061, 245.38151791040423, 733.0507148316183, 342.6114853627714, 303.87484846335303, 248.97419758569225, 847.2304520303267, 352.82510752381813, 796.1692566006061, 1118.4036423221958, 645.799024943855, 1115.7652449743123, 525.3319162634091, 832.3126274171414, 677.1766176839428, 995.9727301910028, 818.7702475654922, 967.1903145583763, 723.8995924899912, 819.0710925313148, 912.9018359815482, 857.4678589079429, 566.2013704087174, 883.5223667827281, 424.5383034436213, 298.3102259144762, 445.1397959708981, 458.25617178876973, 142.15003176378627, 200.1426879391012, 177.69307676787858, 132.80703463141703, 83.23880479384701, 173.02852912383833, 65.46855112458319, 664.093950247096, 152.46629421857335, 65.47203947258282, 52.37656788612437, 46.769557976507315, 156.22647568060682, 43.02869322894644, 43.02947264097949, 60.804142313878856, 148.7504364004011, 37.41893999701644, 43.96804420668426, 34.612710314907304, 31.80685566531559, 30.87162505408729, 153.44988270865232, 34.620353531640475, 41.16532133419573, 1022.0219714011881, 125.39543210296719, 83.28076554467432, 71.1189869135637, 211.5831195988848, 492.8605000182178, 173.23491237690072, 176.9876888067135, 119.8563590784947, 105.78700752917018, 256.7808815783918, 167.73344696888367, 96.42280703803763, 192.1968376311013, 743.0284880664007, 178.2457599498623, 339.41345505409583, 231.98248454434437, 246.21995437956508, 258.5948698322141, 572.4835785572593, 349.574492185326, 664.1032989102412, 312.44885819453117, 883.5223667827281, 287.56853810000433, 219.0356058956564, 421.40532552447826, 508.7615296770583, 317.9421989604583, 836.8860979645043, 995.9727301910028, 1118.4036423221958, 857.4678589079429, 328.48696421646525, 784.2982524562988, 967.1903145583763, 645.799024943855, 832.3126274171414, 1115.7652449743123, 819.0710925313148, 818.7702475654922, 464.1196999922055, 847.2304520303267, 157.6641119179462, 42.55116136539179, 38.6821954297792, 55.12685770109164, 44.48352822151428, 32.87397560657988, 29.974180582888486, 29.971980757306188, 27.072876419562146, 26.105937780019225, 36.736939568099736, 29.973084601663082, 58.00874514208536, 28.037238429902093, 25.138065008012067, 24.17041415864586, 23.20280435361997, 22.235787207698337, 21.268672991743237, 150.79711667561963, 21.268365152099996, 20.300975503033015, 38.6812326372834, 22.232980089067482, 20.299973520498206, 19.33399814778968, 26.09496058738332, 18.36653968636197, 22.234259506552135, 18.365666474504152, 80.26520955599904, 51.24809757216254, 110.31278103650004, 78.19106242509515, 70.60870329980274, 117.88557558051374, 57.89698327633073, 29.975860173110156, 148.09244194706307, 30.91485640292486, 84.2485283630845, 191.48266356983643, 158.4666829910288, 85.21405252213744, 86.19325337689466, 83.88713095447707, 571.4619298604557, 65.59462760096078, 450.71146851414005, 836.8860979645043, 86.64920893566229, 674.1433227946078, 157.79313961680552, 723.8995924899912, 912.9018359815482, 353.0808461467028, 677.1766176839428, 525.3319162634091, 796.1692566006061, 223.2696153784268, 187.58458446726078, 1115.7652449743123, 700.6867043367365, 129.8657032459728, 339.6595273334144, 341.4580877126732, 946.2254607857681, 967.1903145583763, 1118.4036423221958, 819.0710925313148, 995.9727301910028, 818.7702475654922, 784.2982524562988, 857.4678589079429, 832.3126274171414, 847.2304520303267, 543.5263833165063, 394.5889764133547, 430.3545950786055, 469.12376915992013, 617.9262999535642, 664.1032989102412, 566.2013704087174, 883.5223667827281, 733.0507148316183, 555.4525802876848], \"Category\": [\"Default\", \"Default\", \"Default\", \"Default\", \"Default\", \"Default\", \"Default\", \"Default\", \"Default\", \"Default\", \"Default\", \"Default\", \"Default\", \"Default\", \"Default\", \"Default\", \"Default\", \"Default\", \"Default\", \"Default\", \"Default\", \"Default\", \"Default\", \"Default\", \"Default\", \"Default\", \"Default\", \"Default\", \"Default\", \"Default\", \"Topic1\", \"Topic1\", \"Topic1\", \"Topic1\", \"Topic1\", \"Topic1\", \"Topic1\", \"Topic1\", \"Topic1\", \"Topic1\", \"Topic1\", \"Topic1\", \"Topic1\", \"Topic1\", \"Topic1\", \"Topic1\", \"Topic1\", \"Topic1\", \"Topic1\", \"Topic1\", \"Topic1\", \"Topic1\", \"Topic1\", \"Topic1\", \"Topic1\", \"Topic1\", \"Topic1\", \"Topic1\", \"Topic1\", \"Topic1\", \"Topic1\", \"Topic1\", \"Topic1\", \"Topic1\", \"Topic1\", \"Topic1\", \"Topic1\", \"Topic1\", \"Topic1\", \"Topic1\", \"Topic1\", \"Topic1\", \"Topic1\", \"Topic1\", \"Topic1\", \"Topic1\", \"Topic1\", \"Topic1\", \"Topic1\", \"Topic1\", \"Topic1\", \"Topic1\", \"Topic1\", \"Topic1\", \"Topic1\", \"Topic1\", \"Topic1\", \"Topic1\", \"Topic1\", \"Topic1\", \"Topic1\", \"Topic1\", \"Topic1\", \"Topic1\", \"Topic1\", \"Topic1\", \"Topic1\", \"Topic1\", \"Topic1\", \"Topic1\", \"Topic1\", \"Topic1\", \"Topic1\", \"Topic1\", \"Topic1\", \"Topic1\", \"Topic1\", \"Topic1\", \"Topic1\", \"Topic1\", \"Topic1\", \"Topic1\", \"Topic1\", \"Topic1\", \"Topic2\", \"Topic2\", \"Topic2\", \"Topic2\", \"Topic2\", \"Topic2\", \"Topic2\", \"Topic2\", \"Topic2\", \"Topic2\", \"Topic2\", \"Topic2\", \"Topic2\", \"Topic2\", \"Topic2\", \"Topic2\", \"Topic2\", \"Topic2\", \"Topic2\", \"Topic2\", \"Topic2\", \"Topic2\", \"Topic2\", \"Topic2\", \"Topic2\", \"Topic2\", \"Topic2\", \"Topic2\", \"Topic2\", \"Topic2\", \"Topic2\", \"Topic2\", \"Topic2\", \"Topic2\", \"Topic2\", \"Topic2\", \"Topic2\", \"Topic2\", \"Topic2\", \"Topic2\", \"Topic2\", \"Topic2\", \"Topic2\", \"Topic2\", \"Topic2\", \"Topic2\", \"Topic2\", \"Topic2\", \"Topic2\", \"Topic2\", \"Topic2\", \"Topic2\", \"Topic2\", \"Topic2\", \"Topic2\", \"Topic2\", \"Topic2\", \"Topic2\", \"Topic2\", \"Topic2\", \"Topic2\", \"Topic2\", \"Topic2\", \"Topic2\", \"Topic2\", \"Topic2\", \"Topic2\", \"Topic2\", \"Topic2\", \"Topic2\", \"Topic2\", \"Topic2\", \"Topic2\", \"Topic3\", \"Topic3\", \"Topic3\", \"Topic3\", \"Topic3\", \"Topic3\", \"Topic3\", \"Topic3\", \"Topic3\", \"Topic3\", \"Topic3\", \"Topic3\", \"Topic3\", \"Topic3\", \"Topic3\", \"Topic3\", \"Topic3\", \"Topic3\", \"Topic3\", \"Topic3\", \"Topic3\", \"Topic3\", \"Topic3\", \"Topic3\", \"Topic3\", \"Topic3\", \"Topic3\", \"Topic3\", \"Topic3\", \"Topic3\", \"Topic3\", \"Topic3\", \"Topic3\", \"Topic3\", \"Topic3\", \"Topic3\", \"Topic3\", \"Topic3\", \"Topic3\", \"Topic3\", \"Topic3\", \"Topic3\", \"Topic3\", \"Topic3\", \"Topic3\", \"Topic3\", \"Topic3\", \"Topic3\", \"Topic3\", \"Topic3\", \"Topic3\", \"Topic3\", \"Topic3\", \"Topic3\", \"Topic3\", \"Topic3\", \"Topic3\", \"Topic3\", \"Topic3\", \"Topic3\", \"Topic3\", \"Topic3\", \"Topic3\", \"Topic3\", \"Topic3\", \"Topic3\", \"Topic3\", \"Topic3\", \"Topic3\", \"Topic3\", \"Topic3\", \"Topic3\", \"Topic3\", \"Topic3\", \"Topic3\", \"Topic3\", \"Topic3\", \"Topic3\", \"Topic3\", \"Topic3\", \"Topic3\", \"Topic3\", \"Topic3\", \"Topic3\", \"Topic3\", \"Topic3\"], \"logprob\": [30.0, 29.0, 28.0, 27.0, 26.0, 25.0, 24.0, 23.0, 22.0, 21.0, 20.0, 19.0, 18.0, 17.0, 16.0, 15.0, 14.0, 13.0, 12.0, 11.0, 10.0, 9.0, 8.0, 7.0, 6.0, 5.0, 4.0, 3.0, 2.0, 1.0, -6.7693, -6.7996, -6.8623, -6.912, -6.7702, -6.5359, -7.0391, -7.0996, -7.0803, -7.1422, -7.2809, -7.2584, -6.4223, -7.4429, -6.9553, -7.5655, -6.7965, -7.6704, -7.0705, -7.3658, -7.7453, -7.5705, -7.7871, -7.7877, -7.8718, -7.8293, -7.7887, -7.7497, -7.9173, -6.9654, -4.3053, -4.9542, -5.3964, -5.1956, -6.1539, -6.5273, -6.8643, -7.209, -4.6535, -5.3682, -5.3563, -5.6132, -5.9458, -6.5101, -5.7951, -6.3625, -5.7695, -4.9591, -4.8736, -6.5239, -5.5201, -6.2082, -5.6871, -6.2043, -5.4047, -6.0572, -6.1277, -6.2041, -4.7942, -5.5925, -5.1718, -5.822, -5.0641, -5.5989, -5.6944, -5.834, -5.1013, -5.6414, -5.1672, -5.0448, -5.3645, -5.1166, -5.4879, -5.3205, -5.4053, -5.2801, -5.3704, -5.3282, -5.4297, -5.4586, -5.443, -5.5059, -5.5771, -5.5736, -4.8325, -5.1867, -4.7872, -4.7591, -5.9302, -5.589, -5.708, -6.0, -6.4679, -5.7367, -6.7089, -4.3925, -5.8655, -6.7111, -6.9346, -7.0499, -5.8445, -7.134, -7.1346, -6.789, -5.8948, -7.2761, -7.1149, -7.3552, -7.4401, -7.4722, -5.8686, -7.3607, -7.1876, -3.9757, -6.0751, -6.4833, -6.6412, -5.5639, -4.738, -5.7725, -5.7522, -6.1341, -6.2565, -5.3968, -5.815, -6.3513, -5.6984, -4.4829, -5.7902, -5.2123, -5.5597, -5.5122, -5.4955, -4.8219, -5.2826, -4.8487, -5.4184, -4.7411, -5.4851, -5.6572, -5.2743, -5.1979, -5.4999, -5.0431, -4.9841, -4.9743, -5.0934, -5.487, -5.1612, -5.0952, -5.2697, -5.2387, -5.185, -5.3032, -5.3564, -5.4367, -5.4367, -5.7598, -7.0768, -7.1732, -6.8205, -7.0354, -7.3413, -7.434, -7.4355, -7.5373, -7.5745, -7.2329, -7.4367, -6.7768, -7.5043, -7.6141, -7.6547, -7.6963, -7.7399, -7.7848, -5.8266, -7.7862, -7.8334, -7.1889, -7.7434, -7.8347, -7.8837, -7.5854, -7.9369, -7.7463, -7.9381, -6.4849, -6.9304, -6.1818, -6.5227, -6.6336, -6.1423, -6.8308, -7.4636, -5.9957, -7.4414, -6.5482, -5.8231, -5.9942, -6.5441, -6.5378, -6.5652, -4.9209, -6.7838, -5.1465, -4.6985, -6.5601, -4.8798, -6.0712, -4.8381, -4.687, -5.445, -4.9311, -5.1482, -4.8426, -5.818, -5.9566, -4.6443, -5.0045, -6.2371, -5.5407, -5.6021, -4.9229, -4.9101, -4.8599, -5.0675, -4.9751, -5.0969, -5.1291, -5.1066, -5.2058, -5.2167, -5.4258, -5.6148, -5.5904, -5.5759, -5.5184, -5.5041, -5.5443, -5.4931, -5.5467, -5.5758], \"loglift\": [30.0, 29.0, 28.0, 27.0, 26.0, 25.0, 24.0, 23.0, 22.0, 21.0, 20.0, 19.0, 18.0, 17.0, 16.0, 15.0, 14.0, 13.0, 12.0, 11.0, 10.0, 9.0, 8.0, 7.0, 6.0, 5.0, 4.0, 3.0, 2.0, 1.0, 1.017, 1.0164, 1.0163, 1.0162, 1.016, 1.0156, 1.0155, 1.0144, 1.0135, 1.0135, 1.0115, 1.0098, 1.0091, 1.0078, 1.0076, 1.0066, 1.0047, 1.0037, 1.0036, 1.0029, 1.0028, 1.0018, 1.0004, 0.9998, 0.9991, 0.999, 0.9988, 0.9986, 0.9981, 0.9981, 0.9893, 0.9925, 0.9792, 0.9727, 0.9773, 0.9797, 0.9841, 0.9906, 0.9081, 0.9203, 0.8822, 0.885, 0.905, 0.9432, 0.8879, 0.9186, 0.8422, 0.7141, 0.6857, 0.9184, 0.7256, 0.8499, 0.7334, 0.845, 0.6268, 0.7928, 0.7891, 0.8132, 0.3341, 0.5989, 0.4336, 0.656, 0.3194, 0.5453, 0.5697, 0.6294, 0.1375, 0.4734, 0.1337, -0.0837, 0.1458, -0.1531, 0.2288, -0.064, 0.0575, -0.2031, -0.0974, -0.2218, -0.0336, -0.186, -0.2789, -0.2791, 0.0648, -0.3768, 1.0973, 1.0959, 1.0952, 1.0942, 1.0937, 1.0928, 1.0927, 1.0919, 1.0912, 1.0907, 1.0903, 1.0898, 1.0883, 1.088, 1.0877, 1.0856, 1.085, 1.085, 1.0843, 1.0841, 1.0837, 1.0825, 1.0824, 1.0813, 1.081, 1.0788, 1.0788, 1.0757, 1.0756, 1.0756, 1.0742, 1.0752, 1.0752, 1.0623, 1.0426, 1.0537, 1.0525, 1.0604, 1.0628, 1.0358, 1.0434, 1.0607, 1.0239, 0.8872, 1.0074, 0.9413, 0.9744, 0.9624, 0.9301, 0.8089, 0.8414, 0.6337, 0.8179, 0.4558, 0.8342, 0.9343, 0.6629, 0.5509, 0.719, 0.208, 0.093, -0.0132, 0.1334, 0.6992, 0.1548, 0.0112, 0.2406, 0.0178, -0.2216, -0.0306, -0.0835, 0.4039, -0.1979, 1.1605, 1.1533, 1.1522, 1.1506, 1.1503, 1.1468, 1.1465, 1.145, 1.1449, 1.1441, 1.1441, 1.1438, 1.1434, 1.143, 1.1422, 1.1409, 1.1402, 1.1391, 1.1387, 1.1382, 1.1374, 1.1367, 1.1366, 1.1358, 1.1355, 1.1352, 1.1336, 1.1333, 1.1329, 1.1322, 1.1105, 1.1137, 1.0956, 1.0989, 1.09, 1.0688, 1.0913, 1.1168, 0.9873, 1.1081, 0.9988, 0.9029, 0.921, 0.9916, 0.9864, 0.9861, 0.7117, 1.0135, 0.7235, 0.5526, 0.9588, 0.5876, 0.8483, 0.558, 0.4772, 0.6691, 0.5317, 0.5686, 0.4584, 0.7544, 0.7899, 0.3192, 0.4242, 0.8772, 0.6122, 0.5455, 0.2054, 0.1963, 0.1012, 0.2051, 0.1019, 0.1761, 0.1869, 0.1202, 0.0508, 0.0221, 0.2569, 0.3882, 0.3258, 0.254, 0.036, -0.0218, 0.0975, -0.2962, -0.1631, 0.0852]}, \"token.table\": {\"Topic\": [1, 2, 3, 1, 2, 3, 1, 2, 3, 1, 2, 3, 1, 2, 3, 1, 2, 3, 1, 2, 3, 3, 1, 2, 3, 1, 1, 2, 3, 1, 2, 3, 1, 2, 3, 1, 2, 3, 1, 2, 3, 3, 3, 1, 2, 3, 1, 2, 3, 1, 2, 3, 1, 1, 2, 3, 1, 2, 1, 2, 3, 2, 1, 2, 3, 1, 3, 3, 1, 2, 3, 1, 2, 3, 1, 2, 3, 2, 3, 1, 2, 3, 1, 2, 3, 1, 2, 3, 2, 3, 1, 2, 3, 1, 2, 3, 1, 2, 3, 1, 2, 3, 1, 2, 3, 1, 2, 3, 1, 2, 3, 1, 2, 3, 1, 2, 3, 1, 2, 3, 1, 2, 3, 1, 2, 3, 1, 2, 3, 1, 2, 3, 1, 2, 3, 1, 1, 2, 3, 1, 2, 1, 2, 3, 1, 2, 3, 1, 3, 1, 1, 2, 3, 1, 2, 3, 2, 2, 3, 1, 2, 3, 1, 2, 3, 1, 2, 3, 2, 3, 1, 2, 3, 1, 2, 3, 1, 2, 3, 1, 2, 3, 1, 2, 3, 1, 2, 3, 1, 1, 2, 3, 1, 2, 3, 1, 2, 3, 1, 3, 1, 2, 3, 1, 2, 1, 1, 2, 3, 1, 2, 3, 3, 1, 1, 2, 3, 2, 3, 1, 2, 3, 1, 2, 3, 1, 2, 3, 1, 2, 3, 1, 2, 3, 1, 2, 3, 1, 2, 3, 2, 1, 2, 3, 1, 2, 3, 1, 2, 3, 1, 2, 3, 1, 2, 3, 1, 2, 3, 1, 2, 3, 1, 2, 3, 1, 2, 3, 1, 2, 1, 2, 3, 1, 2, 3, 1, 2, 3, 1, 2, 3, 1, 3, 1, 2, 3, 1, 3, 1, 2, 3, 1, 2, 3, 1, 2, 1, 2, 3, 1, 2, 3, 1, 1, 2, 3, 2, 1, 1, 2, 3, 1, 2, 3, 3, 1, 3, 3, 2, 3, 1, 2, 3, 1, 2, 3, 1, 3, 1, 2, 3, 1, 2, 1, 3, 1, 2, 3, 1, 2, 3, 1, 2, 3, 1, 2, 3, 1, 2, 3, 3, 1, 2, 3, 3, 1, 2, 3, 1, 2, 3, 2, 3, 1, 2, 3, 1, 2, 3, 1, 2, 3, 1, 2, 3, 2, 1, 2, 3, 1, 2, 3, 1, 1, 2, 3, 1, 2, 3, 2, 1, 2, 3, 1, 1, 2, 3, 1, 2, 3, 3, 1, 1, 2, 3, 1, 2, 3, 1, 2, 3, 2, 1, 2, 3, 3, 1, 2, 3, 1, 2, 3, 1, 2, 3, 1, 2, 3, 1, 2, 3, 1, 2, 3, 1, 3, 1, 2, 3, 2, 3, 1, 2, 3, 3, 3, 3, 2, 3, 1, 1, 2, 3, 1, 3, 1, 1, 2, 3, 1, 1, 2, 3, 1, 3, 1, 2, 3, 1, 2, 3, 1, 2, 3, 1, 2, 1, 1, 2, 3, 1, 2, 3, 3, 3, 1, 2, 3, 3, 1, 1, 2, 3, 1, 3], \"Freq\": [0.01144248247346208, 0.769506946340325, 0.21740716699577955, 0.38148971600700743, 0.2772865065421304, 0.34263428196925666, 0.9630682805085621, 0.0047913844801421, 0.03114399912092365, 0.25855398941698726, 0.49771642962770046, 0.243471673367663, 0.5517244544286428, 0.13282255384393254, 0.3150278520657374, 0.31880824625008536, 0.3592661455204007, 0.32204487819171057, 0.8866629744299781, 0.027708217950936816, 0.08638444419997948, 0.9576365427153634, 0.9833344011936713, 0.010573488184878186, 0.010573488184878186, 0.9849182379957567, 0.2970550607840219, 0.365467741449433, 0.3384627359236128, 0.9476262842190385, 0.015663244367256836, 0.039158110918142086, 0.0065167856915123905, 0.9775178537268585, 0.013033571383024781, 0.017238780076187163, 0.017238780076187163, 0.9826104643426683, 0.3350258658777899, 0.02662457212273827, 0.6389897309457184, 0.9603708005409092, 0.9674993423024674, 0.8916068275869204, 0.06368620197049432, 0.04549014426463879, 0.06345592898871669, 0.009065132712673812, 0.9246435366927289, 0.04769472126500855, 0.9419707449839189, 0.005961840158126069, 0.9669792106115391, 0.1525569975283452, 0.011735153656026554, 0.8331959095778854, 0.9835125817639794, 0.9760928545174965, 0.7836904847522805, 0.09480126831680813, 0.12008160653462363, 0.9820812479262085, 0.8650168985513456, 0.03326988071351329, 0.10396837722972904, 0.16242570562666453, 0.8353322003657033, 0.9870470899569836, 0.012789185477022671, 0.06394592738511336, 0.933610539822655, 0.00335221495319002, 0.9922556261442459, 0.00335221495319002, 0.2705657829403165, 0.2289402778725755, 0.5006014688409904, 0.9867748761305147, 0.01644624793550858, 0.01956905092028509, 0.9735602832841831, 0.00684916782209978, 0.0022464852818177977, 0.9929464945634666, 0.0044929705636355954, 0.2183468743592924, 0.7458729228113429, 0.03493549989748678, 0.9927902127933483, 0.015273695581436129, 0.05610231627845084, 0.9088575237109036, 0.033661389767070504, 0.4507910504930599, 0.11850692564508276, 0.4298780636145159, 0.383694052259031, 0.2174266296134509, 0.4007471212483213, 0.7398203986884003, 0.1841474354813922, 0.07753576230795461, 0.9625927917686701, 0.032086426392289, 0.967534719412593, 0.039025838904240225, 0.019512919452120112, 0.9366201337017654, 0.6158579295045651, 0.13718162410765192, 0.2451756686179311, 0.18278417141003997, 0.05222404897429714, 0.7676935199221679, 0.9895608979185536, 0.011922420456850043, 0.9852229600104994, 0.050896812188036586, 0.04241401015669716, 0.9076598173533191, 0.26861621529599466, 0.3293308393012538, 0.40108448585292356, 0.49246251684362885, 0.24418501527703482, 0.2632832846283113, 0.3453517623073625, 0.11189397098758545, 0.5428929703471739, 0.07077212246517153, 0.6264085733087522, 0.30416954761626913, 0.9528532306880496, 0.029431760021252498, 0.01839485001328281, 0.9800149991718782, 0.4082046591294525, 0.10048114686263446, 0.4911016052911259, 0.012013627568015245, 0.9851174605772501, 0.9186534614703558, 0.032423063346012554, 0.05403843891002093, 0.2855800947540726, 0.14131798503294313, 0.5741043141963315, 0.01813997825564793, 0.9795588258049883, 0.9844019624225044, 0.7290047979123911, 0.2205239513684983, 0.049207823859086404, 0.7090544936349917, 0.2829712887442398, 0.008131358871960915, 0.9822981121867416, 0.971691674049251, 0.024292291851231277, 0.03115496742134872, 0.9346490226404616, 0.03115496742134872, 0.2966775438857398, 0.32231634397463094, 0.380919315606382, 0.15682566511250465, 0.7521230877844611, 0.09281518955638031, 0.9919097326288515, 0.007034820798786181, 0.8816185617653312, 0.10058735268463509, 0.017750709297288544, 0.056650240169630404, 0.014162560042407601, 0.920566402756494, 0.007974772152616055, 0.9729222026191586, 0.023924316457848163, 0.003011622074340295, 0.9878120403836168, 0.010540677260191032, 0.3719343737052341, 0.09371574770525584, 0.5359369321894318, 0.9448865669238203, 0.005980294727365952, 0.047842357818927615, 0.990552950112843, 0.1514513937378162, 0.06941522212983242, 0.7824988676453836, 0.8969369351703825, 0.07418275403664817, 0.03034749028771971, 0.3290404162453403, 0.3281462846794562, 0.34334652129948556, 0.9573811234644964, 0.022794788653916584, 0.5725216139454123, 0.2409125603235646, 0.18422725201213763, 0.972073960058097, 0.018001369630705498, 0.9832114831111667, 0.12461735174872184, 0.2690601912756494, 0.6060934835051471, 0.1522822527479716, 0.188113371041612, 0.6583967986456419, 0.985174332977839, 0.9849343263657481, 0.33521058170870427, 0.3376135249467595, 0.32680028037551095, 0.9645021012851516, 0.04148396134559792, 0.006722669352769062, 0.9815097255042831, 0.006722669352769062, 0.32365611816983253, 0.3053359605375779, 0.3700671841715444, 0.8297909667458786, 0.15152704610142131, 0.014431147247754409, 0.44923979049022056, 0.0019035584342805957, 0.5482248290728116, 0.6701603126852914, 0.13298901146673098, 0.19817970336218735, 0.9610279846058959, 0.0199694126671355, 0.01872132437543953, 0.06607120558297164, 0.7650350120133559, 0.1669167298938231, 0.9760751741121952, 0.004996435344689069, 0.9892941982484358, 0.004996435344689069, 0.005627681270364323, 0.9904719035841207, 0.005627681270364323, 0.24082162312177524, 0.038024466808701356, 0.7224648693653257, 0.20648794580036892, 0.16099060181045713, 0.6317131223214676, 0.4134413179444064, 0.4227321340779886, 0.16413775169328496, 0.3203858595665949, 0.5759083242516092, 0.10417454329465968, 0.06187284384404606, 0.8430174973751275, 0.09667631850632197, 0.24640839883175494, 0.007700262463492342, 0.7469254589587572, 0.00634259748674089, 0.00634259748674089, 0.9894452079315789, 0.9718587049316078, 0.026996075136989105, 0.8980203399688771, 0.010690718332962822, 0.0962164649966654, 0.009452549918876145, 0.9594338167659286, 0.028357649756628432, 0.8291604688719724, 0.08384768786345788, 0.08384768786345788, 0.2384297037693829, 0.38760764676947806, 0.3748573952310084, 0.8372072976005557, 0.160161396062715, 0.006631426528871269, 0.019894279586613807, 0.9681882732152052, 0.9766322052261746, 0.9444883916107746, 0.06098060384355946, 0.09147090576533919, 0.8537284538098324, 0.9465514852107474, 0.02280846952315054, 0.02280846952315054, 0.9848811453971904, 0.9888040656135678, 0.006400963701213002, 0.9857484099868022, 0.006400963701213002, 0.8704138452273633, 0.1250594605211729, 0.010004756841693831, 0.9817604345099831, 0.014060942701776331, 0.9702050464225669, 0.014060942701776331, 0.9779830050630932, 0.9922062578033386, 0.16040651466445555, 0.6825139937683696, 0.1572612888867211, 0.005650110506228996, 0.9492185650464714, 0.04520088404983197, 0.9547274220331063, 0.9865298801475173, 0.9827248277755802, 0.9873676654933977, 0.06908822832631537, 0.9326910824052576, 0.0795489972420119, 0.8514688964052385, 0.07071021977067725, 0.059603898036676733, 0.10728701646601813, 0.8344545725134742, 0.9597213480216382, 0.9823640974303641, 0.0065588266910089335, 0.98382400365134, 0.0065588266910089335, 0.9858935583095774, 0.9746326492060187, 0.02585233023407163, 0.9565362186606503, 0.0057793937512136484, 0.9882763314575339, 0.0057793937512136484, 0.14855585950742908, 0.020257617205558513, 0.830562305427899, 0.051380946707784605, 0.40865776218749617, 0.5400973933004335, 0.012007574539688516, 0.9726135377147698, 0.012007574539688516, 0.03737609378453033, 0.012458697928176776, 0.946861042541435, 0.9893960485636999, 0.6517521738348331, 0.08873621146108056, 0.2600888956617879, 0.9445427430723168, 0.04108920996291076, 0.8446115381264989, 0.11413669434141878, 0.15130313770248005, 0.29073936264398126, 0.5592282638611272, 0.9928103749191224, 0.9800430732940868, 0.002355500061804906, 0.9940210260816704, 0.002355500061804906, 0.23976478925631567, 0.28543427292418533, 0.47382089305414765, 0.01890591336982957, 0.9642015818613081, 0.01890591336982957, 0.004364371116253918, 0.9928944289477662, 0.004364371116253918, 0.9835457504880873, 0.8036845573614647, 0.020965684105081688, 0.17471403420901407, 0.2921766742992988, 0.36446781020840363, 0.343382895568248, 0.9793401605353097, 0.8628301358801518, 0.009622640920596488, 0.12830187894128653, 0.7426586498334521, 0.007695944557859607, 0.25011819813043723, 0.9928431114400018, 0.6707522370567004, 0.012049441384252102, 0.317301956451972, 0.9754594221532285, 0.005772508475799251, 0.9524638985068764, 0.046180067806394005, 0.04162399391479603, 0.9261338646042115, 0.03642099467544652, 0.9630049716738199, 0.9941748266802064, 0.9715203733023544, 0.017991118024117674, 0.017991118024117674, 0.0324635469862336, 0.9414428626007744, 0.0243476602396752, 0.49882403249648344, 0.11942185523750558, 0.381515838413624, 0.9717661427747909, 0.032346907485728764, 0.032346907485728764, 0.9380603170861342, 0.9800896703089004, 0.6887234272538273, 0.09373159069134927, 0.2159901872452831, 0.09966651453141244, 0.6454593322034329, 0.25628532308077484, 0.2863965817590714, 0.3360248702949394, 0.3773817774081627, 0.15525730258931125, 0.6697373837185975, 0.176567128434903, 0.6318390645718577, 0.3290828461311759, 0.039489941535741105, 0.08882566558350037, 0.8061602073411624, 0.10497578659868226, 0.15430536595219935, 0.8427446909697041, 0.12261135458076088, 0.19191342456119093, 0.6823588428842344, 0.03832157541113479, 0.9580393852783697, 0.24560781725332786, 0.5240387990243816, 0.23089398488331284, 0.987381956714548, 0.9891301737778879, 0.9515765782512586, 0.027220558156356142, 0.9799400936288212, 0.9951344794472411, 0.4095697919833258, 0.27265308918774717, 0.31750511251733327, 0.9651274026983833, 0.020106820889549654, 0.9925752332664026, 0.046163145043482526, 0.1500302213913182, 0.8078550382609442, 0.9813464450173932, 0.31678533226193145, 0.22555115657049518, 0.4587051611152767, 0.03336017696323023, 0.9340849549704464, 0.30651608977825234, 0.26618502533374544, 0.427509283111773, 0.37804022365031265, 0.09303333628894413, 0.528665625260984, 0.06897072436924236, 0.87937673570784, 0.051728043276931764, 0.007529721620359397, 0.986393532267081, 0.9863401068163824, 0.09747382197546159, 0.8691415792811992, 0.03249127399182053, 0.792230155617354, 0.05320948806385214, 0.1596284641915564, 0.9675703529514228, 0.973414362259095, 0.03337328140745852, 0.9594818404644325, 0.00834332035186463, 0.9912594895630221, 0.9891397186110081, 0.27056407723021997, 0.37902295301647193, 0.3498673412459741, 0.979504340586779, 0.015304755321668423], \"Term\": [\"abus\", \"abus\", \"abus\", \"act\", \"act\", \"act\", \"african\", \"african\", \"african\", \"agreement\", \"agreement\", \"agreement\", \"alleg\", \"alleg\", \"alleg\", \"also\", \"also\", \"also\", \"american\", \"american\", \"american\", \"amish\", \"anderson\", \"anderson\", \"anderson\", \"anim\", \"announc\", \"announc\", \"announc\", \"apart\", \"apart\", \"apart\", \"apprehend\", \"apprehend\", \"apprehend\", \"arreste\", \"arreste\", \"arreste\", \"assault\", \"assault\", \"assault\", \"barn\", \"barrett\", \"basi\", \"basi\", \"basi\", \"beat\", \"beat\", \"beat\", \"better\", \"better\", \"better\", \"blalack\", \"bodili\", \"bodili\", \"bodili\", \"borrow\", \"breuer\", \"build\", \"build\", \"build\", \"bulletin\", \"burn\", \"burn\", \"burn\", \"byrd\", \"byrd\", \"carrol\", \"cell\", \"cell\", \"cell\", \"ceo\", \"ceo\", \"ceo\", \"charg\", \"charg\", \"charg\", \"chat\", \"chat\", \"child\", \"child\", \"child\", \"childhood\", \"childhood\", \"childhood\", \"children\", \"children\", \"children\", \"citizenship\", \"citizenship\", \"combat\", \"combat\", \"combat\", \"commit\", \"commit\", \"commit\", \"communiti\", \"communiti\", \"communiti\", \"complaint\", \"complaint\", \"complaint\", \"complex\", \"complex\", \"conceal\", \"confin\", \"confin\", \"confin\", \"conspir\", \"conspir\", \"conspir\", \"constitut\", \"constitut\", \"constitut\", \"construct\", \"construct\", \"corder\", \"correct\", \"correct\", \"correct\", \"count\", \"count\", \"count\", \"court\", \"court\", \"court\", \"crime\", \"crime\", \"crime\", \"crimin\", \"crimin\", \"crimin\", \"cross\", \"cross\", \"cross\", \"dedmon\", \"defend\", \"defend\", \"defend\", \"delawar\", \"delawar\", \"deni\", \"deni\", \"deni\", \"deputi\", \"deputi\", \"deputi\", \"detaine\", \"detaine\", \"dinkl\", \"disabl\", \"disabl\", \"disabl\", \"discrimin\", \"discrimin\", \"discrimin\", \"documentari\", \"eeoc\", \"eeoc\", \"employ\", \"employ\", \"employ\", \"enforc\", \"enforc\", \"enforc\", \"engag\", \"engag\", \"engag\", \"epidem\", \"epidem\", \"equal\", \"equal\", \"equal\", \"excess\", \"excess\", \"excess\", \"explicit\", \"explicit\", \"explicit\", \"exploit\", \"exploit\", \"exploit\", \"face\", \"face\", \"face\", \"fair\", \"fair\", \"fair\", \"fairhous\", \"fals\", \"fals\", \"fals\", \"famili\", \"famili\", \"famili\", \"feder\", \"feder\", \"feder\", \"ferguson\", \"ferguson\", \"file\", \"file\", \"file\", \"financi\", \"financi\", \"flanagan\", \"forc\", \"forc\", \"forc\", \"former\", \"former\", \"former\", \"garrett\", \"gasolin\", \"general\", \"general\", \"general\", \"girl\", \"girl\", \"grow\", \"grow\", \"grow\", \"guilti\", \"guilti\", \"guilti\", \"harass\", \"harass\", \"harass\", \"hate\", \"hate\", \"hate\", \"home\", \"home\", \"home\", \"hous\", \"hous\", \"hous\", \"identifi\", \"identifi\", \"identifi\", \"illicit\", \"imag\", \"imag\", \"imag\", \"immigr\", \"immigr\", \"immigr\", \"incid\", \"incid\", \"incid\", \"indict\", \"indict\", \"indict\", \"individu\", \"individu\", \"individu\", \"inform\", \"inform\", \"inform\", \"initi\", \"initi\", \"initi\", \"injuri\", \"injuri\", \"injuri\", \"inmat\", \"inmat\", \"inmat\", \"interf\", \"interf\", \"interfer\", \"interfer\", \"interfer\", \"internet\", \"internet\", \"internet\", \"intimid\", \"intimid\", \"intimid\", \"investig\", \"investig\", \"investig\", \"jackson\", \"jackson\", \"jail\", \"jail\", \"jail\", \"jeep\", \"jenkin\", \"kentucki\", \"kentucki\", \"kentucki\", \"land\", \"land\", \"land\", \"landlord\", \"lanni\", \"launch\", \"launch\", \"launch\", \"lawsuit\", \"lawsuit\", \"lawsuit\", \"lend\", \"lesli\", \"lesli\", \"lesli\", \"lifetim\", \"loan\", \"local\", \"local\", \"local\", \"marshal\", \"marshal\", \"marshal\", \"marsher\", \"mathi\", \"maybe\", \"mcgee\", \"miller\", \"miller\", \"minor\", \"minor\", \"minor\", \"missouri\", \"missouri\", \"missouri\", \"monetari\", \"mullet\", \"nationwid\", \"nationwid\", \"nationwid\", \"noos\", \"nvra\", \"oath\", \"oath\", \"obscen\", \"obscen\", \"obscen\", \"obstruct\", \"obstruct\", \"obstruct\", \"offic\", \"offic\", \"offic\", \"onlin\", \"onlin\", \"onlin\", \"orient\", \"orient\", \"orient\", \"pennington\", \"person\", \"person\", \"person\", \"phears\", \"pleas\", \"pleas\", \"pleas\", \"polic\", \"polic\", \"polic\", \"poll\", \"popejoy\", \"pornographi\", \"pornographi\", \"pornographi\", \"prison\", \"prison\", \"prison\", \"produc\", \"produc\", \"produc\", \"project\", \"project\", \"project\", \"projectsafechildhood\", \"properti\", \"properti\", \"properti\", \"prosecut\", \"prosecut\", \"prosecut\", \"raccoon\", \"race\", \"race\", \"race\", \"racial\", \"racial\", \"racial\", \"registr\", \"religi\", \"religi\", \"religi\", \"rental\", \"rescu\", \"rescu\", \"rescu\", \"resourc\", \"resourc\", \"resourc\", \"restrain\", \"rice\", \"rluipa\", \"rluipa\", \"rluipa\", \"safe\", \"safe\", \"safe\", \"said\", \"said\", \"said\", \"salamoni\", \"savoy\", \"savoy\", \"savoy\", \"schlesselman\", \"school\", \"school\", \"school\", \"section\", \"section\", \"section\", \"sentenc\", \"sentenc\", \"sentenc\", \"servic\", \"servic\", \"servic\", \"settlement\", \"settlement\", \"settlement\", \"sexual\", \"sexual\", \"sexual\", \"shepard\", \"shepard\", \"sheriff\", \"sheriff\", \"sheriff\", \"solitari\", \"solitari\", \"state\", \"state\", \"state\", \"sturdiv\", \"synagogu\", \"tase\", \"taser\", \"taser\", \"tenant\", \"today\", \"today\", \"today\", \"township\", \"township\", \"toyota\", \"trust\", \"trust\", \"trust\", \"tyler\", \"use\", \"use\", \"use\", \"vandal\", \"vandal\", \"victim\", \"victim\", \"victim\", \"violat\", \"violat\", \"violat\", \"visit\", \"visit\", \"visit\", \"voter\", \"voter\", \"walden\", \"websit\", \"websit\", \"websit\", \"white\", \"white\", \"white\", \"wilhelm\", \"witthar\", \"worker\", \"worker\", \"worker\", \"worrel\", \"yard\", \"year\", \"year\", \"year\", \"zone\", \"zone\"]}, \"R\": 30, \"lambda.step\": 0.01, \"plot.opts\": {\"xlab\": \"PC1\", \"ylab\": \"PC2\"}, \"topic.order\": [3, 2, 1]};\n",
       "\n",
       "function LDAvis_load_lib(url, callback){\n",
       "  var s = document.createElement('script');\n",
       "  s.src = url;\n",
       "  s.async = true;\n",
       "  s.onreadystatechange = s.onload = callback;\n",
       "  s.onerror = function(){console.warn(\"failed to load library \" + url);};\n",
       "  document.getElementsByTagName(\"head\")[0].appendChild(s);\n",
       "}\n",
       "\n",
       "if(typeof(LDAvis) !== \"undefined\"){\n",
       "   // already loaded: just create the visualization\n",
       "   !function(LDAvis){\n",
       "       new LDAvis(\"#\" + \"ldavis_el2284421631293305768952664807\", ldavis_el2284421631293305768952664807_data);\n",
       "   }(LDAvis);\n",
       "}else if(typeof define === \"function\" && define.amd){\n",
       "   // require.js is available: use it to load d3/LDAvis\n",
       "   require.config({paths: {d3: \"https://d3js.org/d3.v5\"}});\n",
       "   require([\"d3\"], function(d3){\n",
       "      window.d3 = d3;\n",
       "      LDAvis_load_lib(\"https://cdn.jsdelivr.net/gh/bmabey/pyLDAvis@3.4.0/pyLDAvis/js/ldavis.v3.0.0.js\", function(){\n",
       "        new LDAvis(\"#\" + \"ldavis_el2284421631293305768952664807\", ldavis_el2284421631293305768952664807_data);\n",
       "      });\n",
       "    });\n",
       "}else{\n",
       "    // require.js not available: dynamically load d3 & LDAvis\n",
       "    LDAvis_load_lib(\"https://d3js.org/d3.v5.js\", function(){\n",
       "         LDAvis_load_lib(\"https://cdn.jsdelivr.net/gh/bmabey/pyLDAvis@3.4.0/pyLDAvis/js/ldavis.v3.0.0.js\", function(){\n",
       "                 new LDAvis(\"#\" + \"ldavis_el2284421631293305768952664807\", ldavis_el2284421631293305768952664807_data);\n",
       "            })\n",
       "         });\n",
       "}\n",
       "</script>"
      ],
      "text/plain": [
       "<IPython.core.display.HTML object>"
      ]
     },
     "execution_count": 71,
     "metadata": {},
     "output_type": "execute_result"
    }
   ],
   "source": [
    "lda_display = gensimvis.prepare(ldamodel, corpus_fromdict, text_raw_dict)\n",
    "pyLDAvis.display(lda_display)"
   ]
  },
  {
   "cell_type": "markdown",
   "metadata": {},
   "source": [
    "## 2.4 Add topics back to main data and explore correlation between manual labels and our estimated topics (10 points)\n",
    "\n",
    "A. Extract the document-level topic probabilities. Within `get_document_topics`, use the argument `minimum_probability` = 0 to make sure all 3 topic probabilities are returned. Write an assert statement to make sure the length of the list is equal to the number of rows in the `doj_subset_wscores` dataframe\n",
    "\n",
    "B. Add the topic probabilities to the `doj_subset_wscores` dataframe as columns and create a column, `top_topic`, that reflects each document to its highest-probability topic (eg topic 1, 2, or 3)\n",
    "\n",
    "C. For each of the manual labels in `topics_clean` (Hate Crime, Civil Rights, Project Safe Childhood), print the breakdown of the % of documents with each top topic (so, for instance, Hate Crime has 246 documents-- if 123 of those documents are coded to topic_1, that would be 50%; and so on). **Hint**: pd.crosstab and normalize may be helpful: https://pandas.pydata.org/pandas-docs/version/0.23/generated/pandas.crosstab.html\n",
    "\n",
    "D. Using a couple press releases as examples, write a 1-2 sentence interpretation of why some of the manual topics map on more cleanly to an estimated topic than other manual topic(s)\n",
    "\n",
    "*Press releases with specific, consistent terminology align more accurately, while those discussing overlapping themes, like \"victim and charge,\" tend to have less precise mappings since they can be associated with more than one topic*"
   ]
  },
  {
   "cell_type": "code",
   "execution_count": 72,
   "metadata": {},
   "outputs": [
    {
     "data": {
      "text/plain": [
       "True"
      ]
     },
     "execution_count": 72,
     "metadata": {},
     "output_type": "execute_result"
    }
   ],
   "source": [
    "## your code here to get doc-level topic probabilities \n",
    "topic_probs = [ldamodel.get_document_topics(item, minimum_probability=0) for item in corpus_fromdict]\n",
    "len(topic_probs) == len(doj_subset_wscore)"
   ]
  },
  {
   "cell_type": "code",
   "execution_count": 73,
   "metadata": {},
   "outputs": [],
   "source": [
    "## your code here to add those topic probabilities to the dataframe\n",
    "topic_df = pd.DataFrame([[prob for prob, prob in doc] for doc in topic_probs])\n",
    "\n",
    "topic_df = topic_df.rename(columns = {0: \"Topic 1\", 1: \"Topic 2\", 2: \"Topic 3\"})\n",
    "\n",
    "\n",
    "doj_subset_wscore = pd.concat([doj_subset_wscore.reset_index(drop=True), topic_df.reset_index(drop=True)], axis=1)\n",
    "doj_subset_wscore[\"top_topic\"] = topic_df.idxmax(axis=1)\n"
   ]
  },
  {
   "cell_type": "code",
   "execution_count": 74,
   "metadata": {},
   "outputs": [
    {
     "name": "stdout",
     "output_type": "stream",
     "text": [
      "top_topic                 Topic 1    Topic 2    Topic 3\n",
      "topics_clean                                           \n",
      "Civil Rights            43.606557  19.344262  37.049180\n",
      "Hate Crimes             39.837398   0.406504  59.756098\n",
      "Project Safe Childhood   0.602410  99.397590   0.000000\n"
     ]
    }
   ],
   "source": [
    "## your code here to summarize the topic proportions for each of the topics_clean \n",
    "\n",
    "topic_distribution = pd.crosstab(index = doj_subset_wscore[\"topics_clean\"], columns = doj_subset_wscore[\"top_topic\"], normalize = \"index\")\n",
    "\n",
    "# multiply everything by 100 to get percentages\n",
    "topic_distribution = topic_distribution.mul(100)\n",
    "\n",
    "print(topic_distribution)\n",
    "\n"
   ]
  },
  {
   "cell_type": "markdown",
   "metadata": {},
   "source": [
    "# 3. Extend the analysis from unigrams to bigrams (10 points)\n",
    "\n",
    "In the previous question, you found top words via a unigram representation of the text. Now, we want to see how those top words change with bigrams (pairs of words)\n",
    "\n",
    "A. Using the `doj_subset_wscore` data and the `processed_text` column (so the words after stemming/other preprocessing), create a column in the data called `processed_text_bigrams` that combines each consecutive pairs of word into a bigram separated by an underscore. Eg:\n",
    "\n",
    "\"depart reach settlem\" would become \"depart_reach reach_settlem\"\n",
    "\n",
    "Do this by writing a function `create_bigram_onedoc` that takes in a single `processed_text` string and returns a string with its bigrams structured similarly to above example\n",
    " \n",
    "**Hint**: there are many ways to solve but `zip` may be helpful: https://stackoverflow.com/questions/21303224/iterate-over-all-pairs-of-consecutive-items-in-a-list\n",
    "\n",
    "B. Print the `id`, `processed_text`, and `processed_text_bigram` columns for press release with id = 16-217"
   ]
  },
  {
   "cell_type": "code",
   "execution_count": 75,
   "metadata": {},
   "outputs": [
    {
     "data": {
      "text/html": [
       "<div>\n",
       "<style scoped>\n",
       "    .dataframe tbody tr th:only-of-type {\n",
       "        vertical-align: middle;\n",
       "    }\n",
       "\n",
       "    .dataframe tbody tr th {\n",
       "        vertical-align: top;\n",
       "    }\n",
       "\n",
       "    .dataframe thead th {\n",
       "        text-align: right;\n",
       "    }\n",
       "</style>\n",
       "<table border=\"1\" class=\"dataframe\">\n",
       "  <thead>\n",
       "    <tr style=\"text-align: right;\">\n",
       "      <th></th>\n",
       "      <th>id</th>\n",
       "      <th>processed_text</th>\n",
       "      <th>processed_text_bigrams</th>\n",
       "    </tr>\n",
       "  </thead>\n",
       "  <tbody>\n",
       "    <tr>\n",
       "      <th>688</th>\n",
       "      <td>16-217</td>\n",
       "      <td>reach comprehens settlement agreement citi miami miami polic resolv offic involv shoot offic announc princip deputi general vanita gupta head wifredo ferrer southern florida settlement approv miami citi commiss today effect agreement sign parti resolv claim stem offic involv shoot offic conduct violent crime control enforc find issu juli identifi pattern practic excess forc offic involv shoot violat fourth amend constitut citi complianc settlement monitor independ review former tampa florida polic chief jane castor settlement agreement citi implement comprehens reform ensur constitut polic support public trust settlement agreement design minim offic involv shoot effect quick investig offic involv shoot occur measur includ settlement repres renew commit citi miami chief rodolfo llane provid constitut polic miami resid protect public safeti sustain reform said princip deputi general gupta agreement help strengthen relationship communiti serv improv account offic fire weapon unlaw provid communiti particip enforc agreement today agreement result joint effort citi miami ensur miami polic continu effort make communiti safe protect sacr constitut citizen said ferrer oversight communic agreement seek make perman posit chang former chief orosa chief llane made applaud citi commiss vote settlement agreement build upon import reform implement citi sinc issu find includ conduct attorney staff special litig section southern florida</td>\n",
       "      <td>reach_comprehens comprehens_settlement settlement_agreement agreement_citi citi_miami miami_miami miami_polic polic_resolv resolv_offic offic_involv involv_shoot shoot_offic offic_announc announc_princip princip_deputi deputi_general general_vanita vanita_gupta gupta_head head_wifredo wifredo_ferrer ferrer_southern southern_florida florida_settlement settlement_approv approv_miami miami_citi citi_commiss commiss_today today_effect effect_agreement agreement_sign sign_parti parti_resolv resolv_claim claim_stem stem_offic offic_involv involv_shoot shoot_offic offic_conduct conduct_violent violent_crime crime_control control_enforc enforc_find find_issu issu_juli juli_identifi identifi_pattern pattern_practic practic_excess excess_forc forc_offic offic_involv involv_shoot shoot_violat violat_fourth fourth_amend amend_constitut constitut_citi citi_complianc complianc_settlement settlement_monitor monitor_independ independ_review review_former former_tampa tampa_florida florida_polic polic_chief chief_jane jane_castor castor_settlement settlement_agreement agreement_citi citi_implement implement_comprehens comprehens_reform reform_ensur ensur_constitut constitut_polic polic_support support_public public_trust trust_settlement settlement_agreement agreement_design design_minim minim_offic offic_involv involv_shoot shoot_effect effect_quick quick_investig investig_offic offic_involv involv_shoot shoot_occur occur_measur measur_includ includ_settlement settlement_repres repres_renew renew_commit commit_citi citi_miami miami_chief chief_rodolfo rodolfo_llane llane_provid provid_constitut constitut_polic polic_miami miami_resid resid_protect protect_public public_safeti safeti_sustain sustain_reform reform_said said_princip princip_deputi deputi_general general_gupta gupta_agreement agreement_help help_strengthen strengthen_relationship relationship_communiti communiti_serv serv_improv improv_account account_offic offic_fire fire_weapon weapon_unlaw unlaw_provid provid_communiti communiti_particip particip_enforc enforc_agreement agreement_today today_agreement agreement_result result_joint joint_effort effort_citi citi_miami miami_ensur ensur_miami miami_polic polic_continu continu_effort effort_make make_communiti communiti_safe safe_protect protect_sacr sacr_constitut constitut_citizen citizen_said said_ferrer ferrer_oversight oversight_communic communic_agreement agreement_seek seek_make make_perman perman_posit posit_chang chang_former former_chief chief_orosa orosa_chief chief_llane llane_made made_applaud applaud_citi citi_commiss commiss_vote vote_settlement settlement_agreement agreement_build build_upon upon_import import_reform reform_implement implement_citi citi_sinc sinc_issu issu_find find_includ includ_conduct conduct_attorney attorney_staff staff_special special_litig litig_section section_southern southern_florida</td>\n",
       "    </tr>\n",
       "  </tbody>\n",
       "</table>\n",
       "</div>"
      ],
      "text/plain": [
       "         id  \\\n",
       "688  16-217   \n",
       "\n",
       "                                                                                                                                                                                                                                                                                                                                                                                                                                                                                                                                                                                                                                                                                                                                                                                                                                                                                                                                                                                                                                                                                                                                                                                                                                                                                                                                                                                                                                                                                          processed_text  \\\n",
       "688  reach comprehens settlement agreement citi miami miami polic resolv offic involv shoot offic announc princip deputi general vanita gupta head wifredo ferrer southern florida settlement approv miami citi commiss today effect agreement sign parti resolv claim stem offic involv shoot offic conduct violent crime control enforc find issu juli identifi pattern practic excess forc offic involv shoot violat fourth amend constitut citi complianc settlement monitor independ review former tampa florida polic chief jane castor settlement agreement citi implement comprehens reform ensur constitut polic support public trust settlement agreement design minim offic involv shoot effect quick investig offic involv shoot occur measur includ settlement repres renew commit citi miami chief rodolfo llane provid constitut polic miami resid protect public safeti sustain reform said princip deputi general gupta agreement help strengthen relationship communiti serv improv account offic fire weapon unlaw provid communiti particip enforc agreement today agreement result joint effort citi miami ensur miami polic continu effort make communiti safe protect sacr constitut citizen said ferrer oversight communic agreement seek make perman posit chang former chief orosa chief llane made applaud citi commiss vote settlement agreement build upon import reform implement citi sinc issu find includ conduct attorney staff special litig section southern florida   \n",
       "\n",
       "                                                                                                                                                                                                                                                                                                                                                                                                                                                                                                                                                                                                                                                                                                                                                                                                                                                                                                                                                                                                                                                                                                                                                                                                                                                                                                                                                                                                                                                                                                                                                                                                                                                                                                                                                                                                                                                                                                                                                                                                                                                                                                                                                                                                                                                                                                                                                                                                                                                                                                                                                                                                                                                                                                                                                                                                                                                                                                                                                                        processed_text_bigrams  \n",
       "688  reach_comprehens comprehens_settlement settlement_agreement agreement_citi citi_miami miami_miami miami_polic polic_resolv resolv_offic offic_involv involv_shoot shoot_offic offic_announc announc_princip princip_deputi deputi_general general_vanita vanita_gupta gupta_head head_wifredo wifredo_ferrer ferrer_southern southern_florida florida_settlement settlement_approv approv_miami miami_citi citi_commiss commiss_today today_effect effect_agreement agreement_sign sign_parti parti_resolv resolv_claim claim_stem stem_offic offic_involv involv_shoot shoot_offic offic_conduct conduct_violent violent_crime crime_control control_enforc enforc_find find_issu issu_juli juli_identifi identifi_pattern pattern_practic practic_excess excess_forc forc_offic offic_involv involv_shoot shoot_violat violat_fourth fourth_amend amend_constitut constitut_citi citi_complianc complianc_settlement settlement_monitor monitor_independ independ_review review_former former_tampa tampa_florida florida_polic polic_chief chief_jane jane_castor castor_settlement settlement_agreement agreement_citi citi_implement implement_comprehens comprehens_reform reform_ensur ensur_constitut constitut_polic polic_support support_public public_trust trust_settlement settlement_agreement agreement_design design_minim minim_offic offic_involv involv_shoot shoot_effect effect_quick quick_investig investig_offic offic_involv involv_shoot shoot_occur occur_measur measur_includ includ_settlement settlement_repres repres_renew renew_commit commit_citi citi_miami miami_chief chief_rodolfo rodolfo_llane llane_provid provid_constitut constitut_polic polic_miami miami_resid resid_protect protect_public public_safeti safeti_sustain sustain_reform reform_said said_princip princip_deputi deputi_general general_gupta gupta_agreement agreement_help help_strengthen strengthen_relationship relationship_communiti communiti_serv serv_improv improv_account account_offic offic_fire fire_weapon weapon_unlaw unlaw_provid provid_communiti communiti_particip particip_enforc enforc_agreement agreement_today today_agreement agreement_result result_joint joint_effort effort_citi citi_miami miami_ensur ensur_miami miami_polic polic_continu continu_effort effort_make make_communiti communiti_safe safe_protect protect_sacr sacr_constitut constitut_citizen citizen_said said_ferrer ferrer_oversight oversight_communic communic_agreement agreement_seek seek_make make_perman perman_posit posit_chang chang_former former_chief chief_orosa orosa_chief chief_llane llane_made made_applaud applaud_citi citi_commiss commiss_vote vote_settlement settlement_agreement agreement_build build_upon upon_import import_reform reform_implement implement_citi citi_sinc sinc_issu issu_find find_includ includ_conduct conduct_attorney attorney_staff staff_special special_litig litig_section section_southern southern_florida  "
      ]
     },
     "execution_count": 75,
     "metadata": {},
     "output_type": "execute_result"
    }
   ],
   "source": [
    "# Function to create bigrams\n",
    "def create_bigram_onedoc(text):\n",
    "    # Turns my string into a list of individual words\n",
    "    textList = text.split()\n",
    "    # using list comprehension we loop through each word in our list and combine it with the word that comes after it\n",
    "    bigramsList = ['_'.join([textList[i], textList[i+1]]) for i in range(len(textList) - 1)]\n",
    "    return ' '.join(bigramsList)\n",
    "\n",
    "doj_subset_wscore['processed_text_bigrams'] = doj_subset_wscore['processed_text'].apply(create_bigram_onedoc)\n",
    "\n",
    "# Print the id, processed_text, and processed_text_bigram columns for press release with id = 16-217\n",
    "doj_subset_wscore[doj_subset_wscore[\"id\"] == \"16-217\"][[\"id\", \"processed_text\", \"processed_text_bigrams\"]]"
   ]
  },
  {
   "cell_type": "markdown",
   "metadata": {},
   "source": [
    "C. Use the create_dtm function and the `processed_text_bigrams` column to create a document-term matrix (`dtm_bigram`) with these bigrams. Keep the following three columns in the data: `id`, `topics_clean`, and `compound` \n",
    "\n",
    "D. Print the (1) dimensions of the `dtm` matrix from question 2.2  and (2) the dimensions of the `dtm_bigram` matrix. Comment on why the bigram matrix has more dimensions than the unigram matrix "
   ]
  },
  {
   "cell_type": "markdown",
   "metadata": {},
   "source": [
    "E. Find and print the 10 most prevelant bigrams for each of the three topics_clean using the `get_topwords` function from 2.2"
   ]
  },
  {
   "cell_type": "code",
   "execution_count": 76,
   "metadata": {},
   "outputs": [
    {
     "data": {
      "text/plain": [
       "(717, 6870)"
      ]
     },
     "execution_count": 76,
     "metadata": {},
     "output_type": "execute_result"
    },
    {
     "data": {
      "text/plain": [
       "(717, 72721)"
      ]
     },
     "execution_count": 76,
     "metadata": {},
     "output_type": "execute_result"
    },
    {
     "name": "stdout",
     "output_type": "stream",
     "text": [
      "One of the reasons the bigram matrix has more dimensions is that the number of words in the string \n",
      "increases after we have bigrams. Now since we have more words there are more possible combinations in our matrix\n",
      "\n",
      "For Hate Crimes\n",
      "Top ten words are: \n",
      "hate_crime          379\n",
      "african_american    367\n",
      "plead_guilti        275\n",
      "year_prison         161\n",
      "special_agent       124\n",
      "racial_motiv        114\n",
      "thoma_perez         111\n",
      "grand_juri          101\n",
      "perez_general        95\n",
      "said_thoma           91\n",
      "dtype: int64\n",
      "\n",
      "For Civil Rights\n",
      "Top ten words are: \n",
      "fair_hous         231\n",
      "deputi_general    221\n",
      "princip_deputi    221\n",
      "vanita_gupta      202\n",
      "gupta_head        200\n",
      "general_vanita    199\n",
      "said_princip      186\n",
      "unit_state        156\n",
      "nation_origin     143\n",
      "consent_decre     128\n",
      "dtype: int64\n",
      "\n",
      "For Project Safe Childhood\n",
      "Top ten words are: \n",
      "safe_childhood       474\n",
      "project_safe         472\n",
      "child_pornographi    450\n",
      "child_exploit        281\n",
      "sexual_exploit       223\n",
      "exploit_children     200\n",
      "plead_guilti         197\n",
      "exploit_obscen       176\n",
      "obscen_section       175\n",
      "child_sexual         174\n",
      "dtype: int64\n"
     ]
    }
   ],
   "source": [
    "# Creates a dtm with our new processed text bigrams and keep the ID, topicsClean and compound metadata\n",
    "dtm_bigram = create_dtm(list_of_strings= doj_subset_wscore.processed_text_bigrams,\n",
    "                      metadata = doj_subset_wscore[['id', 'topics_clean', 'compound_score']])\n",
    "\n",
    "\n",
    "dtm_processed_text.shape\n",
    "dtm_bigram.shape\n",
    "\n",
    "# Comment on why the bigram matrix has more dimensions than the unigram matrix\n",
    "print(\"One of the reasons the bigram matrix has more dimensions is that the number of words in the string \\nincreases after we have bigrams. Now since we have more words there are more possible combinations in our matrix\")\n",
    "\n",
    "\n",
    "# Find and print the 10 most prevelant bigrams for each of the three topics_clean\n",
    "for item in dtm_bigram[\"topics_clean\"].unique():\n",
    "    print( \"\\n\" + \"For \" + item)\n",
    "    df = dtm_bigram[dtm_bigram[\"topics_clean\"] == item]\n",
    "    get_topwords(df)"
   ]
  },
  {
   "cell_type": "markdown",
   "metadata": {},
   "source": [
    "# 4. Optional extra credit (2 points)\n",
    "\n",
    "You notice that the pharmaceutical kickbacks press release we analyzed in question 1 was for an indictment, and that in the original data, there's not a clear label for whether a press release outlines an indictment (charging someone with a crime), a conviction (convicting them after that charge either via a settlement or trial), or a sentencing (how many years of prison or supervised release a defendant is sentenced to after their conviction).\n",
    "\n",
    "You want to see if you can identify pairs of press releases where one press release is from one stage (e.g., indictment) and another is from a different stage (e.g., a sentencing).\n",
    "\n",
    "You decide that one way to approach is to find the pairwise string similarity between each of the processed press releases in `doj_subset`. There are many ways to do this, so Google for some approaches, focusing on ones that work well for entire documents rather than small strings.\n",
    "\n",
    "Find the top two pairs (so four press releases total)-- do they seem like different stages of the same crime or just press releases covering similar crimes?\n",
    "\n",
    "*They seem like different stages of the same crime by the language they are using.*"
   ]
  },
  {
   "cell_type": "code",
   "execution_count": 78,
   "metadata": {},
   "outputs": [
    {
     "name": "stdout",
     "output_type": "stream",
     "text": [
      "Document Index: 177\n",
      "solicit sexual explicit photo video minor distribut internet sentenc month prison follow year supervis releas plead guilti coercion entic minor engag sexual activ act general john cronan crimin david weiss delawar made announc sentenc judg leonard stark delawar justin gulisano emma alexand gulisano newark york charg march plead guilti sept accord admiss made connect plea agreement gulisano victim onlin victim year gulisano began request receiv sexual explicit imag video victim gulisano post sexual explicit video victim pornographi websit download post repost viewer addit pornograph websit eventu victim refus make send addit imag video gulisano respond threaten victim occas threaten post victim imag video internet threaten share imag video victim brother threaten victim life immigr custom enforc homeland secur investig delawar child predat task forc investig lauren britsch crimin child exploit obscen section ceo graham robinson delawar prosecut brought part project safe childhood nationwid initi combat grow epidem child sexual exploit abus launch attorney offic ceo project safe childhood marshal feder state local resourc better locat apprehend prosecut individu exploit children internet well identifi rescu victim inform project safe childhood pleas visit\n",
      "Document Index: 184\n",
      "year coerc sexual explicit photo video minor distribut internet plead guilti coercion entic minor engag sexual activ act general kenneth blanco crimin act david weiss delawar made announc justin gulisano newark york charg march plead guilti judg leonard stark delawar accord admiss made connect plea agreement gulisano victim onlin victim year gulisano began request receiv sexual explicit imag video victim gulisano post sexual explicit video victim pornographi websit download post repost viewer addit pornograph websit victim refus make send addit imag video gulisano respond threaten victim occas threaten post victim imag video internet threaten share imag video victim brother threaten victim life immigr custom enforc homeland secur investig delawar child predat task forc investig lauren britsch crimin child exploit obscen section ceo graham robinson delawar prosecut brought part project safe childhood nationwid initi combat grow epidem child sexual exploit abus launch attorney offic ceo project safe childhood marshal feder state local resourc better locat apprehend prosecut individu exploit children internet well identifi rescu victim inform project safe childhood pleas visit\n",
      "Document Index: 535\n",
      "church hill maryland resid sentenc today year prison follow lifetim term supervis releas entic minor engag sexual activ attempt transfer obscen materi minor announc act general kenneth blanco crimin act benjamin greenberg southern florida robert moor plead guilti march judg daniel hurley southern florida moor employ secret servic uniform assign white hous time arrest remain custodi sinc time moor sinc termin secret servic posit accord admiss made connect plea moor maintain profil social media applic provid mobil base platform exchang digit imag well voic text messag delawar state polic detect delawar child predat task forc creat profil site pose year girl moor engag number onlin chat session mobil app month period includ moor work number onlin chat moor undercov offic pose femal minor sexual natur sever occas moor sent pictur includ sexual explicit imag accord plea document arrest enforc discov moor communic minor florida moor admit communic sent sexual explicit imag entic minor send sexual explicit photo well moor engag type behavior year girl texa anoth year girl missouri moor request feder charg delawar transfer southern florida could plead guilti charg time immigr custom enforc homeland secur investig delawar child predat task forc investig austin berri crimin child exploit obscen section ceo corey steinberg southern florida prosecut delawar brought part project safe childhood nationwid initi combat grow epidem child sexual exploit abus launch attorney offic ceo project safe childhood marshal feder state local resourc better locat apprehend prosecut individu exploit children internet well identifi rescu victim inform project safe childhood pleas visit http\n",
      "Document Index: 550\n",
      "church hill maryland resid plead guilti today feder court count entic minor engag sexual activ count attempt transfer obscen materi minor announc act general kenneth blanco crimin wifredo ferrer southern florida robert moor plead guilti today judg daniel hurley southern florida moor employ secret servic uniform assign white hous time arrest remain custodi sinc time moor sinc termin secret servic posit accord admiss made connect plea moor maintain profil social media applic provid mobil base platform exchang digit imag well voic text messag delawar state polic detect delawar child predat task forc creat profil site pose year girl moor engag number onlin chat session mobil app month period includ moor work number onlin chat moor undercov offic pose femal minor sexual natur sever occas moor sent pictur includ sexual explicit imag accord plea document arrest enforc discov moor communic minor florida moor admit communic sent sexual explicit imag entic minor send sexual explicit photo well moor engag type behavior year girl texa anoth year girl missouri moor request feder charg delawar transfer southern florida could plead guilti charg time immigr custom enforc homeland secur investig delawar child predat task forc investig austin berri crimin child exploit obscen section ceo corey steinberg southern florida prosecut brought part project safe childhood nationwid initi combat grow epidem child sexual exploit abus launch attorney offic ceo project safe childhood marshal feder state local resourc better locat apprehend prosecut individu exploit children internet well identifi rescu victim inform project safe childhood pleas visit http\n"
     ]
    }
   ],
   "source": [
    "# EXTRA\n",
    "\n",
    "from sklearn.feature_extraction.text import TfidfVectorizer\n",
    "from sklearn.metrics.pairwise import cosine_similarity\n",
    "\n",
    "# Gets all the processed text from our dataframe\n",
    "texts = doj_subset_wscore['processed_text']\n",
    "\n",
    "# Creates a matrix to use\n",
    "tfidf_vectorizer = TfidfVectorizer()\n",
    "tfidf_matrix = tfidf_vectorizer.fit_transform(texts)\n",
    "\n",
    "cosine_similarities = cosine_similarity(tfidf_matrix)\n",
    "\n",
    "# Make similarity with itself 0\n",
    "np.fill_diagonal(cosine_similarities, 0)\n",
    "\n",
    "# Find indices of the maximum values\n",
    "indices = np.argpartition(cosine_similarities.flatten(), -4)[-4:]\n",
    "\n",
    "# Convert 1D indices to 2D coordinates\n",
    "top_pair_indices = np.column_stack(np.unravel_index(indices, cosine_similarities.shape))\n",
    "\n",
    "# Get the unique documents involved in these top pairs to avoid duplicates if they cross-match\n",
    "unique_indices = np.unique(top_pair_indices.flatten())\n",
    "top_documents = doj_subset_wscore.iloc[unique_indices]\n",
    "\n",
    "for index in unique_indices:\n",
    "    print(f\"Document Index: {index}\")\n",
    "    print(doj_subset_wscore.iloc[index]['processed_text'])\n",
    "\n",
    "\n"
   ]
  }
 ],
 "metadata": {
  "kernelspec": {
   "display_name": "Python 3 (ipykernel)",
   "language": "python",
   "name": "python3"
  },
  "language_info": {
   "codemirror_mode": {
    "name": "ipython",
    "version": 3
   },
   "file_extension": ".py",
   "mimetype": "text/x-python",
   "name": "python",
   "nbconvert_exporter": "python",
   "pygments_lexer": "ipython3",
   "version": "3.11.7"
  }
 },
 "nbformat": 4,
 "nbformat_minor": 4
}
